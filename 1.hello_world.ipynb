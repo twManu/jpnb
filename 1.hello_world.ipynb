{
 "cells": [
  {
   "cell_type": "markdown",
   "id": "35320699",
   "metadata": {},
   "source": [
    "# 基本使用"
   ]
  },
  {
   "cell_type": "code",
   "execution_count": 1,
   "id": "25f43130",
   "metadata": {
    "scrolled": true
   },
   "outputs": [
    {
     "name": "stdout",
     "output_type": "stream",
     "text": [
      "hello world\n"
     ]
    }
   ],
   "source": [
    "print(\"hello world\")"
   ]
  },
  {
   "cell_type": "code",
   "execution_count": 2,
   "id": "bb8f8055",
   "metadata": {},
   "outputs": [
    {
     "data": {
      "text/plain": [
       "4"
      ]
     },
     "execution_count": 2,
     "metadata": {},
     "output_type": "execute_result"
    }
   ],
   "source": [
    "a = 1\n",
    "b = 3\n",
    "a + b"
   ]
  },
  {
   "cell_type": "code",
   "execution_count": 3,
   "id": "5cffecd5",
   "metadata": {},
   "outputs": [],
   "source": [
    "import time\n",
    "time.sleep(3)"
   ]
  },
  {
   "cell_type": "markdown",
   "id": "05126531",
   "metadata": {},
   "source": [
    "## 快捷鍵"
   ]
  },
  {
   "cell_type": "markdown",
   "id": "289472d9",
   "metadata": {},
   "source": [
    "    - shift-enter 執行跳下一個單元"
   ]
  },
  {
   "cell_type": "markdown",
   "id": "f9018948",
   "metadata": {},
   "source": [
    "    - CTRL-enter 執行停在這個單元"
   ]
  },
  {
   "cell_type": "markdown",
   "id": "2dc58375",
   "metadata": {},
   "source": [
    "    - 命令模式 ESC"
   ]
  },
  {
   "cell_type": "markdown",
   "id": "b7f19920",
   "metadata": {},
   "source": [
    "        - Y, cell 切換到 code 模式 \n",
    "        - M, cell 切換到 markdown 模式 \n",
    "        - A, 當前 cell 上面添加 cell\n",
    "        - B, 當前 cell 正面添加 cell\n",
    "        - DD, 刪除當前 cell"
   ]
  },
  {
   "cell_type": "markdown",
   "id": "ddf13202",
   "metadata": {},
   "source": [
    "## 面板安裝"
   ]
  },
  {
   "cell_type": "markdown",
   "id": "3f8dbc98",
   "metadata": {},
   "source": [
    "    - pip install jupyter_contrib_nbextensions"
   ]
  },
  {
   "cell_type": "markdown",
   "id": "c09a7b79",
   "metadata": {},
   "source": [
    "    - jupyter contrib nbextensions install --user --skip-running-check"
   ]
  },
  {
   "cell_type": "markdown",
   "id": "ee46587b",
   "metadata": {},
   "source": [
    "![title](nbexternsions.png)"
   ]
  },
  {
   "cell_type": "markdown",
   "id": "41c02cab",
   "metadata": {},
   "source": [
    "## insert image"
   ]
  },
  {
   "cell_type": "markdown",
   "id": "f2d76418",
   "metadata": {},
   "source": [
    "    ![title](image.png)"
   ]
  },
  {
   "cell_type": "markdown",
   "id": "6636b830",
   "metadata": {},
   "source": [
    "![title](test.png)"
   ]
  },
  {
   "cell_type": "markdown",
   "id": "5231575b",
   "metadata": {},
   "source": [
    "## insert video"
   ]
  },
  {
   "cell_type": "markdown",
   "id": "35d19694",
   "metadata": {},
   "source": [
    "    <video controls src=\"path/to/video.mp4\"/>animation</video>"
   ]
  },
  {
   "cell_type": "markdown",
   "id": "5d266b76",
   "metadata": {},
   "source": [
    "<video controls src=\"test.mp4\"/>animation</video>"
   ]
  },
  {
   "cell_type": "markdown",
   "id": "b43ec8d9",
   "metadata": {},
   "source": [
    "## insert URL"
   ]
  },
  {
   "cell_type": "markdown",
   "id": "47dd4d11",
   "metadata": {},
   "source": [
    "    [display_name](url_here)"
   ]
  },
  {
   "cell_type": "markdown",
   "id": "44513215",
   "metadata": {},
   "source": [
    "[inserting-a-link-to-a-webpage-in-an-ipython-notebook](https://stackoverflow.com/questions/25692293/inserting-a-link-to-a-webpage-in-an-ipython-notebook)"
   ]
  },
  {
   "cell_type": "markdown",
   "id": "4a32fcff",
   "metadata": {},
   "source": [
    "## insert PDF"
   ]
  },
  {
   "cell_type": "code",
   "execution_count": 1,
   "id": "6ac68b1c",
   "metadata": {},
   "outputs": [
    {
     "data": {
      "text/html": [
       "\n",
       "        <iframe\n",
       "            width=\"800\"\n",
       "            height=\"800\"\n",
       "            src=\"test.pdf\"\n",
       "            frameborder=\"0\"\n",
       "            allowfullscreen\n",
       "        ></iframe>\n",
       "        "
      ],
      "text/plain": [
       "<IPython.lib.display.IFrame at 0x7fa8957dc0>"
      ]
     },
     "execution_count": 1,
     "metadata": {},
     "output_type": "execute_result"
    }
   ],
   "source": [
    "from IPython.display import IFrame\n",
    "IFrame(\"test.pdf\", width=800, height=800)"
   ]
  },
  {
   "cell_type": "code",
   "execution_count": null,
   "id": "10fdb9fa",
   "metadata": {},
   "outputs": [],
   "source": []
  }
 ],
 "metadata": {
  "kernelspec": {
   "display_name": "Python 3",
   "language": "python",
   "name": "python3"
  },
  "language_info": {
   "codemirror_mode": {
    "name": "ipython",
    "version": 3
   },
   "file_extension": ".py",
   "mimetype": "text/x-python",
   "name": "python",
   "nbconvert_exporter": "python",
   "pygments_lexer": "ipython3",
   "version": "3.8.0"
  },
  "toc": {
   "base_numbering": 1,
   "nav_menu": {},
   "number_sections": true,
   "sideBar": true,
   "skip_h1_title": false,
   "title_cell": "Table of Contents",
   "title_sidebar": "Contents",
   "toc_cell": false,
   "toc_position": {},
   "toc_section_display": true,
   "toc_window_display": true
  }
 },
 "nbformat": 4,
 "nbformat_minor": 5
}
