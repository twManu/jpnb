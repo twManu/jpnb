{
 "cells": [
  {
   "cell_type": "markdown",
   "id": "cf64e76b",
   "metadata": {},
   "source": [
    "# 將程序當做變數"
   ]
  },
  {
   "cell_type": "code",
   "execution_count": 2,
   "id": "4564e612",
   "metadata": {},
   "outputs": [
    {
     "name": "stdout",
     "output_type": "stream",
     "text": [
      "hello John\n"
     ]
    }
   ],
   "source": [
    "def greet(name):\n",
    "    return \"hello \"+name\n",
    "\n",
    "greet_someone = greet\n",
    "print(greet_someone(\"John\"))"
   ]
  },
  {
   "cell_type": "markdown",
   "id": "6661cff2",
   "metadata": {},
   "source": [
    "# 將程序當做變傳給另一個程序"
   ]
  },
  {
   "cell_type": "code",
   "execution_count": 5,
   "id": "a41b14e2",
   "metadata": {},
   "outputs": [
    {
     "name": "stdout",
     "output_type": "stream",
     "text": [
      "Hello John\n"
     ]
    }
   ],
   "source": [
    "def greet(name):\n",
    "   return \"Hello \" + name\n",
    "\n",
    "def call_func(func):\n",
    "    other_name = \"John\"\n",
    "    return func(other_name)\n",
    "\n",
    "print(call_func(greet))"
   ]
  },
  {
   "cell_type": "markdown",
   "id": "48f7c9f0",
   "metadata": {},
   "source": [
    "# 將程序當成回傳值"
   ]
  },
  {
   "cell_type": "code",
   "execution_count": 6,
   "id": "4b63927b",
   "metadata": {},
   "outputs": [
    {
     "name": "stdout",
     "output_type": "stream",
     "text": [
      "Hello there!\n"
     ]
    }
   ],
   "source": [
    "def compose_greet_func():\n",
    "    def get_message():\n",
    "        return \"Hello there!\"\n",
    "\n",
    "    return get_message\n",
    "\n",
    "greet = compose_greet_func()\n",
    "print(greet())"
   ]
  },
  {
   "cell_type": "markdown",
   "id": "b38d609f",
   "metadata": {},
   "source": [
    "# 接受程序, 並傳回程序"
   ]
  },
  {
   "cell_type": "code",
   "execution_count": 7,
   "id": "c783c033",
   "metadata": {},
   "outputs": [
    {
     "name": "stdout",
     "output_type": "stream",
     "text": [
      "<p>lorem ipsum, John dolor sit amet</p>\n"
     ]
    }
   ],
   "source": [
    "def get_text(name):\n",
    "   return \"lorem ipsum, {0} dolor sit amet\".format(name)\n",
    "\n",
    "# p_decorate接受程序 func, 並傳回程序 func_wrapper\n",
    " def p_decorate(func):\n",
    "   def func_wrapper(name):\n",
    "       return \"<p>{0}</p>\".format(func(name))\n",
    "   return func_wrapper\n",
    "\n",
    "my_get_text = p_decorate(get_text)\n",
    "\n",
    "print(my_get_text(\"John\"))"
   ]
  },
  {
   "cell_type": "markdown",
   "id": "4f0127dc",
   "metadata": {},
   "source": [
    "# decorator 接受程序, 並傳回程序"
   ]
  },
  {
   "cell_type": "code",
   "execution_count": 14,
   "id": "40218764",
   "metadata": {},
   "outputs": [
    {
     "name": "stdout",
     "output_type": "stream",
     "text": [
      "decorator then decorated, <p>lorem ipsum, John dolor sit amet</p>\n",
      "for inner of decorator, <p>No idea what John is talking about</p>\n"
     ]
    }
   ],
   "source": [
    "def p_deco(f1):\n",
    "   def func_wrap(name, msg='decorator then decorated'):\n",
    "       return \"{0}, <p>{1}</p>\".format(msg, f1(name))\n",
    "   return func_wrap\n",
    "\n",
    "# get_a_text is decorated by p_deco and passed as a func-arg of p_deco\n",
    "# the parameter is for inner of decorator\n",
    "@p_deco\n",
    "def get_a_text(nn):\n",
    "   return \"lorem ipsum, {0} dolor sit amet\".format(nn)\n",
    "\n",
    "# get_b_text is decorated by p_deco and passed as a func-arg of p_deco\n",
    "@p_deco\n",
    "def get_b_text(n1):\n",
    "   return \"No idea what {0} is talking about\".format(n1)\n",
    "\n",
    "print(get_a_text(\"John\"))\n",
    "print(get_b_text(\"John\", 'for inner of decorator'))"
   ]
  },
  {
   "cell_type": "markdown",
   "id": "3b8d9352",
   "metadata": {},
   "source": [
    "# decorator 有序性:內部先合併,外部先執行"
   ]
  },
  {
   "cell_type": "code",
   "execution_count": 16,
   "id": "567b7d0c",
   "metadata": {},
   "outputs": [
    {
     "name": "stdout",
     "output_type": "stream",
     "text": [
      "To use function 'warp_2'\n",
      "To use function 'dog_bark', Now the Unix time is 1619414875\n",
      "Bark !!!\n"
     ]
    }
   ],
   "source": [
    "def print_func_name(func):\n",
    "    def warp_1():\n",
    "        print(\"To use function '{}'\".format(func.__name__))\n",
    "        func()\n",
    "    return warp_1\n",
    "\n",
    "\n",
    "def print_time(func):\n",
    "    import time\n",
    "    def warp_2():\n",
    "        print(\"To use function '{0}', Now the Unix time is {1}\".format(func.__name__, int(time.time())))\n",
    "        func()\n",
    "    return warp_2\n",
    "\n",
    "\n",
    "@print_func_name\n",
    "@print_time\n",
    "def dog_bark():\n",
    "    print(\"Bark !!!\")\n",
    "\n",
    "\n",
    "\n",
    "if __name__ == \"__main__\":\n",
    "    dog_bark()"
   ]
  },
  {
   "cell_type": "markdown",
   "id": "03aa8530",
   "metadata": {},
   "source": [
    "# decorator 可以是個 Class"
   ]
  },
  {
   "cell_type": "code",
   "execution_count": 17,
   "id": "10f9fb66",
   "metadata": {},
   "outputs": [
    {
     "name": "stdout",
     "output_type": "stream",
     "text": [
      "10\n",
      "Bark !!!\n",
      "I can pee very hard......\n"
     ]
    }
   ],
   "source": [
    "class Dog:\n",
    "    def __init__(self, func):\n",
    "        self.age = 10\n",
    "        self.talent = func\n",
    "\n",
    "    def bark(self):\n",
    "        print(\"Bark !!!\")\n",
    "\n",
    "@Dog\n",
    "def dog_can_pee():\n",
    "    print(\"I can pee very hard......\")\n",
    "\n",
    "\n",
    "\n",
    "if __name__ == \"__main__\":\n",
    "    dog = dog_can_pee\n",
    "\n",
    "    print(dog.age)\n",
    "    # > 10\n",
    "\n",
    "    dog.bark()\n",
    "    # > Bark !!!\n",
    "\n",
    "    dog.talent()\n",
    "    # > I can pee very hard......"
   ]
  },
  {
   "cell_type": "code",
   "execution_count": null,
   "id": "2f270c8e",
   "metadata": {},
   "outputs": [],
   "source": []
  }
 ],
 "metadata": {
  "kernelspec": {
   "display_name": "Python 3",
   "language": "python",
   "name": "python3"
  },
  "language_info": {
   "codemirror_mode": {
    "name": "ipython",
    "version": 3
   },
   "file_extension": ".py",
   "mimetype": "text/x-python",
   "name": "python",
   "nbconvert_exporter": "python",
   "pygments_lexer": "ipython3",
   "version": "3.8.0"
  },
  "toc": {
   "base_numbering": 1,
   "nav_menu": {},
   "number_sections": true,
   "sideBar": true,
   "skip_h1_title": false,
   "title_cell": "Table of Contents",
   "title_sidebar": "Contents",
   "toc_cell": false,
   "toc_position": {},
   "toc_section_display": true,
   "toc_window_display": true
  }
 },
 "nbformat": 4,
 "nbformat_minor": 5
}
