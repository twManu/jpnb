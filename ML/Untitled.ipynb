{
 "cells": [
  {
   "cell_type": "markdown",
   "id": "41cb28c0",
   "metadata": {},
   "source": [
    "# 吳恩達"
   ]
  },
  {
   "cell_type": "markdown",
   "id": "f188ebe3",
   "metadata": {},
   "source": [
    "## Welcome to Machine Learning"
   ]
  },
  {
   "cell_type": "markdown",
   "id": "f4e3630d",
   "metadata": {},
   "source": [
    "<video controls src=\"video/yt1s.com - 1机器学习Machine Learning 吴恩达Andrew Ng中文字幕版Welcome to Machine Learning中英_360p.mp4\"/>animation</video>"
   ]
  },
  {
   "cell_type": "markdown",
   "id": "8d5e379f",
   "metadata": {},
   "source": [
    "## Welcome"
   ]
  },
  {
   "cell_type": "markdown",
   "id": "136d2ce1",
   "metadata": {},
   "source": [
    "<video controls src=\"video/yt1s.com - 2机器学习Machine Learning 吴恩达Andrew Ng中文字幕版Welcome中英_480p.mp4\"/>animation</video>"
   ]
  },
  {
   "cell_type": "markdown",
   "id": "c3559030",
   "metadata": {},
   "source": [
    "## What is Machine Leaning"
   ]
  },
  {
   "cell_type": "markdown",
   "id": "6af717c2",
   "metadata": {},
   "source": [
    "<video controls src=\"video/yt1s.com - 3机器学习Machine Learning 吴恩达Andrew Ng中文字幕版What is Machine Learning中英_480p.mp4\"/>animation</video>"
   ]
  },
  {
   "cell_type": "markdown",
   "id": "befd68d4",
   "metadata": {},
   "source": [
    "## Supervised Leaning"
   ]
  },
  {
   "cell_type": "markdown",
   "id": "7e1c9b33",
   "metadata": {},
   "source": [
    "<video controls src=\"video/yt1s.com - 4机器学习Machine Learning 吴恩达Andrew Ng中文字幕版Supervised Learning 中英_480p.mp4\"/>animation</video>"
   ]
  },
  {
   "cell_type": "markdown",
   "id": "08de8214",
   "metadata": {},
   "source": [
    "## Unsupervised Leaning"
   ]
  },
  {
   "cell_type": "markdown",
   "id": "98755d14",
   "metadata": {},
   "source": [
    "<video controls src=\"video/yt1s.com - 5机器学习Machine Learning 吴恩达Andrew Ng中文字幕版Unsupervised Learning 中文_480p.mp4\"/>animation</video>"
   ]
  },
  {
   "cell_type": "markdown",
   "id": "7ed557d9",
   "metadata": {},
   "source": [
    "## Model representation"
   ]
  },
  {
   "cell_type": "markdown",
   "id": "a9f62459",
   "metadata": {},
   "source": [
    "<video controls src=\"video/yt1s.com - 6机器学习Machine Learning 吴恩达Andrew Ng中文字幕版Model Representation 中文_480p.mp4\"/>animation</video>"
   ]
  },
  {
   "cell_type": "markdown",
   "id": "880d5c21",
   "metadata": {},
   "source": [
    "## Cost function"
   ]
  },
  {
   "cell_type": "markdown",
   "id": "95028207",
   "metadata": {},
   "source": [
    "<video controls src=\"video/yt1s.com - 7机器学习Machine Learning 吴恩达Andrew Ng中文字幕版Cost Function 中文_480p.mp4\"/>animation</video>"
   ]
  },
  {
   "cell_type": "markdown",
   "id": "1e2925e2",
   "metadata": {},
   "source": [
    "## Cost function intuition I"
   ]
  },
  {
   "cell_type": "markdown",
   "id": "4ac4ed13",
   "metadata": {},
   "source": [
    "<video controls src=\"video/yt1s.com - 8机器学习Machine Learning 吴恩达Andrew Ng中文字幕版Cost Function   Intuition I 中_480p.mp4\"/>animation</video>"
   ]
  },
  {
   "cell_type": "markdown",
   "id": "9bc74210",
   "metadata": {},
   "source": [
    "## Cost function intuition II"
   ]
  },
  {
   "cell_type": "markdown",
   "id": "0e26e3f0",
   "metadata": {},
   "source": [
    "<video controls src=\"video/yt1s.com - 9机器学习Machine Learning 吴恩达Andrew Ng中文字幕版 Cost Function   Intuition II_480p.mp4\"/>animation</video>"
   ]
  },
  {
   "cell_type": "markdown",
   "id": "7fda7985",
   "metadata": {},
   "source": [
    "## Gradient descent"
   ]
  },
  {
   "cell_type": "markdown",
   "id": "3c2c5f2c",
   "metadata": {},
   "source": [
    "<video controls src=\"video/yt1s.com - 10机器学习Machine Learning 吴恩达Andrew Ng中文字幕版Gradient Descent 中文_480p.mp4\"/>animation</video>"
   ]
  },
  {
   "cell_type": "markdown",
   "id": "d8635ade",
   "metadata": {},
   "source": [
    "## Linear regression with one variable - Gradient descent intuition"
   ]
  },
  {
   "cell_type": "markdown",
   "id": "98e3dca3",
   "metadata": {},
   "source": [
    "<video controls src=\"video/yt1s.com - 11机器学习Machine Learning 吴恩达Andrew Ng中文字幕版Gradient Descent Intuition 中_480p.mp4\"/>animation</video>"
   ]
  },
  {
   "cell_type": "markdown",
   "id": "13db33ee",
   "metadata": {},
   "source": [
    "## Linear regression with one variable - Gradient descent for linear regression"
   ]
  },
  {
   "cell_type": "markdown",
   "id": "b647dc02",
   "metadata": {},
   "source": [
    "<video controls src=\"video/yt1s.com - 12机器学习Machine Learning 吴恩达Andrew Ng中文字幕版 GradientDescentForLinearRegre_480p.mp4\"/>animation</video>"
   ]
  },
  {
   "cell_type": "markdown",
   "id": "52b6e929",
   "metadata": {},
   "source": [
    "## Linear Algebra review - Matrices and vectors"
   ]
  },
  {
   "cell_type": "markdown",
   "id": "e7638692",
   "metadata": {},
   "source": [
    "<video controls src=\"video/yt1s.com - 13机器学习Machine Learning 吴恩达Andrew Ng中文字幕版 Matrices and Vectors中文_480p.mp4\"/>animation</video>"
   ]
  },
  {
   "cell_type": "markdown",
   "id": "b412c7fc",
   "metadata": {},
   "source": [
    "## Linear Algebra review - Addition and scalar multiplication"
   ]
  },
  {
   "cell_type": "markdown",
   "id": "5a3ca945",
   "metadata": {},
   "source": [
    "<video controls src=\"video/yt1s.com - 14机器学习Machine Learning 吴恩达Andrew Ng中文字幕版 Addition and Scalar Multiplic_480p.mp4\"/>animation</video>"
   ]
  },
  {
   "cell_type": "markdown",
   "id": "a5e353f0",
   "metadata": {},
   "source": [
    "## Linear Algebra review - Matrix-vector multiplication"
   ]
  },
  {
   "cell_type": "markdown",
   "id": "a00eb96f",
   "metadata": {},
   "source": [
    "<video controls src=\"video/yt1s.com - 15机器学习Machine Learning 吴恩达Andrew Ng中文字幕版 Matrix Vector Multiplication_480p.mp4\"/>animation</video>"
   ]
  },
  {
   "cell_type": "markdown",
   "id": "0d674911",
   "metadata": {},
   "source": [
    "## Linear Algebra review - Matrix-matrix multiplication"
   ]
  },
  {
   "cell_type": "markdown",
   "id": "72df9360",
   "metadata": {},
   "source": [
    "<video controls src=\"video/yt1s.com - 16机器学习Machine Learning 吴恩达Andrew Ng中文字幕版Matrix Matrix Multiplication_480p.mp4\"/>animation</video>"
   ]
  },
  {
   "cell_type": "markdown",
   "id": "d6493a7e",
   "metadata": {},
   "source": [
    "## Linear Algebra review - Matrix-matrix multiplication properties"
   ]
  },
  {
   "cell_type": "markdown",
   "id": "831e4ec3",
   "metadata": {},
   "source": [
    "<video controls src=\"video/yt1s.com - 17机器学习Machine Learning 吴恩达Andrew Ng中文字幕版Matrix Multiplication Propert_480p.mp4\"/>animation</video>"
   ]
  },
  {
   "cell_type": "markdown",
   "id": "9ab454f6",
   "metadata": {},
   "source": [
    "## Linear Algebra review - Inverse and transpose"
   ]
  },
  {
   "cell_type": "markdown",
   "id": "66b40114",
   "metadata": {},
   "source": [
    "<video controls src=\"video/yt1s.com - 18机器学习Machine Learning 吴恩达Andrew Ng中文字幕版Inverse and Transpose中文_480p.mp4\"/>animation</video>"
   ]
  },
  {
   "cell_type": "markdown",
   "id": "716aac19",
   "metadata": {},
   "source": [
    "## Linear Regression with multiple variables - Multiple features"
   ]
  },
  {
   "cell_type": "markdown",
   "id": "3bf2b8c3",
   "metadata": {},
   "source": [
    "<video controls src=\"video/yt1s.com - 19机器学习Machine Learning 吴恩达Andrew Ng中文字幕版Multiple Features 中文_480p.mp4\"/>animation</video>"
   ]
  },
  {
   "cell_type": "markdown",
   "id": "11dd114e",
   "metadata": {},
   "source": [
    "## Linear Regression with multiple variables - Gradient descent for multiple variables"
   ]
  },
  {
   "cell_type": "markdown",
   "id": "fb3a6945",
   "metadata": {},
   "source": [
    "<video controls src=\"video/yt1s.com - 20机器学习Machine Learning 吴恩达Andrew Ng中文字幕版Gradient Descent for Multiple_480p.mp4\"/>animation</video>"
   ]
  },
  {
   "cell_type": "code",
   "execution_count": null,
   "id": "072b83f3",
   "metadata": {},
   "outputs": [],
   "source": []
  }
 ],
 "metadata": {
  "kernelspec": {
   "display_name": "Python 3",
   "language": "python",
   "name": "python3"
  },
  "language_info": {
   "codemirror_mode": {
    "name": "ipython",
    "version": 3
   },
   "file_extension": ".py",
   "mimetype": "text/x-python",
   "name": "python",
   "nbconvert_exporter": "python",
   "pygments_lexer": "ipython3",
   "version": "3.8.0"
  },
  "toc": {
   "base_numbering": 1,
   "nav_menu": {},
   "number_sections": true,
   "sideBar": true,
   "skip_h1_title": false,
   "title_cell": "Table of Contents",
   "title_sidebar": "Contents",
   "toc_cell": false,
   "toc_position": {},
   "toc_section_display": true,
   "toc_window_display": true
  }
 },
 "nbformat": 4,
 "nbformat_minor": 5
}
