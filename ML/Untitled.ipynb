{
 "cells": [
  {
   "cell_type": "markdown",
   "id": "8c28c0a2",
   "metadata": {},
   "source": [
    "# 吳恩達"
   ]
  },
  {
   "cell_type": "markdown",
   "id": "072e09cf",
   "metadata": {},
   "source": [
    "## Welcome to Machine Learning"
   ]
  },
  {
   "cell_type": "markdown",
   "id": "5ab0cf4b",
   "metadata": {},
   "source": [
    "<video controls src=\"video/yt1s.com - 1机器学习Machine Learning 吴恩达Andrew Ng中文字幕版Welcome to Machine Learning中英_360p.mp4\"/>animation</video>"
   ]
  },
  {
   "cell_type": "markdown",
   "id": "a6051b9c",
   "metadata": {},
   "source": [
    "## Welcome"
   ]
  },
  {
   "cell_type": "markdown",
   "id": "7506953c",
   "metadata": {},
   "source": [
    "<video controls src=\"video/yt1s.com - 2机器学习Machine Learning 吴恩达Andrew Ng中文字幕版Welcome中英_480p.mp4\"/>animation</video>"
   ]
  },
  {
   "cell_type": "markdown",
   "id": "f6abc141",
   "metadata": {},
   "source": [
    "## What is Machine Leaning"
   ]
  },
  {
   "cell_type": "markdown",
   "id": "3cb0d1f1",
   "metadata": {},
   "source": [
    "<video controls src=\"video/yt1s.com - 3机器学习Machine Learning 吴恩达Andrew Ng中文字幕版What is Machine Learning中英_480p.mp4\"/>animation</video>"
   ]
  },
  {
   "cell_type": "markdown",
   "id": "1d7bc3f0",
   "metadata": {},
   "source": [
    "## Supervised Leaning"
   ]
  },
  {
   "cell_type": "markdown",
   "id": "f2fdc06a",
   "metadata": {},
   "source": [
    "<video controls src=\"video/yt1s.com - 4机器学习Machine Learning 吴恩达Andrew Ng中文字幕版Supervised Learning 中英_480p.mp4\"/>animation</video>"
   ]
  },
  {
   "cell_type": "markdown",
   "id": "58acdb35",
   "metadata": {},
   "source": [
    "## Unsupervised Leaning"
   ]
  },
  {
   "cell_type": "markdown",
   "id": "51621aab",
   "metadata": {},
   "source": [
    "<video controls src=\"video/yt1s.com - 5机器学习Machine Learning 吴恩达Andrew Ng中文字幕版Unsupervised Learning 中文_480p.mp4\"/>animation</video>"
   ]
  },
  {
   "cell_type": "markdown",
   "id": "5a29f1c0",
   "metadata": {},
   "source": [
    "## Model representation"
   ]
  },
  {
   "cell_type": "markdown",
   "id": "b107b869",
   "metadata": {},
   "source": [
    "<video controls src=\"video/yt1s.com - 6机器学习Machine Learning 吴恩达Andrew Ng中文字幕版Model Representation 中文_480p.mp4\"/>animation</video>"
   ]
  },
  {
   "cell_type": "markdown",
   "id": "599e61fe",
   "metadata": {},
   "source": [
    "## Cost function"
   ]
  },
  {
   "cell_type": "markdown",
   "id": "f14b9ff7",
   "metadata": {},
   "source": [
    "<video controls src=\"video/yt1s.com - 7机器学习Machine Learning 吴恩达Andrew Ng中文字幕版Cost Function 中文_480p.mp4\"/>animation</video>"
   ]
  },
  {
   "cell_type": "markdown",
   "id": "9311d437",
   "metadata": {},
   "source": [
    "## Cost function intuition I"
   ]
  },
  {
   "cell_type": "markdown",
   "id": "74b6f302",
   "metadata": {},
   "source": [
    "<video controls src=\"video/yt1s.com - 8机器学习Machine Learning 吴恩达Andrew Ng中文字幕版Cost Function   Intuition I 中_480p.mp4\"/>animation</video>"
   ]
  },
  {
   "cell_type": "markdown",
   "id": "ef4fdd79",
   "metadata": {},
   "source": [
    "## Cost function intuition II"
   ]
  },
  {
   "cell_type": "markdown",
   "id": "c739b253",
   "metadata": {},
   "source": [
    "<video controls src=\"video/yt1s.com - 9机器学习Machine Learning 吴恩达Andrew Ng中文字幕版 Cost Function   Intuition II_480p.mp4\"/>animation</video>"
   ]
  },
  {
   "cell_type": "markdown",
   "id": "2da9c329",
   "metadata": {},
   "source": [
    "## Gradient descent"
   ]
  },
  {
   "cell_type": "markdown",
   "id": "a1747eb9",
   "metadata": {},
   "source": [
    "<video controls src=\"video/yt1s.com - 10机器学习Machine Learning 吴恩达Andrew Ng中文字幕版Gradient Descent 中文_480p.mp4\"/>animation</video>"
   ]
  },
  {
   "cell_type": "code",
   "execution_count": null,
   "id": "d8cc8e4a",
   "metadata": {},
   "outputs": [],
   "source": []
  }
 ],
 "metadata": {
  "kernelspec": {
   "display_name": "Python 3",
   "language": "python",
   "name": "python3"
  },
  "language_info": {
   "codemirror_mode": {
    "name": "ipython",
    "version": 3
   },
   "file_extension": ".py",
   "mimetype": "text/x-python",
   "name": "python",
   "nbconvert_exporter": "python",
   "pygments_lexer": "ipython3",
   "version": "3.8.0"
  },
  "toc": {
   "base_numbering": 1,
   "nav_menu": {},
   "number_sections": true,
   "sideBar": true,
   "skip_h1_title": false,
   "title_cell": "Table of Contents",
   "title_sidebar": "Contents",
   "toc_cell": false,
   "toc_position": {},
   "toc_section_display": true,
   "toc_window_display": false
  }
 },
 "nbformat": 4,
 "nbformat_minor": 5
}
