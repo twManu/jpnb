{
 "cells": [
  {
   "cell_type": "markdown",
   "id": "3f9b35b1",
   "metadata": {},
   "source": [
    "# Model representation"
   ]
  },
  {
   "cell_type": "markdown",
   "id": "79c86557",
   "metadata": {},
   "source": [
    "<video controls src=\"video/yt1s.com - 6机器学习Machine Learning 吴恩达Andrew Ng中文字幕版Model Representation 中文_480p.mp4\"/>animation</video>"
   ]
  },
  {
   "cell_type": "markdown",
   "id": "b2ba41d0",
   "metadata": {},
   "source": [
    "# Cost function"
   ]
  },
  {
   "cell_type": "markdown",
   "id": "2314409f",
   "metadata": {},
   "source": [
    "<video controls src=\"video/yt1s.com - 7机器学习Machine Learning 吴恩达Andrew Ng中文字幕版Cost Function 中文_480p.mp4\"/>animation</video>"
   ]
  },
  {
   "cell_type": "markdown",
   "id": "3f9b35b1",
   "metadata": {},
   "source": [
    "# Cost function intuition I"
   ]
  },
  {
   "cell_type": "markdown",
   "id": "aec394f0",
   "metadata": {},
   "source": [
    "<video controls src=\"video/yt1s.com - 8机器学习Machine Learning 吴恩达Andrew Ng中文字幕版Cost Function   Intuition I 中_480p.mp4\"/>animation</video>"
   ]
  },
  {
   "cell_type": "markdown",
   "id": "78cb24d4",
   "metadata": {},
   "source": [
    "# Cost function intuition II"
   ]
  },
  {
   "cell_type": "markdown",
   "id": "b9dbae86",
   "metadata": {},
   "source": [
    "<video controls src=\"video/yt1s.com - 9机器学习Machine Learning 吴恩达Andrew Ng中文字幕版 Cost Function   Intuition II_480p.mp4\"/>animation</video>"
   ]
  },
  {
   "cell_type": "markdown",
   "id": "325a14ab",
   "metadata": {},
   "source": [
    "# Gradient descent"
   ]
  },
  {
   "cell_type": "markdown",
   "id": "6348a695",
   "metadata": {},
   "source": [
    "## column equal"
   ]
  },
  {
   "cell_type": "markdown",
   "id": "4a2ad56e",
   "metadata": {},
   "source": [
    "## learning rate"
   ]
  },
  {
   "cell_type": "markdown",
   "id": "c29ba33b",
   "metadata": {},
   "source": [
    "## simultaneous update"
   ]
  },
  {
   "cell_type": "markdown",
   "id": "0baafed1",
   "metadata": {},
   "source": [
    "<video controls src=\"video/yt1s.com - 10机器学习Machine Learning 吴恩达Andrew Ng中文字幕版Gradient Descent 中文_480p.mp4\"/>animation</video>"
   ]
  },
  {
   "cell_type": "markdown",
   "id": "1ed596c8",
   "metadata": {},
   "source": [
    "## gradient descent algorithm\n",
    "![title](pic/gd.png)"
   ]
  },
  {
   "cell_type": "markdown",
   "id": "d42b498e",
   "metadata": {},
   "source": [
    "# Gradient descent intuition"
   ]
  },
  {
   "cell_type": "markdown",
   "id": "cc080e53",
   "metadata": {},
   "source": [
    "<video controls src=\"video/yt1s.com - 11机器学习Machine Learning 吴恩达Andrew Ng中文字幕版Gradient Descent Intuition 中_480p.mp4\"/>animation</video>"
   ]
  },
  {
   "cell_type": "markdown",
   "id": "2879b580",
   "metadata": {},
   "source": [
    "## learning rate\n",
    "![title](pic/gdSlope.png)"
   ]
  },
  {
   "cell_type": "markdown",
   "id": "adbadfaa",
   "metadata": {},
   "source": [
    "# Gradient descent for linear regression"
   ]
  },
  {
   "cell_type": "markdown",
   "id": "ea7bc674",
   "metadata": {},
   "source": [
    "<video controls src=\"video/yt1s.com - 12机器学习Machine Learning 吴恩达Andrew Ng中文字幕版 GradientDescentForLinearRegre_480p.mp4\"/>animation</video>"
   ]
  },
  {
   "cell_type": "markdown",
   "id": "d4c8be77",
   "metadata": {},
   "source": [
    "## gradient descent algorithm\n",
    "![title](pic/gdAlgorithm.png)"
   ]
  }
 ],
 "metadata": {
  "kernelspec": {
   "display_name": "Python 3",
   "language": "python",
   "name": "python3"
  },
  "language_info": {
   "codemirror_mode": {
    "name": "ipython",
    "version": 3
   },
   "file_extension": ".py",
   "mimetype": "text/x-python",
   "name": "python",
   "nbconvert_exporter": "python",
   "pygments_lexer": "ipython3",
   "version": "3.8.0"
  },
  "toc": {
   "base_numbering": 1,
   "nav_menu": {},
   "number_sections": true,
   "sideBar": true,
   "skip_h1_title": false,
   "title_cell": "Table of Contents",
   "title_sidebar": "Contents",
   "toc_cell": false,
   "toc_position": {
    "height": "calc(100% - 180px)",
    "left": "10px",
    "top": "150px",
    "width": "371px"
   },
   "toc_section_display": true,
   "toc_window_display": true
  }
 },
 "nbformat": 4,
 "nbformat_minor": 5
}
