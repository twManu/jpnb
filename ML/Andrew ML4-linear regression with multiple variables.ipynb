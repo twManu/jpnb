{
 "cells": [
  {
   "cell_type": "markdown",
   "id": "eca16e91",
   "metadata": {},
   "source": [
    "# Multiple features"
   ]
  },
  {
   "cell_type": "markdown",
   "id": "0f0be8e0",
   "metadata": {},
   "source": [
    "<video controls src=\"video/yt1s.com - 19机器学习Machine Learning 吴恩达Andrew Ng中文字幕版Multiple Features 中文_480p.mp4\"/>animation</video>"
   ]
  },
  {
   "cell_type": "markdown",
   "id": "f2c21a81",
   "metadata": {},
   "source": [
    "## multiple features (feature j of i-th training sample)\n",
    "![title](pic/multiFeatures.png)"
   ]
  },
  {
   "cell_type": "markdown",
   "id": "b2699f99",
   "metadata": {},
   "source": [
    "## multiple features formula\n",
    "![title](pic/multiFeature2.png)"
   ]
  },
  {
   "cell_type": "markdown",
   "id": "4d6fb97d",
   "metadata": {},
   "source": [
    "# Gradient descent for multiple variables"
   ]
  },
  {
   "cell_type": "markdown",
   "id": "14fb00b3",
   "metadata": {},
   "source": [
    "<video controls src=\"video/yt1s.com - 20机器学习Machine Learning 吴恩达Andrew Ng中文字幕版Gradient Descent for Multiple_480p.mp4\"/>animation</video>"
   ]
  },
  {
   "cell_type": "markdown",
   "id": "8b092e2a",
   "metadata": {},
   "source": [
    "## Cost function of multiple feature linear regression\n",
    "![title](pic/linearRegressionCostFunctionM.png)"
   ]
  },
  {
   "cell_type": "markdown",
   "id": "cf101077",
   "metadata": {},
   "source": [
    "## Gradient Descent of multiple feature linear regression\n",
    "![title](pic/linearRegressionGradientDescentM.png)"
   ]
  },
  {
   "cell_type": "markdown",
   "id": "62dc2359",
   "metadata": {},
   "source": [
    "# Gradient descent in practice I: Feature Scaling"
   ]
  },
  {
   "cell_type": "markdown",
   "id": "b03b7e73",
   "metadata": {},
   "source": [
    "<video controls src=\"video/yt1s.com - 21机器学习Machine Learning 吴恩达Andrew Ng中文字幕版Gradient Descent in Practice_480p.mp4\"/>animation</video>"
   ]
  },
  {
   "cell_type": "markdown",
   "id": "6285b67a",
   "metadata": {},
   "source": [
    "## feature scaling (接近大小收歛快)\n",
    "![title](pic/featureScaling.png)"
   ]
  },
  {
   "cell_type": "markdown",
   "id": "4e0648de",
   "metadata": {},
   "source": [
    "## mean normalization\n",
    "![title](pic/meanNormalization.png)"
   ]
  },
  {
   "cell_type": "markdown",
   "id": "ccf76e95",
   "metadata": {},
   "source": [
    "# Gradient descent in practice II: Learning rate"
   ]
  },
  {
   "cell_type": "markdown",
   "id": "72655c13",
   "metadata": {},
   "source": [
    "## 選擇 3x 的增量，到失敗前最大的 learning rate"
   ]
  },
  {
   "cell_type": "markdown",
   "id": "e47076e3",
   "metadata": {},
   "source": [
    "<video controls src=\"video/yt1s.com - 22机器学习Machine Learning 吴恩达Andrew Ng中文字幕版Gradient Descent in Practice_480p.mp4\"/>animation</video>"
   ]
  },
  {
   "cell_type": "markdown",
   "id": "6869d79b",
   "metadata": {},
   "source": [
    "# Features and polynominal regression"
   ]
  },
  {
   "cell_type": "markdown",
   "id": "991b0ed7",
   "metadata": {},
   "source": [
    "<video controls src=\"video/yt1s.com - 23机器学习Machine Learning 吴恩达Andrew Ng中文字幕版 Features and Polynomial Regre_480p.mp4\"/>animation</video>"
   ]
  },
  {
   "cell_type": "markdown",
   "id": "54ff4a8d",
   "metadata": {},
   "source": [
    "# Normal equation"
   ]
  },
  {
   "cell_type": "markdown",
   "id": "8721419f",
   "metadata": {},
   "source": [
    "<video controls src=\"video/yt1s.com - 24机器学习Machine Learning 吴恩达Andrew Ng中文字幕版Normal Equation 中英Av9912938P24_480p.mp4\"/>animation</video>"
   ]
  },
  {
   "cell_type": "markdown",
   "id": "9589e4a4",
   "metadata": {},
   "source": [
    "## formula of normal equation\n",
    "![title](pic/optimizeTheta.png)"
   ]
  },
  {
   "cell_type": "markdown",
   "id": "889052b9",
   "metadata": {},
   "source": [
    "## gradient descent vs. normal equation (<10^5)\n",
    "![title](pic/gdVSnormalEquation.png)"
   ]
  },
  {
   "cell_type": "markdown",
   "id": "e559bb50",
   "metadata": {},
   "source": [
    "# Normal equation and non-invertibility"
   ]
  },
  {
   "cell_type": "markdown",
   "id": "c2ac4cc0",
   "metadata": {},
   "source": [
    "<video controls src=\"video/yt1s.com - 25机器学习Machine Learning 吴恩达Andrew Ng中文字幕版Normal Equation Noninvertibil_480p.mp4\"/>animation</video>"
   ]
  },
  {
   "cell_type": "markdown",
   "id": "0a2e4d03",
   "metadata": {},
   "source": [
    "## feature redundancy\n",
    "## 範例少於特色"
   ]
  }
 ],
 "metadata": {
  "kernelspec": {
   "display_name": "Python 3",
   "language": "python",
   "name": "python3"
  },
  "language_info": {
   "codemirror_mode": {
    "name": "ipython",
    "version": 3
   },
   "file_extension": ".py",
   "mimetype": "text/x-python",
   "name": "python",
   "nbconvert_exporter": "python",
   "pygments_lexer": "ipython3",
   "version": "3.8.0"
  },
  "toc": {
   "base_numbering": 1,
   "nav_menu": {},
   "number_sections": true,
   "sideBar": true,
   "skip_h1_title": false,
   "title_cell": "Table of Contents",
   "title_sidebar": "Contents",
   "toc_cell": false,
   "toc_position": {},
   "toc_section_display": true,
   "toc_window_display": true
  }
 },
 "nbformat": 4,
 "nbformat_minor": 5
}
