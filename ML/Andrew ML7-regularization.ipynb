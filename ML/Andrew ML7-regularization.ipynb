{
 "cells": [
  {
   "cell_type": "markdown",
   "metadata": {
    "toc": true
   },
   "source": [
    "<h1>Table of Contents<span class=\"tocSkip\"></span></h1>\n",
    "<div class=\"toc\"><ul class=\"toc-item\"><li><span><a href=\"#The-problem-of-overfitting\" data-toc-modified-id=\"The-problem-of-overfitting-1\"><span class=\"toc-item-num\">1&nbsp;&nbsp;</span>The problem of overfitting</a></span><ul class=\"toc-item\"><li><span><a href=\"#The-problem\" data-toc-modified-id=\"The-problem-1.1\"><span class=\"toc-item-num\">1.1&nbsp;&nbsp;</span>The problem</a></span></li><li><span><a href=\"#Addressing-overfitting\" data-toc-modified-id=\"Addressing-overfitting-1.2\"><span class=\"toc-item-num\">1.2&nbsp;&nbsp;</span>Addressing overfitting</a></span></li></ul></li><li><span><a href=\"#Cost-function\" data-toc-modified-id=\"Cost-function-2\"><span class=\"toc-item-num\">2&nbsp;&nbsp;</span>Cost function</a></span><ul class=\"toc-item\"><li><span><a href=\"#Intuition:-tiny-contribution\" data-toc-modified-id=\"Intuition:-tiny-contribution-2.1\"><span class=\"toc-item-num\">2.1&nbsp;&nbsp;</span>Intuition: tiny contribution</a></span></li><li><span><a href=\"#Adding-regularization-parameter-to-cost-function\" data-toc-modified-id=\"Adding-regularization-parameter-to-cost-function-2.2\"><span class=\"toc-item-num\">2.2&nbsp;&nbsp;</span>Adding regularization parameter to cost function</a></span></li></ul></li><li><span><a href=\"#Regularized-linear-regression\" data-toc-modified-id=\"Regularized-linear-regression-3\"><span class=\"toc-item-num\">3&nbsp;&nbsp;</span>Regularized linear regression</a></span><ul class=\"toc-item\"><li><span><a href=\"#Gradient-Descent\" data-toc-modified-id=\"Gradient-Descent-3.1\"><span class=\"toc-item-num\">3.1&nbsp;&nbsp;</span>Gradient Descent</a></span></li><li><span><a href=\"#Normal-Equation\" data-toc-modified-id=\"Normal-Equation-3.2\"><span class=\"toc-item-num\">3.2&nbsp;&nbsp;</span>Normal Equation</a></span></li></ul></li><li><span><a href=\"#Regularized-logistic-regression\" data-toc-modified-id=\"Regularized-logistic-regression-4\"><span class=\"toc-item-num\">4&nbsp;&nbsp;</span>Regularized logistic regression</a></span><ul class=\"toc-item\"><li><span><a href=\"#Gradient-Descent\" data-toc-modified-id=\"Gradient-Descent-4.1\"><span class=\"toc-item-num\">4.1&nbsp;&nbsp;</span>Gradient Descent</a></span></li><li><span><a href=\"#Octave\" data-toc-modified-id=\"Octave-4.2\"><span class=\"toc-item-num\">4.2&nbsp;&nbsp;</span>Octave</a></span></li></ul></li></ul></div>"
   ]
  },
  {
   "cell_type": "markdown",
   "metadata": {},
   "source": [
    "# The problem of overfitting"
   ]
  },
  {
   "cell_type": "markdown",
   "metadata": {},
   "source": [
    "<video controls src=\"video/yt1s.com - 40机器学习Machine Learning 吴恩达Andrew Ng中文字幕版The Problem of Overfitting中英_480p.mp4\"/>animation</video>"
   ]
  },
  {
   "cell_type": "markdown",
   "metadata": {},
   "source": [
    "## The problem\n",
    "![title](pic/OverfittingProblem.png)\n",
    "![title](pic/OverfittingProblem2.png)"
   ]
  },
  {
   "cell_type": "markdown",
   "metadata": {},
   "source": [
    "## Addressing overfitting\n",
    "![title](pic/OverfittingAddressing.png)"
   ]
  },
  {
   "cell_type": "markdown",
   "metadata": {},
   "source": [
    "# Cost function"
   ]
  },
  {
   "cell_type": "markdown",
   "metadata": {},
   "source": [
    "<video controls src=\"video/yt1s.com -41机器学习Machine Learning 吴恩达Andrew Ng中文字幕版Cost Function 中英_480p.mp4\"/>animation</video>"
   ]
  },
  {
   "cell_type": "markdown",
   "metadata": {},
   "source": [
    "## Intuition: tiny contribution\n",
    "![title](pic/CostFunctionInOverfitting.png)"
   ]
  },
  {
   "cell_type": "markdown",
   "metadata": {},
   "source": [
    "## Adding regularization parameter to cost function\n",
    "![title](pic/RegularizationParam.png)"
   ]
  },
  {
   "cell_type": "markdown",
   "metadata": {},
   "source": [
    "# Regularized linear regression"
   ]
  },
  {
   "cell_type": "markdown",
   "metadata": {},
   "source": [
    "<video controls src=\"video/Lecture 7.3 — Regularization _ Regularized Linear Regression — [ Machine Learning _ Andrew Ng].mp4\"/>animation</video>"
   ]
  },
  {
   "cell_type": "markdown",
   "metadata": {},
   "source": [
    "## Gradient Descent\n",
    "![title](pic/RegularizedLRGradientDescent.png)"
   ]
  },
  {
   "cell_type": "markdown",
   "metadata": {},
   "source": [
    "## Normal Equation\n",
    "![title](pic/RegularizedNE.png)"
   ]
  },
  {
   "cell_type": "markdown",
   "metadata": {},
   "source": [
    "# Regularized logistic regression"
   ]
  },
  {
   "cell_type": "markdown",
   "metadata": {},
   "source": [
    "<video controls src=\"video/Lecture 7.4 — Regularization _ Regularized Logistic Regression — [ Machine Learning _ Andrew Ng].mp4\"/>animation</video>"
   ]
  },
  {
   "cell_type": "markdown",
   "metadata": {},
   "source": [
    "## Gradient Descent\n",
    "![title](pic/GradientDescentLogR.png)"
   ]
  },
  {
   "cell_type": "markdown",
   "metadata": {},
   "source": [
    "## Octave\n",
    "![title](pic/RegularizedOctave.png)"
   ]
  },
  {
   "cell_type": "code",
   "execution_count": null,
   "metadata": {},
   "outputs": [],
   "source": []
  }
 ],
 "metadata": {
  "kernelspec": {
   "display_name": "Python 3",
   "language": "python",
   "name": "python3"
  },
  "language_info": {
   "codemirror_mode": {
    "name": "ipython",
    "version": 3
   },
   "file_extension": ".py",
   "mimetype": "text/x-python",
   "name": "python",
   "nbconvert_exporter": "python",
   "pygments_lexer": "ipython3",
   "version": "3.8.0"
  },
  "toc": {
   "base_numbering": 1,
   "nav_menu": {},
   "number_sections": true,
   "sideBar": true,
   "skip_h1_title": false,
   "title_cell": "Table of Contents",
   "title_sidebar": "Contents",
   "toc_cell": true,
   "toc_position": {},
   "toc_section_display": true,
   "toc_window_display": true
  }
 },
 "nbformat": 4,
 "nbformat_minor": 4
}
