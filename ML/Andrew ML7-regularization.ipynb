{
 "cells": [
  {
   "cell_type": "markdown",
   "metadata": {
    "toc": true
   },
   "source": [
    "<h1>Table of Contents<span class=\"tocSkip\"></span></h1>\n",
    "<div class=\"toc\"><ul class=\"toc-item\"><li><span><a href=\"#The-problem-of-overfitting\" data-toc-modified-id=\"The-problem-of-overfitting-1\"><span class=\"toc-item-num\">1&nbsp;&nbsp;</span>The problem of overfitting</a></span></li><li><span><a href=\"#Cost-function\" data-toc-modified-id=\"Cost-function-2\"><span class=\"toc-item-num\">2&nbsp;&nbsp;</span>Cost function</a></span></li><li><span><a href=\"#Regularized-linear-regression\" data-toc-modified-id=\"Regularized-linear-regression-3\"><span class=\"toc-item-num\">3&nbsp;&nbsp;</span>Regularized linear regression</a></span></li><li><span><a href=\"#Regularized-logistic-regression\" data-toc-modified-id=\"Regularized-logistic-regression-4\"><span class=\"toc-item-num\">4&nbsp;&nbsp;</span>Regularized logistic regression</a></span></li></ul></div>"
   ]
  },
  {
   "cell_type": "markdown",
   "metadata": {},
   "source": [
    "# The problem of overfitting"
   ]
  },
  {
   "cell_type": "markdown",
   "metadata": {},
   "source": [
    "<video controls src=\"video/yt1s.com - 40机器学习Machine Learning 吴恩达Andrew Ng中文字幕版The Problem of Overfitting中英_480p.mp4\"/>animation</video>"
   ]
  },
  {
   "cell_type": "markdown",
   "metadata": {},
   "source": [
    "# Cost function"
   ]
  },
  {
   "cell_type": "markdown",
   "metadata": {},
   "source": [
    "<video controls src=\"video/yt1s.com -41机器学习Machine Learning 吴恩达Andrew Ng中文字幕版Cost Function 中英_480p.mp4\"/>animation</video>"
   ]
  },
  {
   "cell_type": "markdown",
   "metadata": {},
   "source": [
    "# Regularized linear regression"
   ]
  },
  {
   "cell_type": "markdown",
   "metadata": {},
   "source": [
    "<video controls src=\"video/Lecture 7.3 — Regularization _ Regularized Linear Regression — [ Machine Learning _ Andrew Ng].mp4\"/>animation</video>"
   ]
  },
  {
   "cell_type": "markdown",
   "metadata": {},
   "source": [
    "# Regularized logistic regression"
   ]
  },
  {
   "cell_type": "markdown",
   "metadata": {},
   "source": [
    "<video controls src=\"video/Lecture 7.4 — Regularization _ Regularized Logistic Regression — [ Machine Learning _ Andrew Ng].mp4\"/>animation</video>"
   ]
  }
 ],
 "metadata": {
  "kernelspec": {
   "display_name": "Python 3",
   "language": "python",
   "name": "python3"
  },
  "language_info": {
   "codemirror_mode": {
    "name": "ipython",
    "version": 3
   },
   "file_extension": ".py",
   "mimetype": "text/x-python",
   "name": "python",
   "nbconvert_exporter": "python",
   "pygments_lexer": "ipython3",
   "version": "3.8.5"
  },
  "toc": {
   "base_numbering": 1,
   "nav_menu": {},
   "number_sections": true,
   "sideBar": true,
   "skip_h1_title": false,
   "title_cell": "Table of Contents",
   "title_sidebar": "Contents",
   "toc_cell": true,
   "toc_position": {},
   "toc_section_display": true,
   "toc_window_display": true
  }
 },
 "nbformat": 4,
 "nbformat_minor": 4
}
