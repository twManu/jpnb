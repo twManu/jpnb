{
 "cells": [
  {
   "cell_type": "markdown",
   "id": "7c60950d",
   "metadata": {},
   "source": [
    "# Problem formulation"
   ]
  },
  {
   "cell_type": "markdown",
   "id": "aa847c39",
   "metadata": {},
   "source": [
    "<video controls src=\"video/Lecture 16.1 —  Recommender Systems _ Problem Formulation — [ Machine Learning _ Andrew Ng ].mp4\"/>animation</video>"
   ]
  },
  {
   "cell_type": "markdown",
   "id": "fe88c16d",
   "metadata": {},
   "source": [
    "# Content-based recommendations"
   ]
  },
  {
   "cell_type": "markdown",
   "id": "838a0282",
   "metadata": {},
   "source": [
    "<video controls src=\"video/Lecture 16.2 —  Recommender Systems _ Content Based Recommendations — [ Andrew Ng ].mp4\"/>animation</video>"
   ]
  },
  {
   "cell_type": "markdown",
   "id": "0e1dcc5e",
   "metadata": {},
   "source": [
    "# Collaborative filtering"
   ]
  },
  {
   "cell_type": "markdown",
   "id": "db68a405",
   "metadata": {},
   "source": [
    "<video controls src=\"video/Lecture 16.3 —  Recommender Systems _ Collaborative Filtering — [ Machine Learning _ Andrew Ng ].mp4\"/>animation</video>"
   ]
  },
  {
   "cell_type": "markdown",
   "id": "bb8fff42",
   "metadata": {},
   "source": [
    "# Collaborative filtering algorithm"
   ]
  },
  {
   "cell_type": "markdown",
   "id": "d8a1028d",
   "metadata": {},
   "source": [
    "<video controls src=\"video/Lecture 16.4 —  Recommender Systems _ Collaborative Filtering Algorithm — [ Andrew Ng ].mp4\"/>animation</video>"
   ]
  },
  {
   "cell_type": "markdown",
   "id": "b1aafb1b",
   "metadata": {},
   "source": [
    "# Vectorization: Low rank matrix factorization"
   ]
  },
  {
   "cell_type": "markdown",
   "id": "e258186c",
   "metadata": {},
   "source": [
    "<video controls src=\"video/Lecture 16.5 —  Recommender Systems _ Vectorization Low Rank Matrix Factorization — [ Andrew Ng ].mp4\"/>animation</video>"
   ]
  },
  {
   "cell_type": "markdown",
   "id": "115a8171",
   "metadata": {},
   "source": [
    "# Implementational detail: Mean normalization"
   ]
  },
  {
   "cell_type": "markdown",
   "id": "412749df",
   "metadata": {},
   "source": [
    "<video controls src=\"video/Lecture 16.6 —  Recommender Systems _ Implementational Detail Mean Normalization — [ Andrew Ng ].mp4\"/>animation</video>"
   ]
  },
  {
   "cell_type": "code",
   "execution_count": null,
   "id": "ac81e97f",
   "metadata": {},
   "outputs": [],
   "source": []
  }
 ],
 "metadata": {
  "kernelspec": {
   "display_name": "Python 3",
   "language": "python",
   "name": "python3"
  },
  "language_info": {
   "codemirror_mode": {
    "name": "ipython",
    "version": 3
   },
   "file_extension": ".py",
   "mimetype": "text/x-python",
   "name": "python",
   "nbconvert_exporter": "python",
   "pygments_lexer": "ipython3",
   "version": "3.8.0"
  },
  "toc": {
   "base_numbering": 1,
   "nav_menu": {},
   "number_sections": true,
   "sideBar": true,
   "skip_h1_title": false,
   "title_cell": "Table of Contents",
   "title_sidebar": "Contents",
   "toc_cell": false,
   "toc_position": {},
   "toc_section_display": true,
   "toc_window_display": true
  }
 },
 "nbformat": 4,
 "nbformat_minor": 5
}
