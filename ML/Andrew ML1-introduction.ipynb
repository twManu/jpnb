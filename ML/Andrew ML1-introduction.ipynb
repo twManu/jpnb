{
 "cells": [
  {
   "cell_type": "markdown",
   "id": "94745200",
   "metadata": {},
   "source": [
    "# Welcome to Machine Learning"
   ]
  },
  {
   "cell_type": "markdown",
   "id": "c3b22cd9",
   "metadata": {},
   "source": [
    "<video controls src=\"video/yt1s.com - 1机器学习Machine Learning 吴恩达Andrew Ng中文字幕版Welcome to Machine Learning中英_360p.mp4\"/>animation</video>"
   ]
  },
  {
   "cell_type": "markdown",
   "id": "1e226ccc",
   "metadata": {},
   "source": [
    "# Welcome"
   ]
  },
  {
   "cell_type": "markdown",
   "id": "fbf671b2",
   "metadata": {},
   "source": [
    "<video controls src=\"video/yt1s.com - 2机器学习Machine Learning 吴恩达Andrew Ng中文字幕版Welcome中英_480p.mp4\"/>animation</video>"
   ]
  },
  {
   "cell_type": "markdown",
   "id": "e9c14e7b",
   "metadata": {},
   "source": [
    "# What is Machine Leaning"
   ]
  },
  {
   "cell_type": "markdown",
   "id": "45ff0dff",
   "metadata": {},
   "source": [
    "<video controls src=\"video/yt1s.com - 3机器学习Machine Learning 吴恩达Andrew Ng中文字幕版What is Machine Learning中英_480p.mp4\"/>animation</video>"
   ]
  },
  {
   "cell_type": "markdown",
   "id": "2659a9a7",
   "metadata": {},
   "source": [
    "# Supervised Leaning"
   ]
  },
  {
   "cell_type": "markdown",
   "id": "821fe38f",
   "metadata": {},
   "source": [
    "## 算法將預測得到例子的正確答案"
   ]
  },
  {
   "cell_type": "markdown",
   "id": "69c60e30",
   "metadata": {},
   "source": [
    "<video controls src=\"video/yt1s.com - 4机器学习Machine Learning 吴恩达Andrew Ng中文字幕版Supervised Learning 中英_480p.mp4\"/>animation</video>"
   ]
  },
  {
   "cell_type": "markdown",
   "id": "08119a39",
   "metadata": {},
   "source": [
    "# Unsupervised Leaning"
   ]
  },
  {
   "cell_type": "markdown",
   "id": "ed189697",
   "metadata": {},
   "source": [
    "## classifier"
   ]
  },
  {
   "cell_type": "markdown",
   "id": "b0f67dd7",
   "metadata": {},
   "source": [
    "<video controls src=\"video/yt1s.com - 5机器学习Machine Learning 吴恩达Andrew Ng中文字幕版Unsupervised Learning 中文_480p.mp4\"/>animation</video>"
   ]
  }
 ],
 "metadata": {
  "kernelspec": {
   "display_name": "Python 3",
   "language": "python",
   "name": "python3"
  },
  "language_info": {
   "codemirror_mode": {
    "name": "ipython",
    "version": 3
   },
   "file_extension": ".py",
   "mimetype": "text/x-python",
   "name": "python",
   "nbconvert_exporter": "python",
   "pygments_lexer": "ipython3",
   "version": "3.8.0"
  },
  "toc": {
   "base_numbering": 1,
   "nav_menu": {},
   "number_sections": true,
   "sideBar": true,
   "skip_h1_title": false,
   "title_cell": "Table of Contents",
   "title_sidebar": "Contents",
   "toc_cell": false,
   "toc_position": {},
   "toc_section_display": true,
   "toc_window_display": true
  }
 },
 "nbformat": 4,
 "nbformat_minor": 5
}
