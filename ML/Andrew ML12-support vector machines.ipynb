{
 "cells": [
  {
   "cell_type": "markdown",
   "id": "e9df95f9",
   "metadata": {},
   "source": [
    "# Optimization objective"
   ]
  },
  {
   "cell_type": "markdown",
   "id": "1b851a32",
   "metadata": {},
   "source": [
    "<video controls src=\"video/Lecture 12.1 —  Support Vector Machines _ Optimization Objective — [ Machine Learning _ Andrew Ng].mp4\"/>animation</video>"
   ]
  },
  {
   "cell_type": "markdown",
   "id": "e0bf137f",
   "metadata": {},
   "source": [
    "# Large Margin Intuition"
   ]
  },
  {
   "cell_type": "markdown",
   "id": "a562b37a",
   "metadata": {},
   "source": [
    "<video controls src=\"video/Lecture 12.2 — Support Vector Machines _ Large Margin Intuition — [Machine Learning _ Andrew Ng].mp4\"/>animation</video>"
   ]
  },
  {
   "cell_type": "markdown",
   "id": "a2bea011",
   "metadata": {},
   "source": [
    "# The mathematics behind large Margin classification"
   ]
  },
  {
   "cell_type": "markdown",
   "id": "7a568c63",
   "metadata": {},
   "source": [
    "<video controls src=\"video/Lecture 12.3 — Support Vector Machines _ Mathematics Behind Large Margin Classification (Optional).mp4\"/>animation</video>"
   ]
  },
  {
   "cell_type": "markdown",
   "id": "814c81ae",
   "metadata": {},
   "source": [
    "# Kernels I"
   ]
  },
  {
   "cell_type": "markdown",
   "id": "ed222f6a",
   "metadata": {},
   "source": [
    "<video controls src=\"video/Lecture 12.4 — Support Vector Machines _ (Kernels-I) — [ Machine Learning _ Andrew Ng].mp4\"/>animation</video>"
   ]
  },
  {
   "cell_type": "markdown",
   "id": "76e03dcb",
   "metadata": {},
   "source": [
    "# Kernels II"
   ]
  },
  {
   "cell_type": "markdown",
   "id": "08a33823",
   "metadata": {},
   "source": [
    "<video controls src=\"video/Lecture 12.5 — Support Vector Machines _ (Kernels-II) — [Machine Learning _ Andrew Ng].mp4\"/>animation</video>"
   ]
  },
  {
   "cell_type": "markdown",
   "id": "09fd9fe3",
   "metadata": {},
   "source": [
    "# Using an SVM"
   ]
  },
  {
   "cell_type": "markdown",
   "id": "6409d16f",
   "metadata": {},
   "source": [
    "<video controls src=\"video/Lecture 12.6 — Support Vector Machines _ Using An SVM — [ Machine Learning _ Andrew Ng].mp4\"/>animation</video>"
   ]
  }
 ],
 "metadata": {
  "kernelspec": {
   "display_name": "Python 3",
   "language": "python",
   "name": "python3"
  },
  "language_info": {
   "codemirror_mode": {
    "name": "ipython",
    "version": 3
   },
   "file_extension": ".py",
   "mimetype": "text/x-python",
   "name": "python",
   "nbconvert_exporter": "python",
   "pygments_lexer": "ipython3",
   "version": "3.8.0"
  },
  "toc": {
   "base_numbering": 1,
   "nav_menu": {},
   "number_sections": true,
   "sideBar": true,
   "skip_h1_title": false,
   "title_cell": "Table of Contents",
   "title_sidebar": "Contents",
   "toc_cell": false,
   "toc_position": {},
   "toc_section_display": true,
   "toc_window_display": true
  }
 },
 "nbformat": 4,
 "nbformat_minor": 5
}
