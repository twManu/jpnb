{
 "cells": [
  {
   "cell_type": "markdown",
   "id": "631dd84d",
   "metadata": {},
   "source": [
    "# Unsupervised learning introduction"
   ]
  },
  {
   "cell_type": "markdown",
   "id": "898d5508",
   "metadata": {},
   "source": [
    "<video controls src=\"video/Lecture 13.1 —  Clustering _ Unsupervised Learning _ Introduction — [ Andrew Ng ].mp4\"/>animation</video>"
   ]
  },
  {
   "cell_type": "markdown",
   "id": "2f96ce6e",
   "metadata": {},
   "source": [
    "# K-means algorithm"
   ]
  },
  {
   "cell_type": "markdown",
   "id": "b4cd4c20",
   "metadata": {},
   "source": [
    "<video controls src=\"video/Lecture 13.2 —  Clustering _ KMeans Algorithm — [ Machine Learning _ Andrew Ng ].mp4\"/>animation</video>"
   ]
  },
  {
   "cell_type": "markdown",
   "id": "cffc681e",
   "metadata": {},
   "source": [
    "# Optimization objective"
   ]
  },
  {
   "cell_type": "markdown",
   "id": "ab0be8a0",
   "metadata": {},
   "source": [
    "<video controls src=\"video/Lecture 13.3 —  Clustering _ Optimization Objective — [ Machine Learning _ Andrew Ng ].mp4\"/>animation</video>"
   ]
  },
  {
   "cell_type": "markdown",
   "id": "e670c94d",
   "metadata": {},
   "source": [
    "# Random initialization"
   ]
  },
  {
   "cell_type": "markdown",
   "id": "3f91ded6",
   "metadata": {},
   "source": [
    "<video controls src=\"video/Lecture 13.4 —  Clustering _ Random Initialization — [ Machine Learning _ Andrew Ng ].mp4\"/>animation</video>"
   ]
  },
  {
   "cell_type": "markdown",
   "id": "664c11ae",
   "metadata": {},
   "source": [
    "# Choosing the number of clusters"
   ]
  },
  {
   "cell_type": "markdown",
   "id": "cc291f86",
   "metadata": {},
   "source": [
    "<video controls src=\"video/Lecture 13.5 —  Clustering _ Choosing The Number Of Clusters — [ Machine Learning _ Andrew Ng ].mp4\"/>animation</video>"
   ]
  }
 ],
 "metadata": {
  "kernelspec": {
   "display_name": "Python 3",
   "language": "python",
   "name": "python3"
  },
  "language_info": {
   "codemirror_mode": {
    "name": "ipython",
    "version": 3
   },
   "file_extension": ".py",
   "mimetype": "text/x-python",
   "name": "python",
   "nbconvert_exporter": "python",
   "pygments_lexer": "ipython3",
   "version": "3.8.0"
  },
  "toc": {
   "base_numbering": 1,
   "nav_menu": {},
   "number_sections": true,
   "sideBar": true,
   "skip_h1_title": false,
   "title_cell": "Table of Contents",
   "title_sidebar": "Contents",
   "toc_cell": false,
   "toc_position": {},
   "toc_section_display": true,
   "toc_window_display": true
  }
 },
 "nbformat": 4,
 "nbformat_minor": 5
}
