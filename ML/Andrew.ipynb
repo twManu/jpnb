{
 "cells": [
  {
   "cell_type": "markdown",
   "id": "f1172b6f",
   "metadata": {},
   "source": [
    "# 吳恩達"
   ]
  },
  {
   "cell_type": "markdown",
   "id": "670d4823",
   "metadata": {},
   "source": [
    "## Welcome to Machine Learning"
   ]
  },
  {
   "cell_type": "markdown",
   "id": "6c08bbc5",
   "metadata": {},
   "source": [
    "<video controls src=\"video/yt1s.com - 1机器学习Machine Learning 吴恩达Andrew Ng中文字幕版Welcome to Machine Learning中英_360p.mp4\"/>animation</video>"
   ]
  },
  {
   "cell_type": "markdown",
   "id": "03683b0c",
   "metadata": {},
   "source": [
    "## Welcome"
   ]
  },
  {
   "cell_type": "markdown",
   "id": "baa1d9f7",
   "metadata": {},
   "source": [
    "<video controls src=\"video/yt1s.com - 2机器学习Machine Learning 吴恩达Andrew Ng中文字幕版Welcome中英_480p.mp4\"/>animation</video>"
   ]
  },
  {
   "cell_type": "markdown",
   "id": "487ecceb",
   "metadata": {},
   "source": [
    "## What is Machine Leaning"
   ]
  },
  {
   "cell_type": "markdown",
   "id": "ea343f35",
   "metadata": {},
   "source": [
    "<video controls src=\"video/yt1s.com - 3机器学习Machine Learning 吴恩达Andrew Ng中文字幕版What is Machine Learning中英_480p.mp4\"/>animation</video>"
   ]
  },
  {
   "cell_type": "markdown",
   "id": "0230266b",
   "metadata": {},
   "source": [
    "## Supervised Leaning"
   ]
  },
  {
   "cell_type": "markdown",
   "id": "a03d3336",
   "metadata": {},
   "source": [
    "### 算法將預測得到例子的正確答案"
   ]
  },
  {
   "cell_type": "markdown",
   "id": "7ca1b73e",
   "metadata": {},
   "source": [
    "<video controls src=\"video/yt1s.com - 4机器学习Machine Learning 吴恩达Andrew Ng中文字幕版Supervised Learning 中英_480p.mp4\"/>animation</video>"
   ]
  },
  {
   "cell_type": "markdown",
   "id": "19820371",
   "metadata": {},
   "source": [
    "## Unsupervised Leaning"
   ]
  },
  {
   "cell_type": "markdown",
   "id": "94cea7c9",
   "metadata": {},
   "source": [
    "### classifier"
   ]
  },
  {
   "cell_type": "markdown",
   "id": "6061a3ec",
   "metadata": {},
   "source": [
    "<video controls src=\"video/yt1s.com - 5机器学习Machine Learning 吴恩达Andrew Ng中文字幕版Unsupervised Learning 中文_480p.mp4\"/>animation</video>"
   ]
  },
  {
   "cell_type": "markdown",
   "id": "0702cafe",
   "metadata": {},
   "source": [
    "## Model representation"
   ]
  },
  {
   "cell_type": "markdown",
   "id": "ab6aeb37",
   "metadata": {},
   "source": [
    "<video controls src=\"video/yt1s.com - 6机器学习Machine Learning 吴恩达Andrew Ng中文字幕版Model Representation 中文_480p.mp4\"/>animation</video>"
   ]
  },
  {
   "cell_type": "markdown",
   "id": "8e668a47",
   "metadata": {},
   "source": [
    "## Cost function"
   ]
  },
  {
   "cell_type": "markdown",
   "id": "87323c5e",
   "metadata": {},
   "source": [
    "<video controls src=\"video/yt1s.com - 7机器学习Machine Learning 吴恩达Andrew Ng中文字幕版Cost Function 中文_480p.mp4\"/>animation</video>"
   ]
  },
  {
   "cell_type": "markdown",
   "id": "5dfce722",
   "metadata": {},
   "source": [
    "## Cost function intuition I"
   ]
  },
  {
   "cell_type": "markdown",
   "id": "c6a11639",
   "metadata": {},
   "source": [
    "<video controls src=\"video/yt1s.com - 8机器学习Machine Learning 吴恩达Andrew Ng中文字幕版Cost Function   Intuition I 中_480p.mp4\"/>animation</video>"
   ]
  },
  {
   "cell_type": "markdown",
   "id": "d2d1f450",
   "metadata": {},
   "source": [
    "## Cost function intuition II"
   ]
  },
  {
   "cell_type": "markdown",
   "id": "baa8ce94",
   "metadata": {},
   "source": [
    "<video controls src=\"video/yt1s.com - 9机器学习Machine Learning 吴恩达Andrew Ng中文字幕版 Cost Function   Intuition II_480p.mp4\"/>animation</video>"
   ]
  },
  {
   "cell_type": "markdown",
   "id": "cab59130",
   "metadata": {},
   "source": [
    "## Gradient descent"
   ]
  },
  {
   "cell_type": "markdown",
   "id": "ca2bf3e2",
   "metadata": {},
   "source": [
    "### column equal"
   ]
  },
  {
   "cell_type": "markdown",
   "id": "fcf3a44b",
   "metadata": {},
   "source": [
    "### learning rate"
   ]
  },
  {
   "cell_type": "markdown",
   "id": "12d68a45",
   "metadata": {},
   "source": [
    "### simultaneous update"
   ]
  },
  {
   "cell_type": "markdown",
   "id": "a5085754",
   "metadata": {},
   "source": [
    "<video controls src=\"video/yt1s.com - 10机器学习Machine Learning 吴恩达Andrew Ng中文字幕版Gradient Descent 中文_480p.mp4\"/>animation</video>"
   ]
  },
  {
   "cell_type": "markdown",
   "id": "ca62b32d",
   "metadata": {},
   "source": [
    "![title](pic/gd.png)"
   ]
  },
  {
   "cell_type": "markdown",
   "id": "502c2614",
   "metadata": {},
   "source": [
    "## Linear regression with one variable - Gradient descent intuition"
   ]
  },
  {
   "cell_type": "markdown",
   "id": "a364186c",
   "metadata": {},
   "source": [
    "<video controls src=\"video/yt1s.com - 11机器学习Machine Learning 吴恩达Andrew Ng中文字幕版Gradient Descent Intuition 中_480p.mp4\"/>animation</video>"
   ]
  },
  {
   "cell_type": "markdown",
   "id": "8b6ce7c1",
   "metadata": {},
   "source": [
    "## Linear regression with one variable - Gradient descent for linear regression"
   ]
  },
  {
   "cell_type": "markdown",
   "id": "5237fd43",
   "metadata": {},
   "source": [
    "<video controls src=\"video/yt1s.com - 12机器学习Machine Learning 吴恩达Andrew Ng中文字幕版 GradientDescentForLinearRegre_480p.mp4\"/>animation</video>"
   ]
  },
  {
   "cell_type": "markdown",
   "id": "3a331819",
   "metadata": {},
   "source": [
    "## Linear Algebra review - Matrices and vectors"
   ]
  },
  {
   "cell_type": "markdown",
   "id": "b9724541",
   "metadata": {},
   "source": [
    "<video controls src=\"video/yt1s.com - 13机器学习Machine Learning 吴恩达Andrew Ng中文字幕版 Matrices and Vectors中文_480p.mp4\"/>animation</video>"
   ]
  },
  {
   "cell_type": "markdown",
   "id": "a9cc2b7b",
   "metadata": {},
   "source": [
    "## Linear Algebra review - Addition and scalar multiplication"
   ]
  },
  {
   "cell_type": "markdown",
   "id": "8e2eb95b",
   "metadata": {},
   "source": [
    "<video controls src=\"video/yt1s.com - 14机器学习Machine Learning 吴恩达Andrew Ng中文字幕版 Addition and Scalar Multiplic_480p.mp4\"/>animation</video>"
   ]
  },
  {
   "cell_type": "markdown",
   "id": "bbd02b00",
   "metadata": {},
   "source": [
    "## Linear Algebra review - Matrix-vector multiplication"
   ]
  },
  {
   "cell_type": "markdown",
   "id": "bac540de",
   "metadata": {},
   "source": [
    "<video controls src=\"video/yt1s.com - 15机器学习Machine Learning 吴恩达Andrew Ng中文字幕版 Matrix Vector Multiplication_480p.mp4\"/>animation</video>"
   ]
  },
  {
   "cell_type": "markdown",
   "id": "d3ed2903",
   "metadata": {},
   "source": [
    "## Linear Algebra review - Matrix-matrix multiplication"
   ]
  },
  {
   "cell_type": "markdown",
   "id": "3f1ddab6",
   "metadata": {},
   "source": [
    "<video controls src=\"video/yt1s.com - 16机器学习Machine Learning 吴恩达Andrew Ng中文字幕版Matrix Matrix Multiplication_480p.mp4\"/>animation</video>"
   ]
  },
  {
   "cell_type": "markdown",
   "id": "a58f9f84",
   "metadata": {},
   "source": [
    "## Linear Algebra review - Matrix-matrix multiplication properties"
   ]
  },
  {
   "cell_type": "markdown",
   "id": "2a98090f",
   "metadata": {},
   "source": [
    "<video controls src=\"video/yt1s.com - 17机器学习Machine Learning 吴恩达Andrew Ng中文字幕版Matrix Multiplication Propert_480p.mp4\"/>animation</video>"
   ]
  },
  {
   "cell_type": "markdown",
   "id": "fd097b07",
   "metadata": {},
   "source": [
    "## Linear Algebra review - Inverse and transpose"
   ]
  },
  {
   "cell_type": "markdown",
   "id": "45e94622",
   "metadata": {},
   "source": [
    "<video controls src=\"video/yt1s.com - 18机器学习Machine Learning 吴恩达Andrew Ng中文字幕版Inverse and Transpose中文_480p.mp4\"/>animation</video>"
   ]
  },
  {
   "cell_type": "markdown",
   "id": "6216a4a5",
   "metadata": {},
   "source": [
    "## Linear Regression with multiple variables - Multiple features"
   ]
  },
  {
   "cell_type": "markdown",
   "id": "b748330f",
   "metadata": {},
   "source": [
    "<video controls src=\"video/yt1s.com - 19机器学习Machine Learning 吴恩达Andrew Ng中文字幕版Multiple Features 中文_480p.mp4\"/>animation</video>"
   ]
  },
  {
   "cell_type": "markdown",
   "id": "e9940ea6",
   "metadata": {},
   "source": [
    "## Linear Regression with multiple variables - Gradient descent for multiple variables"
   ]
  },
  {
   "cell_type": "markdown",
   "id": "a302fff4",
   "metadata": {},
   "source": [
    "<video controls src=\"video/yt1s.com - 20机器学习Machine Learning 吴恩达Andrew Ng中文字幕版Gradient Descent for Multiple_480p.mp4\"/>animation</video>"
   ]
  },
  {
   "cell_type": "markdown",
   "id": "08d8d9dc",
   "metadata": {},
   "source": [
    "## Linear Regression with multiple variables - Gradient descent in practice I: Feature Scaling"
   ]
  },
  {
   "cell_type": "markdown",
   "id": "21bbc46a",
   "metadata": {},
   "source": [
    "<video controls src=\"video/yt1s.com - 21机器学习Machine Learning 吴恩达Andrew Ng中文字幕版Gradient Descent in Practice_480p.mp4\"/>animation</video>"
   ]
  },
  {
   "cell_type": "markdown",
   "id": "40d4cb6d",
   "metadata": {},
   "source": [
    "## Linear Regression with multiple variables - Gradient descent in practice II: Learning rate"
   ]
  },
  {
   "cell_type": "markdown",
   "id": "891bc2a4",
   "metadata": {},
   "source": [
    "<video controls src=\"video/yt1s.com - 22机器学习Machine Learning 吴恩达Andrew Ng中文字幕版Gradient Descent in Practice_480p.mp4\"/>animation</video>"
   ]
  },
  {
   "cell_type": "markdown",
   "id": "dffa202a",
   "metadata": {},
   "source": [
    "## Linear Regression with multiple variables - Features and polynominal regression"
   ]
  },
  {
   "cell_type": "markdown",
   "id": "f4c665e8",
   "metadata": {},
   "source": [
    "<video controls src=\"video/yt1s.com - 23机器学习Machine Learning 吴恩达Andrew Ng中文字幕版 Features and Polynomial Regre_480p.mp4\"/>animation</video>"
   ]
  },
  {
   "cell_type": "markdown",
   "id": "1e283406",
   "metadata": {},
   "source": [
    "## Linear Regression with multiple variables - Normal equation"
   ]
  },
  {
   "cell_type": "markdown",
   "id": "9dcef663",
   "metadata": {},
   "source": [
    "<video controls src=\"video/yt1s.com - 24机器学习Machine Learning 吴恩达Andrew Ng中文字幕版Normal Equation 中英Av9912938P24_480p.mp4\"/>animation</video>"
   ]
  },
  {
   "cell_type": "markdown",
   "id": "2396040b",
   "metadata": {},
   "source": [
    "## Linear Regression with multiple variables - Normal equation and non-invertibility"
   ]
  },
  {
   "cell_type": "markdown",
   "id": "051c1170",
   "metadata": {},
   "source": [
    "<video controls src=\"video/yt1s.com - 25机器学习Machine Learning 吴恩达Andrew Ng中文字幕版Normal Equation Noninvertibil_480p.mp4\"/>animation</video>"
   ]
  },
  {
   "cell_type": "markdown",
   "id": "d0011292",
   "metadata": {},
   "source": [
    "## Octave Tutorial - Working on and submitting programming"
   ]
  },
  {
   "cell_type": "markdown",
   "id": "3d61aada",
   "metadata": {},
   "source": [
    "<video controls src=\"video/yt1s.com - 26机器学习Machine Learning 吴恩达Andrew Ng中文字幕版Working on and Submitting Pro_480p.mp4\"/>animation</video>"
   ]
  },
  {
   "cell_type": "markdown",
   "id": "538824aa",
   "metadata": {},
   "source": [
    "## missing"
   ]
  },
  {
   "cell_type": "markdown",
   "id": "02c855cc",
   "metadata": {},
   "source": [
    "## Octave Tutorial - Moving data around"
   ]
  },
  {
   "cell_type": "markdown",
   "id": "5ea63a8b",
   "metadata": {},
   "source": [
    "<video controls src=\"video/yt1s.com - 28机器学习Machine Learning 吴恩达Andrew Ng中文字幕版Moving Data Around 中英Av9912938P28_480p.mp4\"/>animation</video>"
   ]
  },
  {
   "cell_type": "markdown",
   "id": "e116d61d",
   "metadata": {},
   "source": [
    "## Octave Tutorial - Computing on data"
   ]
  },
  {
   "cell_type": "markdown",
   "id": "74f37846",
   "metadata": {},
   "source": [
    "<video controls src=\"video/yt1s.com - 29机器学习Machine Learning 吴恩达Andrew Ng中文字幕版Computing on Data中英Av9912938P2_480p.mp4\"/>animation</video>"
   ]
  },
  {
   "cell_type": "markdown",
   "id": "e1d3c6ea",
   "metadata": {},
   "source": [
    "## Octave Tutorial - Plotting data"
   ]
  },
  {
   "cell_type": "markdown",
   "id": "0ca7a896",
   "metadata": {},
   "source": [
    "<video controls src=\"video/yt1s.com - 30机器学习Machine Learning 吴恩达Andrew Ng中文字幕版Plotting Data 中英_480p.mp4\"/>animation</video>"
   ]
  },
  {
   "cell_type": "markdown",
   "id": "8b84026f",
   "metadata": {},
   "source": [
    "## Octave Tutorial - Vectorization"
   ]
  },
  {
   "cell_type": "markdown",
   "id": "642bdfd6",
   "metadata": {},
   "source": [
    "<video controls src=\"video/yt1s.com - 32机器学习Machine Learning 吴恩达Andrew Ng中文字幕版Vectorization 中英_480p.mp4\"/>animation</video>"
   ]
  },
  {
   "cell_type": "markdown",
   "id": "441b24c3",
   "metadata": {},
   "source": [
    "## Logistic Regression - Classification"
   ]
  },
  {
   "cell_type": "markdown",
   "id": "f93037a1",
   "metadata": {},
   "source": [
    "<video controls src=\"video/yt1s.com - 33机器学习Machine Learning 吴恩达Andrew Ng中文字幕版Classification 中英机翻_480p.mp4\"/>animation</video>"
   ]
  },
  {
   "cell_type": "markdown",
   "id": "5bbce57c",
   "metadata": {},
   "source": [
    "## Logistic Regression - Hypothesis Representation"
   ]
  },
  {
   "cell_type": "markdown",
   "id": "c904a85c",
   "metadata": {},
   "source": [
    "<video controls src=\"video/yt1s.com - 34机器学习Machine Learning 吴恩达Andrew Ng中文字幕版 Hypothesis Representation 中文_480p.mp4\"/>animation</video>"
   ]
  },
  {
   "cell_type": "markdown",
   "id": "28f77d40",
   "metadata": {},
   "source": [
    "## Logistic Regression - Decision boundary"
   ]
  },
  {
   "cell_type": "markdown",
   "id": "5d291359",
   "metadata": {},
   "source": [
    "<video controls src=\"video/yt1s.com - 35机器学习Machine Learning 吴恩达Andrew Ng中文字幕版Decision Boundary 中英_480p.mp4\"/>animation</video>"
   ]
  },
  {
   "cell_type": "markdown",
   "id": "deac1115",
   "metadata": {},
   "source": [
    "## Logistic Regression - Cost function"
   ]
  },
  {
   "cell_type": "markdown",
   "id": "363cacc4",
   "metadata": {},
   "source": [
    "<video controls src=\"video/yt1s.com - 36机器学习Machine Learning 吴恩达Andrew Ng中文字幕版Cost Function 中英_480p.mp4\"/>animation</video>"
   ]
  },
  {
   "cell_type": "markdown",
   "id": "04b84e7a",
   "metadata": {},
   "source": [
    "## Logistic Regression - Simplified cost function and gradient descent"
   ]
  },
  {
   "cell_type": "markdown",
   "id": "d9e6ef34",
   "metadata": {},
   "source": [
    "<video controls src=\"video/yt1s.com - 37机器学习Machine Learning 吴恩达Andrew Ng中文字幕版Simplified Cost Function and_480p.mp4\"/>animation</video>"
   ]
  },
  {
   "cell_type": "markdown",
   "id": "4f053028",
   "metadata": {},
   "source": [
    "## Logistic Regression - Advanced optimization"
   ]
  },
  {
   "cell_type": "markdown",
   "id": "4985ba88",
   "metadata": {},
   "source": [
    "<video controls src=\"video/yt1s.com - 38机器学习Machine Learning 吴恩达Andrew Ng中文字幕版 Advanced Optimization 中英_480p.mp4\"/>animation</video>"
   ]
  },
  {
   "cell_type": "markdown",
   "id": "2edd511b",
   "metadata": {},
   "source": [
    "## Logistic Regression - Multi-class classification: One-vs-all"
   ]
  },
  {
   "cell_type": "markdown",
   "id": "08b2c12f",
   "metadata": {},
   "source": [
    "<video controls src=\"video/yt1s.com - 39机器学习Machine Learning 吴恩达Andrew Ng中文字幕版Multiclass Classification  On_480p.mp4\"/>animation</video>"
   ]
  },
  {
   "cell_type": "markdown",
   "id": "7a1c8caa",
   "metadata": {},
   "source": [
    "## Regularization - The problem of overfitting"
   ]
  },
  {
   "cell_type": "markdown",
   "id": "59f223cf",
   "metadata": {},
   "source": [
    "<video controls src=\"video/yt1s.com - 40机器学习Machine Learning 吴恩达Andrew Ng中文字幕版The Problem of Overfitting中英_480p.mp4\"/>animation</video>"
   ]
  },
  {
   "cell_type": "markdown",
   "id": "5284a16b",
   "metadata": {},
   "source": [
    "## Regularization - Cost function"
   ]
  },
  {
   "cell_type": "markdown",
   "id": "4ae39238",
   "metadata": {},
   "source": [
    "<video controls src=\"video/yt1s.com -41机器学习Machine Learning 吴恩达Andrew Ng中文字幕版Cost Function 中英_480p.mp4\"/>animation</video>"
   ]
  },
  {
   "cell_type": "markdown",
   "id": "6d2931e1",
   "metadata": {},
   "source": [
    "## Regularization - Regularized linear regression"
   ]
  },
  {
   "cell_type": "markdown",
   "id": "a5631ed2",
   "metadata": {},
   "source": [
    "<video controls src=\"video/Lecture 7.3 — Regularization _ Regularized Linear Regression — [ Machine Learning _ Andrew Ng].mp4\"/>animation</video>"
   ]
  },
  {
   "cell_type": "markdown",
   "id": "a29bf306",
   "metadata": {},
   "source": [
    "## Regularization - Regularized logistic regression"
   ]
  },
  {
   "cell_type": "markdown",
   "id": "8c1deb94",
   "metadata": {},
   "source": [
    "<video controls src=\"video/Lecture 7.4 — Regularization _ Regularized Logistic Regression — [ Machine Learning _ Andrew Ng].mp4\"/>animation</video>"
   ]
  },
  {
   "cell_type": "markdown",
   "id": "005f98be",
   "metadata": {},
   "source": [
    "## Neural Networks: Representation - Non-linear hypotheses"
   ]
  },
  {
   "cell_type": "markdown",
   "id": "d17d0acc",
   "metadata": {},
   "source": [
    "<video controls src=\"video/Lecture 8.1 — Neural Networks Representation _ Non Linear Hypotheses — [Andrew Ng].mp4\"/>animation</video>"
   ]
  },
  {
   "cell_type": "markdown",
   "id": "294208dd",
   "metadata": {},
   "source": [
    "## Neural Networks: Representation - Neurons and the brain"
   ]
  },
  {
   "cell_type": "markdown",
   "id": "a60735f5",
   "metadata": {},
   "source": [
    "<video controls src=\"video/Lecture 8.2 — Neural Networks Representation _ Neurons And The Brain — [Andrew Ng].mp4\"/>animation</video>"
   ]
  },
  {
   "cell_type": "markdown",
   "id": "7bb5ec7f",
   "metadata": {},
   "source": [
    "## Neural Networks: Representation - Model representation I"
   ]
  },
  {
   "cell_type": "markdown",
   "id": "a924a685",
   "metadata": {},
   "source": [
    "<video controls src=\"video/Lecture 8.3 — Neural Networks Representation _ Model Representation-I — [ Andrew Ng ].mp4\"/>animation</video>"
   ]
  },
  {
   "cell_type": "markdown",
   "id": "5766385b",
   "metadata": {},
   "source": [
    "## Neural Networks: Representation - Model representation II"
   ]
  },
  {
   "cell_type": "markdown",
   "id": "1f2c5eae",
   "metadata": {},
   "source": [
    "<video controls src=\"video/Lecture 8.4 — Neural Networks Representation _ Model Representation-II — [Andrew Ng].mp4\"/>animation</video>"
   ]
  },
  {
   "cell_type": "markdown",
   "id": "ed226ec8",
   "metadata": {},
   "source": [
    "## Neural Networks: Representation - Examples and intuitions I"
   ]
  },
  {
   "cell_type": "markdown",
   "id": "17ec0737",
   "metadata": {},
   "source": [
    "<video controls src=\"video/Lecture 8.5 — Neural Networks Representation _ Examples And Intuitions-I — [ Andrew Ng].mp4\"/>animation</video>"
   ]
  },
  {
   "cell_type": "markdown",
   "id": "c6c2e324",
   "metadata": {},
   "source": [
    "## Neural Networks: Representation - Examples and intuitions II"
   ]
  },
  {
   "cell_type": "markdown",
   "id": "9c9ec8db",
   "metadata": {},
   "source": [
    "<video controls src=\"video/Lecture 8.6 — Neural Networks Representation _ Examples And Intuitions-II — [ Andrew Ng].mp4\"/>animation</video>"
   ]
  },
  {
   "cell_type": "markdown",
   "id": "231c32f6",
   "metadata": {},
   "source": [
    "## Neural Networks: Representation - Multi-class classification"
   ]
  },
  {
   "cell_type": "markdown",
   "id": "578a260a",
   "metadata": {},
   "source": [
    "<video controls src=\"video/Lecture 8.7 — Neural Networks Representation _ MultiClass Classification — [Andrew Ng].mp4\"/>animation</video>"
   ]
  },
  {
   "cell_type": "markdown",
   "id": "412fe062",
   "metadata": {},
   "source": [
    "## Neural Networks: Learning - Cost function"
   ]
  },
  {
   "cell_type": "markdown",
   "id": "a4cfb797",
   "metadata": {},
   "source": [
    "<video controls src=\"video/Lecture 9.1 — Neural Networks Learning _ Cost Function — [ Machine Learning _ Andrew Ng].mp4\"/>animation</video>"
   ]
  },
  {
   "cell_type": "markdown",
   "id": "e7704a30",
   "metadata": {},
   "source": [
    "## Neural Networks: Learning - Backpropagation algorithm"
   ]
  },
  {
   "cell_type": "markdown",
   "id": "89785e3c",
   "metadata": {},
   "source": [
    "<video controls src=\"video/Lecture 9.2 — Neural Networks Learning _ Backpropagation Algorithm — [ Machine Learning _ Andrew Ng].mp4\"/>animation</video>"
   ]
  },
  {
   "cell_type": "markdown",
   "id": "2ec98ac1",
   "metadata": {},
   "source": [
    "## Neural Networks: Learning - Backpropagation intuition"
   ]
  },
  {
   "cell_type": "markdown",
   "id": "1275100f",
   "metadata": {},
   "source": [
    "<video controls src=\"video/Lecture 9.3 — Neural Networks Learning _ Backpropagation Intuition — [ Machine Learning _ Andrew Ng].mp4\"/>animation</video>"
   ]
  },
  {
   "cell_type": "markdown",
   "id": "94959c01",
   "metadata": {},
   "source": [
    "## Neural Networks: Learning - Implementation note: Unrolling parameters"
   ]
  },
  {
   "cell_type": "markdown",
   "id": "496b9d3e",
   "metadata": {},
   "source": [
    "<video controls src=\"video/Lecture 9.4 — Neural Networks Learning _ Implementation Note Unrolling Parameters — [ Andrew Ng].mp4\"/>animation</video>"
   ]
  },
  {
   "cell_type": "markdown",
   "id": "9855a5ee",
   "metadata": {},
   "source": [
    "## Neural Networks: Learning - Gradient checking"
   ]
  },
  {
   "cell_type": "markdown",
   "id": "6b1dafbd",
   "metadata": {},
   "source": [
    "<video controls src=\"video/Lecture 9.5 — Neural Networks Learning _ Gradient Checking — [ Machine Learning _ Andrew Ng].mp4\"/>animation</video>"
   ]
  },
  {
   "cell_type": "markdown",
   "id": "66d9d937",
   "metadata": {},
   "source": [
    "## Neural Networks: Learning - Random initialization"
   ]
  },
  {
   "cell_type": "markdown",
   "id": "933d65ea",
   "metadata": {},
   "source": [
    "<video controls src=\"video/Lecture 9.6 — Neural Networks Learning _ Random Initialization — [ Machine Learning _ Andrew Ng].mp4\"/>animation</video>"
   ]
  },
  {
   "cell_type": "markdown",
   "id": "d1b3161f",
   "metadata": {},
   "source": [
    "## Neural Networks: Learning - Putting it together"
   ]
  },
  {
   "cell_type": "markdown",
   "id": "87100f4a",
   "metadata": {},
   "source": [
    "<video controls src=\"video/Lecture 9.7 — Neural Networks Learning _ Putting It Together — [ Machine Learning _ Andrew Ng].mp4\"/>animation</video>"
   ]
  },
  {
   "cell_type": "markdown",
   "id": "1cf93bff",
   "metadata": {},
   "source": [
    "## Neural Networks: Learning - Autonomous driving example"
   ]
  },
  {
   "cell_type": "markdown",
   "id": "8ee5a7dd",
   "metadata": {},
   "source": [
    "<video controls src=\"video/Lecture 9.8 — Neural Networks Learning _ Autonomous Driving Example — [Andrew Ng].mp4\"/>animation</video>"
   ]
  },
  {
   "cell_type": "markdown",
   "id": "ff375c62",
   "metadata": {},
   "source": [
    "## Advice for applying machine learning - Deciding what to try next"
   ]
  },
  {
   "cell_type": "markdown",
   "id": "e9313b68",
   "metadata": {},
   "source": [
    "<video controls src=\"video/Lecture 10.1 — Advice For Applying Machine Learning _ Deciding What To Try Next — [ Andrew Ng].mp4\"/>animation</video>"
   ]
  },
  {
   "cell_type": "markdown",
   "id": "cc75dd76",
   "metadata": {},
   "source": [
    "## Advice for applying machine learning - Evaluating a hypothesis"
   ]
  },
  {
   "cell_type": "markdown",
   "id": "047de095",
   "metadata": {},
   "source": [
    "<video controls src=\"video/Lecture 10.2 — Advice For Applying Machine Learning _ Evaluating A Hypothesis — [ Andrew Ng].mp4\"/>animation</video>"
   ]
  },
  {
   "cell_type": "markdown",
   "id": "69bd1101",
   "metadata": {},
   "source": [
    "## Advice for applying machine learning - Model selection and training/validation/test sets"
   ]
  },
  {
   "cell_type": "markdown",
   "id": "455d5a5d",
   "metadata": {},
   "source": [
    "<video controls src=\"video/Lecture 10.3 — Advice For Applying Machine Learning _ Model Selection And Train Validation Test Sets.mp4\"/>animation</video>"
   ]
  },
  {
   "cell_type": "markdown",
   "id": "77a6ef21",
   "metadata": {},
   "source": [
    "## Advice for applying machine learning - Diagnosing bias vs. variance"
   ]
  },
  {
   "cell_type": "markdown",
   "id": "e3c7837e",
   "metadata": {},
   "source": [
    "<video controls src=\"video/Lecture 10.4 — Advice For Applying Machine Learning _ Diagnosing Bias Vs Variance — [Andrew Ng].mp4\"/>animation</video>"
   ]
  },
  {
   "cell_type": "markdown",
   "id": "e8d07140",
   "metadata": {},
   "source": [
    "## Advice for applying machine learning - Regularization and bias/variance"
   ]
  },
  {
   "cell_type": "markdown",
   "id": "572e0b86",
   "metadata": {},
   "source": [
    "<video controls src=\"video/Lecture 10.5 — Advice For Applying Machine Learning _ Regularization And Bias Variance — [Andrew Ng].mp4\"/>animation</video>"
   ]
  },
  {
   "cell_type": "markdown",
   "id": "7b7ad5ee",
   "metadata": {},
   "source": [
    "## Advice for applying machine learning - Learning curves"
   ]
  },
  {
   "cell_type": "markdown",
   "id": "91c752e2",
   "metadata": {},
   "source": [
    "<video controls src=\"video/Lecture 10.6 — Advice For Applying Machine Learning _ Learning Curves — [Andrew Ng].mp4\"/>animation</video>"
   ]
  },
  {
   "cell_type": "markdown",
   "id": "164f3649",
   "metadata": {},
   "source": [
    "## Advice for applying machine learning - Deciding what to try next"
   ]
  },
  {
   "cell_type": "markdown",
   "id": "66394fa0",
   "metadata": {},
   "source": [
    "<video controls src=\"video/Lecture 10.7 — Advice For Applying Machine Learning _ Deciding What To Do Next (Revisited).mp4\"/>animation</video>"
   ]
  },
  {
   "cell_type": "markdown",
   "id": "5a8f4121",
   "metadata": {},
   "source": [
    "## Machine learning system design - Prioritizing what to work on: Spam classification example"
   ]
  },
  {
   "cell_type": "markdown",
   "id": "36c5ff31",
   "metadata": {},
   "source": [
    "<video controls src=\"video/Lecture 11.1 — Machine Learning System Design _ Prioritizing What To Work On — [ Andrew Ng].mp4\"/>animation</video>"
   ]
  },
  {
   "cell_type": "markdown",
   "id": "e41d45cf",
   "metadata": {},
   "source": [
    "## Machine learning system design - Error analysis"
   ]
  },
  {
   "cell_type": "markdown",
   "id": "a061af9a",
   "metadata": {},
   "source": [
    "<video controls src=\"video/Lecture 11.2 — Machine Learning System Design _ Error Analysis — [ Machine Learning _ Andrew Ng ].mp4\"/>animation</video>"
   ]
  },
  {
   "cell_type": "markdown",
   "id": "202fd44c",
   "metadata": {},
   "source": [
    "## Machine learning system design - Error metrics for skewed classes"
   ]
  },
  {
   "cell_type": "markdown",
   "id": "0eb5c463",
   "metadata": {},
   "source": [
    "<video controls src=\"video/Lecture 11.3 — Machine Learning System Design _ Error Metrics For Skewed Classes — [Andrew Ng].mp4\"/>animation</video>"
   ]
  },
  {
   "cell_type": "markdown",
   "id": "11e45866",
   "metadata": {},
   "source": [
    "## Machine learning system design - Trading off precision and recall"
   ]
  },
  {
   "cell_type": "markdown",
   "id": "72a7ff11",
   "metadata": {},
   "source": [
    "<video controls src=\"video/Lecture 11.4 — Machine Learning System Design _ Trading Off Precision And Recall — [Andrew Ng].mp4\"/>animation</video>"
   ]
  },
  {
   "cell_type": "markdown",
   "id": "518638f7",
   "metadata": {},
   "source": [
    "## Machine learning system design - Data for machine learning"
   ]
  },
  {
   "cell_type": "markdown",
   "id": "883bde3c",
   "metadata": {},
   "source": [
    "<video controls src=\"video/Lecture 11.5 — Machine Learning System Design _ Data For Machine Learning — [Andrew Ng].mp4\"/>animation</video>"
   ]
  },
  {
   "cell_type": "markdown",
   "id": "623f4141",
   "metadata": {},
   "source": [
    "## Support Vector Machines - Optimization objective"
   ]
  },
  {
   "cell_type": "markdown",
   "id": "eda5669a",
   "metadata": {},
   "source": [
    "<video controls src=\"video/Lecture 12.1 —  Support Vector Machines _ Optimization Objective — [ Machine Learning _ Andrew Ng].mp4\"/>animation</video>"
   ]
  },
  {
   "cell_type": "markdown",
   "id": "12758b49",
   "metadata": {},
   "source": [
    "## Support Vector Machines - Large Margin Intuition"
   ]
  },
  {
   "cell_type": "markdown",
   "id": "7aa6ccab",
   "metadata": {},
   "source": [
    "<video controls src=\"video/Lecture 12.2 — Support Vector Machines _ Large Margin Intuition — [Machine Learning _ Andrew Ng].mp4\"/>animation</video>"
   ]
  },
  {
   "cell_type": "markdown",
   "id": "804724ef",
   "metadata": {},
   "source": [
    "## Support Vector Machines - The mathematics behine large Margin classification"
   ]
  },
  {
   "cell_type": "markdown",
   "id": "b999c152",
   "metadata": {},
   "source": [
    "<video controls src=\"video/Lecture 12.3 — Support Vector Machines _ Mathematics Behind Large Margin Classification (Optional).mp4\"/>animation</video>"
   ]
  },
  {
   "cell_type": "markdown",
   "id": "7b4f7a62",
   "metadata": {},
   "source": [
    "## Support Vector Machines - Kernels I"
   ]
  },
  {
   "cell_type": "markdown",
   "id": "0ebf6921",
   "metadata": {},
   "source": [
    "<video controls src=\"video/Lecture 12.4 — Support Vector Machines _ (Kernels-I) — [ Machine Learning _ Andrew Ng].mp4\"/>animation</video>"
   ]
  },
  {
   "cell_type": "markdown",
   "id": "e8d17789",
   "metadata": {},
   "source": [
    "## Support Vector Machines - Kernels II"
   ]
  },
  {
   "cell_type": "markdown",
   "id": "c3cb6d7e",
   "metadata": {},
   "source": [
    "<video controls src=\"video/Lecture 12.5 — Support Vector Machines _ (Kernels-II) — [Machine Learning _ Andrew Ng].mp4\"/>animation</video>"
   ]
  },
  {
   "cell_type": "markdown",
   "id": "81e4fd03",
   "metadata": {},
   "source": [
    "## Support Vector Machines - Using an SVM"
   ]
  },
  {
   "cell_type": "markdown",
   "id": "689dc1bf",
   "metadata": {},
   "source": [
    "<video controls src=\"video/Lecture 12.6 — Support Vector Machines _ Using An SVM — [ Machine Learning _ Andrew Ng].mp4\"/>animation</video>"
   ]
  },
  {
   "cell_type": "markdown",
   "id": "2d8c1064",
   "metadata": {},
   "source": [
    "## Clustering - Unsupervised learning introduction"
   ]
  },
  {
   "cell_type": "markdown",
   "id": "d8a9608b",
   "metadata": {},
   "source": [
    "<video controls src=\"video/Lecture 13.1 —  Clustering _ Unsupervised Learning _ Introduction — [ Andrew Ng ].mp4\"/>animation</video>"
   ]
  },
  {
   "cell_type": "markdown",
   "id": "c5566836",
   "metadata": {},
   "source": [
    "## Clustering - K-means algorithm"
   ]
  },
  {
   "cell_type": "markdown",
   "id": "52c56c79",
   "metadata": {},
   "source": [
    "<video controls src=\"video/Lecture 13.2 —  Clustering _ KMeans Algorithm — [ Machine Learning _ Andrew Ng ].mp4\"/>animation</video>"
   ]
  },
  {
   "cell_type": "markdown",
   "id": "d5c96d72",
   "metadata": {},
   "source": [
    "## Clustering - Optimization objective"
   ]
  },
  {
   "cell_type": "markdown",
   "id": "3f6939c1",
   "metadata": {},
   "source": [
    "<video controls src=\"video/Lecture 13.3 —  Clustering _ Optimization Objective — [ Machine Learning _ Andrew Ng ].mp4\"/>animation</video>"
   ]
  },
  {
   "cell_type": "markdown",
   "id": "53f305c9",
   "metadata": {},
   "source": [
    "## Clustering - Random initialization"
   ]
  },
  {
   "cell_type": "markdown",
   "id": "e45f1efb",
   "metadata": {},
   "source": [
    "<video controls src=\"video/Lecture 13.4 —  Clustering _ Random Initialization — [ Machine Learning _ Andrew Ng ].mp4\"/>animation</video>"
   ]
  },
  {
   "cell_type": "markdown",
   "id": "705a8a29",
   "metadata": {},
   "source": [
    "## Clustering - Choosing the number of clusters"
   ]
  },
  {
   "cell_type": "markdown",
   "id": "370c725d",
   "metadata": {},
   "source": [
    "<video controls src=\"video/Lecture 13.5 —  Clustering _ Choosing The Number Of Clusters — [ Machine Learning _ Andrew Ng ].mp4\"/>animation</video>"
   ]
  },
  {
   "cell_type": "markdown",
   "id": "8cf15dde",
   "metadata": {},
   "source": [
    "## Dimensionality Reduction - Motivation I: Data Compression"
   ]
  },
  {
   "cell_type": "markdown",
   "id": "b1ce8dba",
   "metadata": {},
   "source": [
    "<video controls src=\"video/Lecture 14.1 — Dimensionality Reduction Motivation I _ Data Compression — [ Andrew Ng ].mp4\"/>animation</video>"
   ]
  },
  {
   "cell_type": "markdown",
   "id": "5e8287a2",
   "metadata": {},
   "source": [
    "## Dimensionality Reduction - Motivation II: Data Visualization"
   ]
  },
  {
   "cell_type": "markdown",
   "id": "435e3b93",
   "metadata": {},
   "source": [
    "<video controls src=\"video/Lecture 14.2 —Dimensionality Reduction Motivation II  _ Visualization — [ Andrew Ng ].mp4\"/>animation</video>"
   ]
  },
  {
   "cell_type": "markdown",
   "id": "14b97e71",
   "metadata": {},
   "source": [
    "## Dimensionality Reduction - Principal Component Analysis problem formulation"
   ]
  },
  {
   "cell_type": "markdown",
   "id": "6d4131b8",
   "metadata": {},
   "source": [
    "<video controls src=\"video/Lecture 14.3 — Dimensionality Reduction _ Principal Component Analysis _ Problem Formulation.mp4\"/>animation</video>"
   ]
  },
  {
   "cell_type": "markdown",
   "id": "c13692fc",
   "metadata": {},
   "source": [
    "## Dimensionality Reduction - Principal Component Analysis algorithm"
   ]
  },
  {
   "cell_type": "markdown",
   "id": "768dda34",
   "metadata": {},
   "source": [
    "<video controls src=\"video/Lecture 14.4 —  Dimensionality Reduction _ Principal Component Analysis Algorithm — [ Andrew Ng ].mp4\"/>animation</video>"
   ]
  },
  {
   "cell_type": "markdown",
   "id": "e7bd0762",
   "metadata": {},
   "source": [
    "## Dimensionality Reduction - Choosing the number of principal components"
   ]
  },
  {
   "cell_type": "markdown",
   "id": "60faaee6",
   "metadata": {},
   "source": [
    "<video controls src=\"video/Lecture 14.5 — Dimensionality Reduction _ Choosing The Number Of Principal Components.mp4\"/>animation</video>"
   ]
  },
  {
   "cell_type": "markdown",
   "id": "d8f87b4a",
   "metadata": {},
   "source": [
    "## Dimensionality Reduction - Reconstruction from compressed representation"
   ]
  },
  {
   "cell_type": "markdown",
   "id": "db3d0629",
   "metadata": {},
   "source": [
    "<video controls src=\"video/Lecture 14.6 — Dimensionality Reduction _ Reconstruction From Compressed Representation.mp4\"/>animation</video>"
   ]
  },
  {
   "cell_type": "markdown",
   "id": "36f006f1",
   "metadata": {},
   "source": [
    "## Dimensionality Reduction - Advice for applying PCA"
   ]
  },
  {
   "cell_type": "markdown",
   "id": "fd63ff9a",
   "metadata": {},
   "source": [
    "<video controls src=\"video/Lecture 14.7 — Dimensionality Reduction _ Advice For Applying PCA — [ Machine Learning _ Andrew Ng ].mp4\"/>animation</video>"
   ]
  },
  {
   "cell_type": "markdown",
   "id": "357e2a3f",
   "metadata": {},
   "source": [
    "## Anomaly detection - Problem motivation"
   ]
  },
  {
   "cell_type": "markdown",
   "id": "02be0dee",
   "metadata": {},
   "source": [
    "<video controls src=\"video/Lecture 15.1 — Anomaly Detection Problem _ Motivation  — [ Machine Learning _ Andrew Ng ].mp4\"/>animation</video>"
   ]
  },
  {
   "cell_type": "markdown",
   "id": "2ac0d6f8",
   "metadata": {},
   "source": [
    "## Anomaly detection - Gaussian distribution"
   ]
  },
  {
   "cell_type": "markdown",
   "id": "68e7f894",
   "metadata": {},
   "source": [
    "<video controls src=\"video/Lecture 15.2 — Anomaly Detection _ Gaussian Distribution — [ Machine Learning _ Andrew Ng ].mp4\"/>animation</video>"
   ]
  },
  {
   "cell_type": "markdown",
   "id": "eb5dd5f1",
   "metadata": {},
   "source": [
    "## Anomaly detection - Algorithm"
   ]
  },
  {
   "cell_type": "markdown",
   "id": "344c09fe",
   "metadata": {},
   "source": [
    "<video controls src=\"video/Lecture 15.3 — Anomaly Detection Algorithm — [ Machine Learning _ Andrew Ng _ Stanford University ].mp4\"/>animation</video>"
   ]
  },
  {
   "cell_type": "markdown",
   "id": "bb161566",
   "metadata": {},
   "source": [
    "## Anomaly detection - Developing and evaluating an anomaly detection system"
   ]
  },
  {
   "cell_type": "markdown",
   "id": "739738e9",
   "metadata": {},
   "source": [
    "<video controls src=\"video/Lecture 15.4 — Anomaly Detection _ Developing And Evaluating An Anomaly Detection System.mp4\"/>animation</video>"
   ]
  },
  {
   "cell_type": "markdown",
   "id": "a2bb4b64",
   "metadata": {},
   "source": [
    "## Anomaly detection - Anomaly detection vs. supervised learning"
   ]
  },
  {
   "cell_type": "markdown",
   "id": "2c53f9e5",
   "metadata": {},
   "source": [
    "<video controls src=\"video/Lecture 15.5 — Anomaly Detection _ Anomaly Detection Vs Supervised Learning — [ Andrew Ng ].mp4\"/>animation</video>"
   ]
  },
  {
   "cell_type": "markdown",
   "id": "02d802b6",
   "metadata": {},
   "source": [
    "## Anomaly detection - Choosing what features to use"
   ]
  },
  {
   "cell_type": "markdown",
   "id": "488a49ce",
   "metadata": {},
   "source": [
    "<video controls src=\"video/Lecture 15.6 — Anomaly Detection _ Choosing What Features To Use — [ Andrew Ng ].mp4\"/>animation</video>"
   ]
  },
  {
   "cell_type": "markdown",
   "id": "1527d6c9",
   "metadata": {},
   "source": [
    "## Anomaly detection - Multivariate Gaussion distribution"
   ]
  },
  {
   "cell_type": "markdown",
   "id": "a654d61b",
   "metadata": {},
   "source": [
    "<video controls src=\"video/Lecture 15.7 — Anomaly Detection _ Multivariate Gaussian Distribution — [ Andrew Ng ].mp4\"/>animation</video>"
   ]
  },
  {
   "cell_type": "markdown",
   "id": "8d5d9c90",
   "metadata": {},
   "source": [
    "## Anomaly detection - Anomaly detection using the multivariate Gaussian distribution"
   ]
  },
  {
   "cell_type": "markdown",
   "id": "30fa4246",
   "metadata": {},
   "source": [
    "<video controls src=\"video/Lecture 15.8 — Anomaly Detection _ Anomaly Detection Using The Multivariate Gaussian Distribution.mp4\"/>animation</video>"
   ]
  },
  {
   "cell_type": "markdown",
   "id": "e4650778",
   "metadata": {},
   "source": [
    "## Recommender Systems - Problem formulation"
   ]
  },
  {
   "cell_type": "markdown",
   "id": "a0dcc38e",
   "metadata": {},
   "source": [
    "<video controls src=\"video/Lecture 16.1 —  Recommender Systems _ Problem Formulation — [ Machine Learning _ Andrew Ng ].mp4\"/>animation</video>"
   ]
  },
  {
   "cell_type": "markdown",
   "id": "9934dd2f",
   "metadata": {},
   "source": [
    "## Recommender Systems - Content-based recommendations"
   ]
  },
  {
   "cell_type": "markdown",
   "id": "d705a573",
   "metadata": {},
   "source": [
    "<video controls src=\"video/Lecture 16.2 —  Recommender Systems _ Content Based Recommendations — [ Andrew Ng ].mp4\"/>animation</video>"
   ]
  },
  {
   "cell_type": "markdown",
   "id": "76552841",
   "metadata": {},
   "source": [
    "## Recommender Systems - Collaborative filtering"
   ]
  },
  {
   "cell_type": "markdown",
   "id": "85a70f14",
   "metadata": {},
   "source": [
    "<video controls src=\"video/Lecture 16.3 —  Recommender Systems _ Collaborative Filtering — [ Machine Learning _ Andrew Ng ].mp4\"/>animation</video>"
   ]
  },
  {
   "cell_type": "markdown",
   "id": "2eea62c2",
   "metadata": {},
   "source": [
    "## Recommender Systems - Collaborative filtering algorithm"
   ]
  },
  {
   "cell_type": "markdown",
   "id": "10bd06d3",
   "metadata": {},
   "source": [
    "<video controls src=\"video/Lecture 16.4 —  Recommender Systems _ Collaborative Filtering Algorithm — [ Andrew Ng ].mp4\"/>animation</video>"
   ]
  },
  {
   "cell_type": "markdown",
   "id": "751c0fb7",
   "metadata": {},
   "source": [
    "## Recommender Systems - Vectorization: Low rank matrix factorization"
   ]
  },
  {
   "cell_type": "markdown",
   "id": "145de197",
   "metadata": {},
   "source": [
    "<video controls src=\"video/Lecture 16.5 —  Recommender Systems _ Vectorization Low Rank Matrix Factorization — [ Andrew Ng ].mp4\"/>animation</video>"
   ]
  },
  {
   "cell_type": "markdown",
   "id": "3e8b3b3b",
   "metadata": {},
   "source": [
    "## Recommender Systems - Implementational detail: Mean normalization"
   ]
  },
  {
   "cell_type": "markdown",
   "id": "1ff93724",
   "metadata": {},
   "source": [
    "<video controls src=\"video/Lecture 16.6 —  Recommender Systems _ Implementational Detail Mean Normalization — [ Andrew Ng ].mp4\"/>animation</video>"
   ]
  },
  {
   "cell_type": "markdown",
   "id": "c4998f27",
   "metadata": {},
   "source": [
    "## Large scale machine learning - Learning with large detasets"
   ]
  },
  {
   "cell_type": "markdown",
   "id": "2875bc97",
   "metadata": {},
   "source": [
    "<video controls src=\"video/Lecture 17.1 — Large Scale Machine Learning _ Learning With Large Datasets — [ Andrew Ng ].mp4\"/>animation</video>"
   ]
  },
  {
   "cell_type": "markdown",
   "id": "9af32050",
   "metadata": {},
   "source": [
    "## Large scale machine learning - Stochastic gradient descent"
   ]
  },
  {
   "cell_type": "markdown",
   "id": "de6f4e84",
   "metadata": {},
   "source": [
    "<video controls src=\"video/Lecture 17.2 — Large Scale Machine Learning _ Stochastic Gradient Descent — [ Andrew Ng ].mp4\"/>animation</video>"
   ]
  },
  {
   "cell_type": "markdown",
   "id": "7adc183a",
   "metadata": {},
   "source": [
    "## Large scale machine learning - Mini-batch gradient descent"
   ]
  },
  {
   "cell_type": "markdown",
   "id": "c8401474",
   "metadata": {},
   "source": [
    "<video controls src=\"video/Lecture 17.3 — Large Scale Machine Learning _ Mini Batch Gradient Descent — [ Andrew Ng ].mp4\"/>animation</video>"
   ]
  },
  {
   "cell_type": "markdown",
   "id": "ef4a8e37",
   "metadata": {},
   "source": [
    "## Large scale machine learning - Stochastic gradient descent convergence"
   ]
  },
  {
   "cell_type": "markdown",
   "id": "4bb115f5",
   "metadata": {},
   "source": [
    "<video controls src=\"video/Lecture 17.4 — Large Scale Machine Learning _ Stochastic Gradient Descent Convergence.mp4\"/>animation</video>"
   ]
  },
  {
   "cell_type": "markdown",
   "id": "dd59d786",
   "metadata": {},
   "source": [
    "## Large scale machine learning - Online learning"
   ]
  },
  {
   "cell_type": "markdown",
   "id": "2cf23f9f",
   "metadata": {},
   "source": [
    "<video controls src=\"video/Lecture 17.5 — Large Scale Machine Learning _ Online Learning — [ Machine Learning _ Andrew Ng ].mp4\"/>animation</video>"
   ]
  },
  {
   "cell_type": "markdown",
   "id": "651175ad",
   "metadata": {},
   "source": [
    "## Large scale machine learning - Map-reduce and data parallelism"
   ]
  },
  {
   "cell_type": "markdown",
   "id": "3079c1dd",
   "metadata": {},
   "source": [
    "<video controls src=\"video/Lecture 17.6 — Large Scale Machine Learning _ Map Reduce And Data Parallelism — [ Andrew Ng ].mp4\"/>animation</video>"
   ]
  },
  {
   "cell_type": "markdown",
   "id": "be94141e",
   "metadata": {},
   "source": [
    "## Application example: Photo OCR - Problem description and pipeline"
   ]
  },
  {
   "cell_type": "markdown",
   "id": "5a3e3190",
   "metadata": {},
   "source": [
    "<video controls src=\"video/Lecture 18.1 — Application Example Photo OCR _ Problem Description And Pipeline — [ Andrew Ng ].mp4\"/>animation</video>"
   ]
  },
  {
   "cell_type": "markdown",
   "id": "ab9fdb09",
   "metadata": {},
   "source": [
    "## Application example: Photo OCR - Sliding windows"
   ]
  },
  {
   "cell_type": "markdown",
   "id": "515b9730",
   "metadata": {},
   "source": [
    "<video controls src=\"video/Lecture 18.2 — Application Example Photo OCR _ Sliding Windows — [ Machine Learning _ Andrew Ng ].mp4\"/>animation</video>"
   ]
  },
  {
   "cell_type": "markdown",
   "id": "7d416124",
   "metadata": {},
   "source": [
    "## Application example: Photo OCR - Getting lots of data: Artificial data synthesis"
   ]
  },
  {
   "cell_type": "markdown",
   "id": "81ae3308",
   "metadata": {},
   "source": [
    "<video controls src=\"video/Lecture 18.3 — Application Example Photo OCR _ Getting Lots Of Data Artificial Data Synthesis.mp4\"/>animation</video>"
   ]
  },
  {
   "cell_type": "markdown",
   "id": "bd6464fb",
   "metadata": {},
   "source": [
    "## Application example: Photo OCR - Ceiling synthesis: What part of the pipeline to work on next"
   ]
  },
  {
   "cell_type": "markdown",
   "id": "43df1804",
   "metadata": {},
   "source": [
    "<video controls src=\"video/Lecture 18.4 — Application Example Photo OCR _ Ceiling Analysis _ What Part to Work On Next.mp4\"/>animation</video>"
   ]
  },
  {
   "cell_type": "markdown",
   "id": "9e2faca4",
   "metadata": {},
   "source": [
    "## Conclusion - Summary and Thank you"
   ]
  },
  {
   "cell_type": "markdown",
   "id": "264087e9",
   "metadata": {},
   "source": [
    "<video controls src=\"video/Lecture 19 — Conclusion Summary And ThankYou — [ Andrew Ng _ Stanford University ].mp4\"/>animation</video>"
   ]
  }
 ],
 "metadata": {
  "kernelspec": {
   "display_name": "Python 3",
   "language": "python",
   "name": "python3"
  },
  "language_info": {
   "codemirror_mode": {
    "name": "ipython",
    "version": 3
   },
   "file_extension": ".py",
   "mimetype": "text/x-python",
   "name": "python",
   "nbconvert_exporter": "python",
   "pygments_lexer": "ipython3",
   "version": "3.8.0"
  },
  "toc": {
   "base_numbering": 1,
   "nav_menu": {},
   "number_sections": true,
   "sideBar": true,
   "skip_h1_title": false,
   "title_cell": "Table of Contents",
   "title_sidebar": "Contents",
   "toc_cell": false,
   "toc_position": {
    "height": "calc(100% - 180px)",
    "left": "10px",
    "top": "150px",
    "width": "763.477px"
   },
   "toc_section_display": true,
   "toc_window_display": true
  }
 },
 "nbformat": 4,
 "nbformat_minor": 5
}
