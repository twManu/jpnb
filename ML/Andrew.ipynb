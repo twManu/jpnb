{
 "cells": [
  {
   "cell_type": "markdown",
   "id": "f1172b6f",
   "metadata": {},
   "source": [
    "# 吳恩達"
   ]
  },
  {
   "cell_type": "markdown",
   "id": "670d4823",
   "metadata": {},
   "source": [
    "## Welcome to Machine Learning"
   ]
  },
  {
   "cell_type": "markdown",
   "id": "6c08bbc5",
   "metadata": {},
   "source": [
    "<video controls src=\"video/yt1s.com - 1机器学习Machine Learning 吴恩达Andrew Ng中文字幕版Welcome to Machine Learning中英_360p.mp4\"/>animation</video>"
   ]
  },
  {
   "cell_type": "markdown",
   "id": "03683b0c",
   "metadata": {},
   "source": [
    "## Welcome"
   ]
  },
  {
   "cell_type": "markdown",
   "id": "baa1d9f7",
   "metadata": {},
   "source": [
    "<video controls src=\"video/yt1s.com - 2机器学习Machine Learning 吴恩达Andrew Ng中文字幕版Welcome中英_480p.mp4\"/>animation</video>"
   ]
  },
  {
   "cell_type": "markdown",
   "id": "487ecceb",
   "metadata": {},
   "source": [
    "## What is Machine Leaning"
   ]
  },
  {
   "cell_type": "markdown",
   "id": "ea343f35",
   "metadata": {},
   "source": [
    "<video controls src=\"video/yt1s.com - 3机器学习Machine Learning 吴恩达Andrew Ng中文字幕版What is Machine Learning中英_480p.mp4\"/>animation</video>"
   ]
  },
  {
   "cell_type": "markdown",
   "id": "0230266b",
   "metadata": {},
   "source": [
    "## Supervised Leaning"
   ]
  },
  {
   "cell_type": "markdown",
   "id": "a03d3336",
   "metadata": {},
   "source": [
    "### 算法將預測得到例子的正確答案"
   ]
  },
  {
   "cell_type": "markdown",
   "id": "7ca1b73e",
   "metadata": {},
   "source": [
    "<video controls src=\"video/yt1s.com - 4机器学习Machine Learning 吴恩达Andrew Ng中文字幕版Supervised Learning 中英_480p.mp4\"/>animation</video>"
   ]
  },
  {
   "cell_type": "markdown",
   "id": "19820371",
   "metadata": {},
   "source": [
    "## Unsupervised Leaning"
   ]
  },
  {
   "cell_type": "markdown",
   "id": "94cea7c9",
   "metadata": {},
   "source": [
    "### classifier"
   ]
  },
  {
   "cell_type": "markdown",
   "id": "6061a3ec",
   "metadata": {},
   "source": [
    "<video controls src=\"video/yt1s.com - 5机器学习Machine Learning 吴恩达Andrew Ng中文字幕版Unsupervised Learning 中文_480p.mp4\"/>animation</video>"
   ]
  },
  {
   "cell_type": "markdown",
   "id": "0702cafe",
   "metadata": {},
   "source": [
    "## Model representation"
   ]
  },
  {
   "cell_type": "markdown",
   "id": "ab6aeb37",
   "metadata": {},
   "source": [
    "<video controls src=\"video/yt1s.com - 6机器学习Machine Learning 吴恩达Andrew Ng中文字幕版Model Representation 中文_480p.mp4\"/>animation</video>"
   ]
  },
  {
   "cell_type": "markdown",
   "id": "8e668a47",
   "metadata": {},
   "source": [
    "## Cost function"
   ]
  },
  {
   "cell_type": "markdown",
   "id": "87323c5e",
   "metadata": {},
   "source": [
    "<video controls src=\"video/yt1s.com - 7机器学习Machine Learning 吴恩达Andrew Ng中文字幕版Cost Function 中文_480p.mp4\"/>animation</video>"
   ]
  },
  {
   "cell_type": "markdown",
   "id": "5dfce722",
   "metadata": {},
   "source": [
    "## Cost function intuition I"
   ]
  },
  {
   "cell_type": "markdown",
   "id": "c6a11639",
   "metadata": {},
   "source": [
    "<video controls src=\"video/yt1s.com - 8机器学习Machine Learning 吴恩达Andrew Ng中文字幕版Cost Function   Intuition I 中_480p.mp4\"/>animation</video>"
   ]
  },
  {
   "cell_type": "markdown",
   "id": "d2d1f450",
   "metadata": {},
   "source": [
    "## Cost function intuition II"
   ]
  },
  {
   "cell_type": "markdown",
   "id": "baa8ce94",
   "metadata": {},
   "source": [
    "<video controls src=\"video/yt1s.com - 9机器学习Machine Learning 吴恩达Andrew Ng中文字幕版 Cost Function   Intuition II_480p.mp4\"/>animation</video>"
   ]
  },
  {
   "cell_type": "markdown",
   "id": "cab59130",
   "metadata": {},
   "source": [
    "## Gradient descent"
   ]
  },
  {
   "cell_type": "markdown",
   "id": "46276fac",
   "metadata": {},
   "source": [
    "### column equal"
   ]
  },
  {
   "cell_type": "markdown",
   "id": "46936186",
   "metadata": {},
   "source": [
    "### learning rate"
   ]
  },
  {
   "cell_type": "markdown",
   "id": "c66178ba",
   "metadata": {},
   "source": [
    "### simultaneous update"
   ]
  },
  {
   "cell_type": "markdown",
   "id": "a5085754",
   "metadata": {},
   "source": [
    "<video controls src=\"video/yt1s.com - 10机器学习Machine Learning 吴恩达Andrew Ng中文字幕版Gradient Descent 中文_480p.mp4\"/>animation</video>"
   ]
  },
  {
   "cell_type": "markdown",
   "id": "29863b91",
   "metadata": {},
   "source": [
    "![title](pic/gd.png)"
   ]
  },
  {
   "cell_type": "markdown",
   "id": "502c2614",
   "metadata": {},
   "source": [
    "## Linear regression with one variable - Gradient descent intuition"
   ]
  },
  {
   "cell_type": "markdown",
   "id": "a364186c",
   "metadata": {},
   "source": [
    "<video controls src=\"video/yt1s.com - 11机器学习Machine Learning 吴恩达Andrew Ng中文字幕版Gradient Descent Intuition 中_480p.mp4\"/>animation</video>"
   ]
  },
  {
   "cell_type": "markdown",
   "id": "8b6ce7c1",
   "metadata": {},
   "source": [
    "## Linear regression with one variable - Gradient descent for linear regression"
   ]
  },
  {
   "cell_type": "markdown",
   "id": "5237fd43",
   "metadata": {},
   "source": [
    "<video controls src=\"video/yt1s.com - 12机器学习Machine Learning 吴恩达Andrew Ng中文字幕版 GradientDescentForLinearRegre_480p.mp4\"/>animation</video>"
   ]
  },
  {
   "cell_type": "markdown",
   "id": "3a331819",
   "metadata": {},
   "source": [
    "## Linear Algebra review - Matrices and vectors"
   ]
  },
  {
   "cell_type": "markdown",
   "id": "b9724541",
   "metadata": {},
   "source": [
    "<video controls src=\"video/yt1s.com - 13机器学习Machine Learning 吴恩达Andrew Ng中文字幕版 Matrices and Vectors中文_480p.mp4\"/>animation</video>"
   ]
  },
  {
   "cell_type": "markdown",
   "id": "a9cc2b7b",
   "metadata": {},
   "source": [
    "## Linear Algebra review - Addition and scalar multiplication"
   ]
  },
  {
   "cell_type": "markdown",
   "id": "8e2eb95b",
   "metadata": {},
   "source": [
    "<video controls src=\"video/yt1s.com - 14机器学习Machine Learning 吴恩达Andrew Ng中文字幕版 Addition and Scalar Multiplic_480p.mp4\"/>animation</video>"
   ]
  },
  {
   "cell_type": "markdown",
   "id": "bbd02b00",
   "metadata": {},
   "source": [
    "## Linear Algebra review - Matrix-vector multiplication"
   ]
  },
  {
   "cell_type": "markdown",
   "id": "bac540de",
   "metadata": {},
   "source": [
    "<video controls src=\"video/yt1s.com - 15机器学习Machine Learning 吴恩达Andrew Ng中文字幕版 Matrix Vector Multiplication_480p.mp4\"/>animation</video>"
   ]
  },
  {
   "cell_type": "markdown",
   "id": "d3ed2903",
   "metadata": {},
   "source": [
    "## Linear Algebra review - Matrix-matrix multiplication"
   ]
  },
  {
   "cell_type": "markdown",
   "id": "3f1ddab6",
   "metadata": {},
   "source": [
    "<video controls src=\"video/yt1s.com - 16机器学习Machine Learning 吴恩达Andrew Ng中文字幕版Matrix Matrix Multiplication_480p.mp4\"/>animation</video>"
   ]
  },
  {
   "cell_type": "markdown",
   "id": "a58f9f84",
   "metadata": {},
   "source": [
    "## Linear Algebra review - Matrix-matrix multiplication properties"
   ]
  },
  {
   "cell_type": "markdown",
   "id": "2a98090f",
   "metadata": {},
   "source": [
    "<video controls src=\"video/yt1s.com - 17机器学习Machine Learning 吴恩达Andrew Ng中文字幕版Matrix Multiplication Propert_480p.mp4\"/>animation</video>"
   ]
  },
  {
   "cell_type": "markdown",
   "id": "fd097b07",
   "metadata": {},
   "source": [
    "## Linear Algebra review - Inverse and transpose"
   ]
  },
  {
   "cell_type": "markdown",
   "id": "45e94622",
   "metadata": {},
   "source": [
    "<video controls src=\"video/yt1s.com - 18机器学习Machine Learning 吴恩达Andrew Ng中文字幕版Inverse and Transpose中文_480p.mp4\"/>animation</video>"
   ]
  },
  {
   "cell_type": "markdown",
   "id": "6216a4a5",
   "metadata": {},
   "source": [
    "## Linear Regression with multiple variables - Multiple features"
   ]
  },
  {
   "cell_type": "markdown",
   "id": "b748330f",
   "metadata": {},
   "source": [
    "<video controls src=\"video/yt1s.com - 19机器学习Machine Learning 吴恩达Andrew Ng中文字幕版Multiple Features 中文_480p.mp4\"/>animation</video>"
   ]
  },
  {
   "cell_type": "markdown",
   "id": "e9940ea6",
   "metadata": {},
   "source": [
    "## Linear Regression with multiple variables - Gradient descent for multiple variables"
   ]
  },
  {
   "cell_type": "markdown",
   "id": "a302fff4",
   "metadata": {},
   "source": [
    "<video controls src=\"video/yt1s.com - 20机器学习Machine Learning 吴恩达Andrew Ng中文字幕版Gradient Descent for Multiple_480p.mp4\"/>animation</video>"
   ]
  },
  {
   "cell_type": "markdown",
   "id": "08d8d9dc",
   "metadata": {},
   "source": [
    "## Linear Regression with multiple variables - Gradient descent in practice I: Feature Scaling"
   ]
  },
  {
   "cell_type": "markdown",
   "id": "21bbc46a",
   "metadata": {},
   "source": [
    "<video controls src=\"video/yt1s.com - 21机器学习Machine Learning 吴恩达Andrew Ng中文字幕版Gradient Descent in Practice_480p.mp4\"/>animation</video>"
   ]
  },
  {
   "cell_type": "markdown",
   "id": "40d4cb6d",
   "metadata": {},
   "source": [
    "## Linear Regression with multiple variables - Gradient descent in practice II: Learning rate"
   ]
  },
  {
   "cell_type": "markdown",
   "id": "891bc2a4",
   "metadata": {},
   "source": [
    "<video controls src=\"video/yt1s.com - 22机器学习Machine Learning 吴恩达Andrew Ng中文字幕版Gradient Descent in Practice_480p.mp4\"/>animation</video>"
   ]
  },
  {
   "cell_type": "markdown",
   "id": "dffa202a",
   "metadata": {},
   "source": [
    "## Linear Regression with multiple variables - Features and polynominal regression"
   ]
  },
  {
   "cell_type": "markdown",
   "id": "f4c665e8",
   "metadata": {},
   "source": [
    "<video controls src=\"video/yt1s.com - 23机器学习Machine Learning 吴恩达Andrew Ng中文字幕版 Features and Polynomial Regre_480p.mp4\"/>animation</video>"
   ]
  },
  {
   "cell_type": "markdown",
   "id": "1e283406",
   "metadata": {},
   "source": [
    "## Linear Regression with multiple variables - Normal equation"
   ]
  },
  {
   "cell_type": "markdown",
   "id": "9dcef663",
   "metadata": {},
   "source": [
    "<video controls src=\"video/yt1s.com - 24机器学习Machine Learning 吴恩达Andrew Ng中文字幕版Normal Equation 中英Av9912938P24_480p.mp4\"/>animation</video>"
   ]
  },
  {
   "cell_type": "markdown",
   "id": "2396040b",
   "metadata": {},
   "source": [
    "## Linear Regression with multiple variables - Normal equation and non-invertibility"
   ]
  },
  {
   "cell_type": "markdown",
   "id": "051c1170",
   "metadata": {},
   "source": [
    "<video controls src=\"video/yt1s.com - 25机器学习Machine Learning 吴恩达Andrew Ng中文字幕版Normal Equation Noninvertibil_480p.mp4\"/>animation</video>"
   ]
  },
  {
   "cell_type": "markdown",
   "id": "d0011292",
   "metadata": {},
   "source": [
    "## Octave Tutorial - Working on and submitting programming"
   ]
  },
  {
   "cell_type": "markdown",
   "id": "3d61aada",
   "metadata": {},
   "source": [
    "<video controls src=\"video/yt1s.com - 26机器学习Machine Learning 吴恩达Andrew Ng中文字幕版Working on and Submitting Pro_480p.mp4\"/>animation</video>"
   ]
  },
  {
   "cell_type": "markdown",
   "id": "538824aa",
   "metadata": {},
   "source": [
    "## missing"
   ]
  },
  {
   "cell_type": "markdown",
   "id": "02c855cc",
   "metadata": {},
   "source": [
    "## Octave Tutorial - Moving data around"
   ]
  },
  {
   "cell_type": "markdown",
   "id": "5ea63a8b",
   "metadata": {},
   "source": [
    "<video controls src=\"video/yt1s.com - 28机器学习Machine Learning 吴恩达Andrew Ng中文字幕版Moving Data Around 中英Av9912938P28_480p.mp4\"/>animation</video>"
   ]
  },
  {
   "cell_type": "markdown",
   "id": "e116d61d",
   "metadata": {},
   "source": [
    "## Octave Tutorial - Computing on data"
   ]
  },
  {
   "cell_type": "markdown",
   "id": "74f37846",
   "metadata": {},
   "source": [
    "<video controls src=\"video/yt1s.com - 29机器学习Machine Learning 吴恩达Andrew Ng中文字幕版Computing on Data中英Av9912938P2_480p.mp4\"/>animation</video>"
   ]
  },
  {
   "cell_type": "markdown",
   "id": "e1d3c6ea",
   "metadata": {},
   "source": [
    "## Octave Tutorial - Plotting data"
   ]
  },
  {
   "cell_type": "markdown",
   "id": "0ca7a896",
   "metadata": {},
   "source": [
    "<video controls src=\"video/yt1s.com - 30机器学习Machine Learning 吴恩达Andrew Ng中文字幕版Plotting Data 中英_480p.mp4\"/>animation</video>"
   ]
  },
  {
   "cell_type": "markdown",
   "id": "8b84026f",
   "metadata": {},
   "source": [
    "## Octave Tutorial - Vectorization"
   ]
  },
  {
   "cell_type": "markdown",
   "id": "642bdfd6",
   "metadata": {},
   "source": [
    "<video controls src=\"video/yt1s.com - 32机器学习Machine Learning 吴恩达Andrew Ng中文字幕版Vectorization 中英_480p.mp4\"/>animation</video>"
   ]
  },
  {
   "cell_type": "markdown",
   "id": "441b24c3",
   "metadata": {},
   "source": [
    "## Logistic Regression - Classification"
   ]
  },
  {
   "cell_type": "markdown",
   "id": "f93037a1",
   "metadata": {},
   "source": [
    "<video controls src=\"video/yt1s.com - 33机器学习Machine Learning 吴恩达Andrew Ng中文字幕版Classification 中英机翻_480p.mp4\"/>animation</video>"
   ]
  },
  {
   "cell_type": "markdown",
   "id": "5bbce57c",
   "metadata": {},
   "source": [
    "## Logistic Regression - Hypothesis Representation"
   ]
  },
  {
   "cell_type": "markdown",
   "id": "c904a85c",
   "metadata": {},
   "source": [
    "<video controls src=\"video/yt1s.com - 34机器学习Machine Learning 吴恩达Andrew Ng中文字幕版 Hypothesis Representation 中文_480p.mp4\"/>animation</video>"
   ]
  },
  {
   "cell_type": "markdown",
   "id": "28f77d40",
   "metadata": {},
   "source": [
    "## Logistic Regression - Decision boundary"
   ]
  },
  {
   "cell_type": "markdown",
   "id": "5d291359",
   "metadata": {},
   "source": [
    "<video controls src=\"video/yt1s.com - 35机器学习Machine Learning 吴恩达Andrew Ng中文字幕版Decision Boundary 中英_480p.mp4\"/>animation</video>"
   ]
  },
  {
   "cell_type": "markdown",
   "id": "deac1115",
   "metadata": {},
   "source": [
    "## Logistic Regression - Cost function"
   ]
  },
  {
   "cell_type": "markdown",
   "id": "363cacc4",
   "metadata": {},
   "source": [
    "<video controls src=\"video/yt1s.com - 36机器学习Machine Learning 吴恩达Andrew Ng中文字幕版Cost Function 中英_480p.mp4\"/>animation</video>"
   ]
  },
  {
   "cell_type": "markdown",
   "id": "04b84e7a",
   "metadata": {},
   "source": [
    "## Logistic Regression - Simplified cost function and gradient descent"
   ]
  },
  {
   "cell_type": "markdown",
   "id": "d9e6ef34",
   "metadata": {},
   "source": [
    "<video controls src=\"video/yt1s.com - 37机器学习Machine Learning 吴恩达Andrew Ng中文字幕版Simplified Cost Function and_480p.mp4\"/>animation</video>"
   ]
  },
  {
   "cell_type": "markdown",
   "id": "4f053028",
   "metadata": {},
   "source": [
    "## Logistic Regression - Advanced optimization"
   ]
  },
  {
   "cell_type": "markdown",
   "id": "4985ba88",
   "metadata": {},
   "source": [
    "<video controls src=\"video/yt1s.com - 38机器学习Machine Learning 吴恩达Andrew Ng中文字幕版 Advanced Optimization 中英_480p.mp4\"/>animation</video>"
   ]
  },
  {
   "cell_type": "markdown",
   "id": "2edd511b",
   "metadata": {},
   "source": [
    "## Logistic Regression - Multi-class classification: One-vs-all"
   ]
  },
  {
   "cell_type": "markdown",
   "id": "08b2c12f",
   "metadata": {},
   "source": [
    "<video controls src=\"video/yt1s.com - 39机器学习Machine Learning 吴恩达Andrew Ng中文字幕版Multiclass Classification  On_480p.mp4\"/>animation</video>"
   ]
  },
  {
   "cell_type": "markdown",
   "id": "7a1c8caa",
   "metadata": {},
   "source": [
    "## Regularization - The problem of overfitting"
   ]
  },
  {
   "cell_type": "markdown",
   "id": "59f223cf",
   "metadata": {},
   "source": [
    "<video controls src=\"video/yt1s.com - 40机器学习Machine Learning 吴恩达Andrew Ng中文字幕版The Problem of Overfitting中英_480p.mp4\"/>animation</video>"
   ]
  },
  {
   "cell_type": "markdown",
   "id": "13ec874a",
   "metadata": {},
   "source": [
    "## Regularization - Cost function"
   ]
  },
  {
   "cell_type": "markdown",
   "id": "e1332a75",
   "metadata": {},
   "source": [
    "<video controls src=\"video/yt1s.com -41机器学习Machine Learning 吴恩达Andrew Ng中文字幕版Cost Function 中英_480p.mp4\"/>animation</video>"
   ]
  },
  {
   "cell_type": "markdown",
   "id": "ad44e428",
   "metadata": {},
   "source": [
    "## Regularization - Regularized linear regression"
   ]
  },
  {
   "cell_type": "markdown",
   "id": "2868a6d1",
   "metadata": {},
   "source": [
    "<video controls src=\"video/Lecture 7.3 — Regularization _ Regularized Linear Regression — [ Machine Learning _ Andrew Ng].mp4\"/>animation</video>"
   ]
  },
  {
   "cell_type": "markdown",
   "id": "89f51ee8",
   "metadata": {},
   "source": [
    "## Regularization - Regularized logistic regression"
   ]
  },
  {
   "cell_type": "markdown",
   "id": "27dbbe71",
   "metadata": {},
   "source": [
    "<video controls src=\"video/Lecture 7.4 — Regularization _ Regularized Logistic Regression — [ Machine Learning _ Andrew Ng].mp4\"/>animation</video>"
   ]
  },
  {
   "cell_type": "markdown",
   "id": "cc3a59cb",
   "metadata": {},
   "source": [
    "## Neural Networks: Representation - Non-linear hypotheses"
   ]
  },
  {
   "cell_type": "markdown",
   "id": "9e6d0a84",
   "metadata": {},
   "source": [
    "<video controls src=\"video/Lecture 8.1 — Neural Networks Representation _ Non Linear Hypotheses — [Andrew Ng].mp4\"/>animation</video>"
   ]
  },
  {
   "cell_type": "markdown",
   "id": "fb9d3034",
   "metadata": {},
   "source": [
    "## Neural Networks: Representation - Neurons and the brain"
   ]
  },
  {
   "cell_type": "markdown",
   "id": "299c4614",
   "metadata": {},
   "source": [
    "<video controls src=\"video/Lecture 8.2 — Neural Networks Representation _ Neurons And The Brain — [Andrew Ng].mp4\"/>animation</video>"
   ]
  },
  {
   "cell_type": "markdown",
   "id": "cb542cb1",
   "metadata": {},
   "source": [
    "## Neural Networks: Representation - Model representation I"
   ]
  },
  {
   "cell_type": "markdown",
   "id": "4a8f9250",
   "metadata": {},
   "source": [
    "<video controls src=\"video/Lecture 8.3 — Neural Networks Representation _ Model Representation-I — [ Andrew Ng ].mp4\"/>animation</video>"
   ]
  },
  {
   "cell_type": "markdown",
   "id": "8e35723c",
   "metadata": {},
   "source": [
    "## Neural Networks: Representation - Model representation II"
   ]
  },
  {
   "cell_type": "markdown",
   "id": "57343b9c",
   "metadata": {},
   "source": [
    "<video controls src=\"video/Lecture 8.4 — Neural Networks Representation _ Model Representation-II — [Andrew Ng].mp4\"/>animation</video>"
   ]
  },
  {
   "cell_type": "markdown",
   "id": "4673af14",
   "metadata": {},
   "source": [
    "## Neural Networks: Representation - Examples and intuitions I"
   ]
  },
  {
   "cell_type": "markdown",
   "id": "7b74e09a",
   "metadata": {},
   "source": [
    "<video controls src=\"video/Lecture 8.5 — Neural Networks Representation _ Examples And Intuitions-I — [ Andrew Ng].mp4\"/>animation</video>"
   ]
  },
  {
   "cell_type": "markdown",
   "id": "7a4f013c",
   "metadata": {},
   "source": [
    "## Neural Networks: Representation - Examples and intuitions II"
   ]
  },
  {
   "cell_type": "markdown",
   "id": "b6837c87",
   "metadata": {},
   "source": [
    "<video controls src=\"video/Lecture 8.6 — Neural Networks Representation _ Examples And Intuitions-II — [ Andrew Ng].mp4\"/>animation</video>"
   ]
  },
  {
   "cell_type": "markdown",
   "id": "677139f4",
   "metadata": {},
   "source": [
    "## Neural Networks: Representation - Multi-class classification"
   ]
  },
  {
   "cell_type": "markdown",
   "id": "b2905565",
   "metadata": {},
   "source": [
    "<video controls src=\"video/Lecture 8.7 — Neural Networks Representation _ MultiClass Classification — [Andrew Ng].mp4\"/>animation</video>"
   ]
  },
  {
   "cell_type": "markdown",
   "id": "27c11bee",
   "metadata": {},
   "source": [
    "## Neural Networks: Learning - Cost function"
   ]
  },
  {
   "cell_type": "markdown",
   "id": "4fe5ae09",
   "metadata": {},
   "source": [
    "<video controls src=\"video/Lecture 9.1 — Neural Networks Learning _ Cost Function — [ Machine Learning _ Andrew Ng].mp4\"/>animation</video>"
   ]
  },
  {
   "cell_type": "markdown",
   "id": "dd03b7a4",
   "metadata": {},
   "source": [
    "## Neural Networks: Learning - Backpropagation algorithm"
   ]
  },
  {
   "cell_type": "markdown",
   "id": "b7440341",
   "metadata": {},
   "source": [
    "<video controls src=\"video/Lecture 9.2 — Neural Networks Learning _ Backpropagation Algorithm — [ Machine Learning _ Andrew Ng].mp4\"/>animation</video>"
   ]
  },
  {
   "cell_type": "markdown",
   "id": "dd77dba6",
   "metadata": {},
   "source": [
    "## Neural Networks: Learning - Backpropagation intuition"
   ]
  },
  {
   "cell_type": "markdown",
   "id": "471b64f2",
   "metadata": {},
   "source": [
    "<video controls src=\"video/Lecture 9.3 — Neural Networks Learning _ Backpropagation Intuition — [ Machine Learning _ Andrew Ng].mp4\"/>animation</video>"
   ]
  },
  {
   "cell_type": "markdown",
   "id": "35168886",
   "metadata": {},
   "source": [
    "## Neural Networks: Learning - Implementation note: Unrolling parameters"
   ]
  },
  {
   "cell_type": "markdown",
   "id": "7c3fffa0",
   "metadata": {},
   "source": [
    "<video controls src=\"video/Lecture 9.4 — Neural Networks Learning _ Implementation Note Unrolling Parameters — [ Andrew Ng].mp4\"/>animation</video>"
   ]
  },
  {
   "cell_type": "markdown",
   "id": "58626259",
   "metadata": {},
   "source": [
    "## Neural Networks: Learning - Gradient checking"
   ]
  },
  {
   "cell_type": "markdown",
   "id": "e7e4e439",
   "metadata": {},
   "source": [
    "<video controls src=\"video/Lecture 9.5 — Neural Networks Learning _ Gradient Checking — [ Machine Learning _ Andrew Ng].mp4\"/>animation</video>"
   ]
  },
  {
   "cell_type": "markdown",
   "id": "fa7f909f",
   "metadata": {},
   "source": [
    "## Neural Networks: Learning - Random initialization"
   ]
  },
  {
   "cell_type": "markdown",
   "id": "237985c1",
   "metadata": {},
   "source": [
    "<video controls src=\"video/Lecture 9.6 — Neural Networks Learning _ Random Initialization — [ Machine Learning _ Andrew Ng].mp4\"/>animation</video>"
   ]
  },
  {
   "cell_type": "markdown",
   "id": "b98ecaad",
   "metadata": {},
   "source": [
    "## Neural Networks: Learning - Putting it together"
   ]
  },
  {
   "cell_type": "markdown",
   "id": "acff0ee5",
   "metadata": {},
   "source": [
    "<video controls src=\"video/Lecture 9.7 — Neural Networks Learning _ Putting It Together — [ Machine Learning _ Andrew Ng].mp4\"/>animation</video>"
   ]
  },
  {
   "cell_type": "markdown",
   "id": "fee70d24",
   "metadata": {},
   "source": [
    "## Neural Networks: Learning - Autonomous driving example"
   ]
  },
  {
   "cell_type": "markdown",
   "id": "122b6f19",
   "metadata": {},
   "source": [
    "<video controls src=\"video/Lecture 9.8 — Neural Networks Learning _ Autonomous Driving Example — [Andrew Ng].mp4\"/>animation</video>"
   ]
  },
  {
   "cell_type": "markdown",
   "id": "5b225a90",
   "metadata": {},
   "source": [
    "## Advice for applying machine learning - Deciding what to try next"
   ]
  },
  {
   "cell_type": "markdown",
   "id": "b9180847",
   "metadata": {},
   "source": [
    "<video controls src=\"video/Lecture 10.1 — Advice For Applying Machine Learning _ Deciding What To Try Next — [ Andrew Ng].mp4\"/>animation</video>"
   ]
  },
  {
   "cell_type": "markdown",
   "id": "0f43b0d0",
   "metadata": {},
   "source": [
    "## Advice for applying machine learning - Evaluating a hypothesis"
   ]
  },
  {
   "cell_type": "markdown",
   "id": "bea57448",
   "metadata": {},
   "source": [
    "<video controls src=\"video/Lecture 10.2 — Advice For Applying Machine Learning _ Evaluating A Hypothesis — [ Andrew Ng].mp4\"/>animation</video>"
   ]
  },
  {
   "cell_type": "markdown",
   "id": "89bde09b",
   "metadata": {},
   "source": [
    "## Advice for applying machine learning - Model selection and training/validation/test sets"
   ]
  },
  {
   "cell_type": "markdown",
   "id": "be617d88",
   "metadata": {},
   "source": [
    "<video controls src=\"video/Lecture 10.3 — Advice For Applying Machine Learning _ Model Selection And Train Validation Test Sets.mp4\"/>animation</video>"
   ]
  },
  {
   "cell_type": "markdown",
   "id": "8eeafbbc",
   "metadata": {},
   "source": [
    "## Advice for applying machine learning - Diagnosing bias vs. variance"
   ]
  },
  {
   "cell_type": "markdown",
   "id": "84fde481",
   "metadata": {},
   "source": [
    "<video controls src=\"video/Lecture 10.4 — Advice For Applying Machine Learning _ Diagnosing Bias Vs Variance — [Andrew Ng].mp4\"/>animation</video>"
   ]
  },
  {
   "cell_type": "markdown",
   "id": "c40752b7",
   "metadata": {},
   "source": [
    "## Advice for applying machine learning - Regularization and bias/variance"
   ]
  },
  {
   "cell_type": "markdown",
   "id": "9e5c2025",
   "metadata": {},
   "source": [
    "<video controls src=\"video/Lecture 10.5 — Advice For Applying Machine Learning _ Regularization And Bias Variance — [Andrew Ng].mp4\"/>animation</video>"
   ]
  },
  {
   "cell_type": "markdown",
   "id": "191e7f52",
   "metadata": {},
   "source": [
    "## Advice for applying machine learning - Learning curves"
   ]
  },
  {
   "cell_type": "markdown",
   "id": "1936609b",
   "metadata": {},
   "source": [
    "<video controls src=\"video/Lecture 10.6 — Advice For Applying Machine Learning _ Learning Curves — [Andrew Ng].mp4\"/>animation</video>"
   ]
  },
  {
   "cell_type": "markdown",
   "id": "da8aafc8",
   "metadata": {},
   "source": [
    "## Advice for applying machine learning - Deciding what to try next"
   ]
  },
  {
   "cell_type": "markdown",
   "id": "3fccc814",
   "metadata": {},
   "source": [
    "<video controls src=\"video/Lecture 10.7 — Advice For Applying Machine Learning _ Deciding What To Do Next (Revisited).mp4\"/>animation</video>"
   ]
  },
  {
   "cell_type": "code",
   "execution_count": null,
   "id": "7948f651",
   "metadata": {},
   "outputs": [],
   "source": []
  }
 ],
 "metadata": {
  "kernelspec": {
   "display_name": "Python 3",
   "language": "python",
   "name": "python3"
  },
  "language_info": {
   "codemirror_mode": {
    "name": "ipython",
    "version": 3
   },
   "file_extension": ".py",
   "mimetype": "text/x-python",
   "name": "python",
   "nbconvert_exporter": "python",
   "pygments_lexer": "ipython3",
   "version": "3.8.0"
  },
  "toc": {
   "base_numbering": 1,
   "nav_menu": {},
   "number_sections": true,
   "sideBar": true,
   "skip_h1_title": false,
   "title_cell": "Table of Contents",
   "title_sidebar": "Contents",
   "toc_cell": false,
   "toc_position": {
    "height": "calc(100% - 180px)",
    "left": "10px",
    "top": "150px",
    "width": "371px"
   },
   "toc_section_display": true,
   "toc_window_display": true
  }
 },
 "nbformat": 4,
 "nbformat_minor": 5
}
