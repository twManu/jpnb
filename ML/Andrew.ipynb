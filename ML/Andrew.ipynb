{
 "cells": [
  {
   "cell_type": "markdown",
   "id": "164ce5b4",
   "metadata": {},
   "source": [
    "# 吳恩達"
   ]
  },
  {
   "cell_type": "markdown",
   "id": "5dd8812e",
   "metadata": {},
   "source": [
    "## Welcome to Machine Learning"
   ]
  },
  {
   "cell_type": "markdown",
   "id": "654d8d1e",
   "metadata": {},
   "source": [
    "<video controls src=\"video/yt1s.com - 1机器学习Machine Learning 吴恩达Andrew Ng中文字幕版Welcome to Machine Learning中英_360p.mp4\"/>animation</video>"
   ]
  },
  {
   "cell_type": "markdown",
   "id": "14e4e53a",
   "metadata": {},
   "source": [
    "## Welcome"
   ]
  },
  {
   "cell_type": "markdown",
   "id": "b3671914",
   "metadata": {},
   "source": [
    "<video controls src=\"video/yt1s.com - 2机器学习Machine Learning 吴恩达Andrew Ng中文字幕版Welcome中英_480p.mp4\"/>animation</video>"
   ]
  },
  {
   "cell_type": "markdown",
   "id": "6cad682d",
   "metadata": {},
   "source": [
    "## What is Machine Leaning"
   ]
  },
  {
   "cell_type": "markdown",
   "id": "7d7ca498",
   "metadata": {},
   "source": [
    "<video controls src=\"video/yt1s.com - 3机器学习Machine Learning 吴恩达Andrew Ng中文字幕版What is Machine Learning中英_480p.mp4\"/>animation</video>"
   ]
  },
  {
   "cell_type": "markdown",
   "id": "81f3f6c7",
   "metadata": {},
   "source": [
    "## Supervised Leaning"
   ]
  },
  {
   "cell_type": "markdown",
   "id": "81d6675f",
   "metadata": {},
   "source": [
    "<video controls src=\"video/yt1s.com - 4机器学习Machine Learning 吴恩达Andrew Ng中文字幕版Supervised Learning 中英_480p.mp4\"/>animation</video>"
   ]
  },
  {
   "cell_type": "markdown",
   "id": "cf42e752",
   "metadata": {},
   "source": [
    "## Unsupervised Leaning"
   ]
  },
  {
   "cell_type": "markdown",
   "id": "856f6b23",
   "metadata": {},
   "source": [
    "<video controls src=\"video/yt1s.com - 5机器学习Machine Learning 吴恩达Andrew Ng中文字幕版Unsupervised Learning 中文_480p.mp4\"/>animation</video>"
   ]
  },
  {
   "cell_type": "markdown",
   "id": "f629d1b5",
   "metadata": {},
   "source": [
    "## Model representation"
   ]
  },
  {
   "cell_type": "markdown",
   "id": "6b30fcce",
   "metadata": {},
   "source": [
    "<video controls src=\"video/yt1s.com - 6机器学习Machine Learning 吴恩达Andrew Ng中文字幕版Model Representation 中文_480p.mp4\"/>animation</video>"
   ]
  },
  {
   "cell_type": "markdown",
   "id": "d73ec523",
   "metadata": {},
   "source": [
    "## Cost function"
   ]
  },
  {
   "cell_type": "markdown",
   "id": "915839fd",
   "metadata": {},
   "source": [
    "<video controls src=\"video/yt1s.com - 7机器学习Machine Learning 吴恩达Andrew Ng中文字幕版Cost Function 中文_480p.mp4\"/>animation</video>"
   ]
  },
  {
   "cell_type": "markdown",
   "id": "2a01c770",
   "metadata": {},
   "source": [
    "## Cost function intuition I"
   ]
  },
  {
   "cell_type": "markdown",
   "id": "21f5e5bd",
   "metadata": {},
   "source": [
    "<video controls src=\"video/yt1s.com - 8机器学习Machine Learning 吴恩达Andrew Ng中文字幕版Cost Function   Intuition I 中_480p.mp4\"/>animation</video>"
   ]
  },
  {
   "cell_type": "markdown",
   "id": "e75c2c39",
   "metadata": {},
   "source": [
    "## Cost function intuition II"
   ]
  },
  {
   "cell_type": "markdown",
   "id": "fe10d15f",
   "metadata": {},
   "source": [
    "<video controls src=\"video/yt1s.com - 9机器学习Machine Learning 吴恩达Andrew Ng中文字幕版 Cost Function   Intuition II_480p.mp4\"/>animation</video>"
   ]
  },
  {
   "cell_type": "markdown",
   "id": "fb13044d",
   "metadata": {},
   "source": [
    "## Gradient descent"
   ]
  },
  {
   "cell_type": "markdown",
   "id": "ad0aafb0",
   "metadata": {},
   "source": [
    "<video controls src=\"video/yt1s.com - 10机器学习Machine Learning 吴恩达Andrew Ng中文字幕版Gradient Descent 中文_480p.mp4\"/>animation</video>"
   ]
  },
  {
   "cell_type": "markdown",
   "id": "26968e02",
   "metadata": {},
   "source": [
    "## Linear regression with one variable - Gradient descent intuition"
   ]
  },
  {
   "cell_type": "markdown",
   "id": "24a5a1f2",
   "metadata": {},
   "source": [
    "<video controls src=\"video/yt1s.com - 11机器学习Machine Learning 吴恩达Andrew Ng中文字幕版Gradient Descent Intuition 中_480p.mp4\"/>animation</video>"
   ]
  },
  {
   "cell_type": "markdown",
   "id": "d575ba88",
   "metadata": {},
   "source": [
    "## Linear regression with one variable - Gradient descent for linear regression"
   ]
  },
  {
   "cell_type": "markdown",
   "id": "696d934c",
   "metadata": {},
   "source": [
    "<video controls src=\"video/yt1s.com - 12机器学习Machine Learning 吴恩达Andrew Ng中文字幕版 GradientDescentForLinearRegre_480p.mp4\"/>animation</video>"
   ]
  },
  {
   "cell_type": "markdown",
   "id": "bb9388f6",
   "metadata": {},
   "source": [
    "## Linear Algebra review - Matrices and vectors"
   ]
  },
  {
   "cell_type": "markdown",
   "id": "c80a020a",
   "metadata": {},
   "source": [
    "<video controls src=\"video/yt1s.com - 13机器学习Machine Learning 吴恩达Andrew Ng中文字幕版 Matrices and Vectors中文_480p.mp4\"/>animation</video>"
   ]
  },
  {
   "cell_type": "markdown",
   "id": "c3508a8b",
   "metadata": {},
   "source": [
    "## Linear Algebra review - Addition and scalar multiplication"
   ]
  },
  {
   "cell_type": "markdown",
   "id": "dfc54c20",
   "metadata": {},
   "source": [
    "<video controls src=\"video/yt1s.com - 14机器学习Machine Learning 吴恩达Andrew Ng中文字幕版 Addition and Scalar Multiplic_480p.mp4\"/>animation</video>"
   ]
  },
  {
   "cell_type": "markdown",
   "id": "d09427b7",
   "metadata": {},
   "source": [
    "## Linear Algebra review - Matrix-vector multiplication"
   ]
  },
  {
   "cell_type": "markdown",
   "id": "e0cecb7a",
   "metadata": {},
   "source": [
    "<video controls src=\"video/yt1s.com - 15机器学习Machine Learning 吴恩达Andrew Ng中文字幕版 Matrix Vector Multiplication_480p.mp4\"/>animation</video>"
   ]
  },
  {
   "cell_type": "markdown",
   "id": "7f40e1a5",
   "metadata": {},
   "source": [
    "## Linear Algebra review - Matrix-matrix multiplication"
   ]
  },
  {
   "cell_type": "markdown",
   "id": "c28392ba",
   "metadata": {},
   "source": [
    "<video controls src=\"video/yt1s.com - 16机器学习Machine Learning 吴恩达Andrew Ng中文字幕版Matrix Matrix Multiplication_480p.mp4\"/>animation</video>"
   ]
  },
  {
   "cell_type": "markdown",
   "id": "399bd1c3",
   "metadata": {},
   "source": [
    "## Linear Algebra review - Matrix-matrix multiplication properties"
   ]
  },
  {
   "cell_type": "markdown",
   "id": "02427a8d",
   "metadata": {},
   "source": [
    "<video controls src=\"video/yt1s.com - 17机器学习Machine Learning 吴恩达Andrew Ng中文字幕版Matrix Multiplication Propert_480p.mp4\"/>animation</video>"
   ]
  },
  {
   "cell_type": "markdown",
   "id": "a979a5ba",
   "metadata": {},
   "source": [
    "## Linear Algebra review - Inverse and transpose"
   ]
  },
  {
   "cell_type": "markdown",
   "id": "bc5b8b7c",
   "metadata": {},
   "source": [
    "<video controls src=\"video/yt1s.com - 18机器学习Machine Learning 吴恩达Andrew Ng中文字幕版Inverse and Transpose中文_480p.mp4\"/>animation</video>"
   ]
  },
  {
   "cell_type": "markdown",
   "id": "d233b94a",
   "metadata": {},
   "source": [
    "## Linear Regression with multiple variables - Multiple features"
   ]
  },
  {
   "cell_type": "markdown",
   "id": "13f3897e",
   "metadata": {},
   "source": [
    "<video controls src=\"video/yt1s.com - 19机器学习Machine Learning 吴恩达Andrew Ng中文字幕版Multiple Features 中文_480p.mp4\"/>animation</video>"
   ]
  },
  {
   "cell_type": "markdown",
   "id": "24b45f69",
   "metadata": {},
   "source": [
    "## Linear Regression with multiple variables - Gradient descent for multiple variables"
   ]
  },
  {
   "cell_type": "markdown",
   "id": "df370a76",
   "metadata": {},
   "source": [
    "<video controls src=\"video/yt1s.com - 20机器学习Machine Learning 吴恩达Andrew Ng中文字幕版Gradient Descent for Multiple_480p.mp4\"/>animation</video>"
   ]
  },
  {
   "cell_type": "markdown",
   "id": "326adcb0",
   "metadata": {},
   "source": [
    "## Linear Regression with multiple variables - Gradient descent in practice I: Feature Scaling"
   ]
  },
  {
   "cell_type": "markdown",
   "id": "0f327b25",
   "metadata": {},
   "source": [
    "<video controls src=\"video/yt1s.com - 21机器学习Machine Learning 吴恩达Andrew Ng中文字幕版Gradient Descent in Practice_480p.mp4\"/>animation</video>"
   ]
  },
  {
   "cell_type": "markdown",
   "id": "790b3c77",
   "metadata": {},
   "source": [
    "## Linear Regression with multiple variables - Gradient descent in practice II: Learning rate"
   ]
  },
  {
   "cell_type": "markdown",
   "id": "dff92747",
   "metadata": {},
   "source": [
    "<video controls src=\"video/yt1s.com - 22机器学习Machine Learning 吴恩达Andrew Ng中文字幕版Gradient Descent in Practice_480p.mp4\"/>animation</video>"
   ]
  },
  {
   "cell_type": "markdown",
   "id": "97a5faaa",
   "metadata": {},
   "source": [
    "## Linear Regression with multiple variables - Features and polynominal regression"
   ]
  },
  {
   "cell_type": "markdown",
   "id": "1550d5c4",
   "metadata": {},
   "source": [
    "<video controls src=\"video/yt1s.com - 23机器学习Machine Learning 吴恩达Andrew Ng中文字幕版 Features and Polynomial Regre_480p.mp4\"/>animation</video>"
   ]
  },
  {
   "cell_type": "markdown",
   "id": "1381a8b9",
   "metadata": {},
   "source": [
    "## Linear Regression with multiple variables - Normal equation"
   ]
  },
  {
   "cell_type": "markdown",
   "id": "625895c8",
   "metadata": {},
   "source": [
    "<video controls src=\"video/yt1s.com - 24机器学习Machine Learning 吴恩达Andrew Ng中文字幕版Normal Equation 中英Av9912938P24_480p.mp4\"/>animation</video>"
   ]
  },
  {
   "cell_type": "markdown",
   "id": "0760b23b",
   "metadata": {},
   "source": [
    "## Linear Regression with multiple variables - Normal equation and non-invertibility"
   ]
  },
  {
   "cell_type": "markdown",
   "id": "bd7210fa",
   "metadata": {},
   "source": [
    "<video controls src=\"video/yt1s.com - 25机器学习Machine Learning 吴恩达Andrew Ng中文字幕版Normal Equation Noninvertibil_480p.mp4\"/>animation</video>"
   ]
  },
  {
   "cell_type": "markdown",
   "id": "17a34878",
   "metadata": {},
   "source": [
    "## Octave Tutorial - Working on and submitting programming"
   ]
  },
  {
   "cell_type": "markdown",
   "id": "ad923906",
   "metadata": {},
   "source": [
    "<video controls src=\"video/yt1s.com - 26机器学习Machine Learning 吴恩达Andrew Ng中文字幕版Working on and Submitting Pro_480p.mp4\"/>animation</video>"
   ]
  },
  {
   "cell_type": "markdown",
   "id": "a0868204",
   "metadata": {},
   "source": [
    "## missing"
   ]
  },
  {
   "cell_type": "markdown",
   "id": "5784a94a",
   "metadata": {},
   "source": [
    "## Octave Tutorial - Moving data around"
   ]
  },
  {
   "cell_type": "markdown",
   "id": "2a4c7f6a",
   "metadata": {},
   "source": [
    "<video controls src=\"video/yt1s.com - 28机器学习Machine Learning 吴恩达Andrew Ng中文字幕版Moving Data Around 中英Av9912938P28_480p.mp4\"/>animation</video>"
   ]
  },
  {
   "cell_type": "markdown",
   "id": "11788393",
   "metadata": {},
   "source": [
    "## Octave Tutorial - Computing on data"
   ]
  },
  {
   "cell_type": "markdown",
   "id": "6b2f199b",
   "metadata": {},
   "source": [
    "<video controls src=\"video/yt1s.com - 29机器学习Machine Learning 吴恩达Andrew Ng中文字幕版Computing on Data中英Av9912938P2_480p.mp4\"/>animation</video>"
   ]
  },
  {
   "cell_type": "markdown",
   "id": "d7fc820a",
   "metadata": {},
   "source": [
    "## Octave Tutorial - Plotting data"
   ]
  },
  {
   "cell_type": "markdown",
   "id": "774fde0b",
   "metadata": {},
   "source": [
    "<video controls src=\"video/yt1s.com - 30机器学习Machine Learning 吴恩达Andrew Ng中文字幕版Plotting Data 中英_480p.mp4\"/>animation</video>"
   ]
  },
  {
   "cell_type": "code",
   "execution_count": null,
   "id": "e7166d96",
   "metadata": {},
   "outputs": [],
   "source": []
  }
 ],
 "metadata": {
  "kernelspec": {
   "display_name": "Python 3",
   "language": "python",
   "name": "python3"
  },
  "language_info": {
   "codemirror_mode": {
    "name": "ipython",
    "version": 3
   },
   "file_extension": ".py",
   "mimetype": "text/x-python",
   "name": "python",
   "nbconvert_exporter": "python",
   "pygments_lexer": "ipython3",
   "version": "3.8.0"
  },
  "toc": {
   "base_numbering": 1,
   "nav_menu": {},
   "number_sections": true,
   "sideBar": true,
   "skip_h1_title": false,
   "title_cell": "Table of Contents",
   "title_sidebar": "Contents",
   "toc_cell": false,
   "toc_position": {},
   "toc_section_display": true,
   "toc_window_display": true
  }
 },
 "nbformat": 4,
 "nbformat_minor": 5
}
