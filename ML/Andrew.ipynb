{
 "cells": [
  {
   "cell_type": "markdown",
   "id": "f1172b6f",
   "metadata": {},
   "source": [
    "# 吳恩達"
   ]
  },
  {
   "cell_type": "markdown",
   "id": "670d4823",
   "metadata": {},
   "source": [
    "## Welcome to Machine Learning"
   ]
  },
  {
   "cell_type": "markdown",
   "id": "6c08bbc5",
   "metadata": {},
   "source": [
    "<video controls src=\"video/yt1s.com - 1机器学习Machine Learning 吴恩达Andrew Ng中文字幕版Welcome to Machine Learning中英_360p.mp4\"/>animation</video>"
   ]
  },
  {
   "cell_type": "markdown",
   "id": "03683b0c",
   "metadata": {},
   "source": [
    "## Welcome"
   ]
  },
  {
   "cell_type": "markdown",
   "id": "baa1d9f7",
   "metadata": {},
   "source": [
    "<video controls src=\"video/yt1s.com - 2机器学习Machine Learning 吴恩达Andrew Ng中文字幕版Welcome中英_480p.mp4\"/>animation</video>"
   ]
  },
  {
   "cell_type": "markdown",
   "id": "487ecceb",
   "metadata": {},
   "source": [
    "## What is Machine Leaning"
   ]
  },
  {
   "cell_type": "markdown",
   "id": "ea343f35",
   "metadata": {},
   "source": [
    "<video controls src=\"video/yt1s.com - 3机器学习Machine Learning 吴恩达Andrew Ng中文字幕版What is Machine Learning中英_480p.mp4\"/>animation</video>"
   ]
  },
  {
   "cell_type": "markdown",
   "id": "0230266b",
   "metadata": {},
   "source": [
    "## Supervised Leaning"
   ]
  },
  {
   "cell_type": "markdown",
   "id": "a03d3336",
   "metadata": {},
   "source": [
    "### 算法將預測得到例子的正確答案"
   ]
  },
  {
   "cell_type": "markdown",
   "id": "7ca1b73e",
   "metadata": {},
   "source": [
    "<video controls src=\"video/yt1s.com - 4机器学习Machine Learning 吴恩达Andrew Ng中文字幕版Supervised Learning 中英_480p.mp4\"/>animation</video>"
   ]
  },
  {
   "cell_type": "markdown",
   "id": "19820371",
   "metadata": {},
   "source": [
    "## Unsupervised Leaning"
   ]
  },
  {
   "cell_type": "markdown",
   "id": "94cea7c9",
   "metadata": {},
   "source": [
    "### classifier"
   ]
  },
  {
   "cell_type": "markdown",
   "id": "6061a3ec",
   "metadata": {},
   "source": [
    "<video controls src=\"video/yt1s.com - 5机器学习Machine Learning 吴恩达Andrew Ng中文字幕版Unsupervised Learning 中文_480p.mp4\"/>animation</video>"
   ]
  },
  {
   "cell_type": "markdown",
   "id": "0702cafe",
   "metadata": {},
   "source": [
    "## Model representation"
   ]
  },
  {
   "cell_type": "markdown",
   "id": "ab6aeb37",
   "metadata": {},
   "source": [
    "<video controls src=\"video/yt1s.com - 6机器学习Machine Learning 吴恩达Andrew Ng中文字幕版Model Representation 中文_480p.mp4\"/>animation</video>"
   ]
  },
  {
   "cell_type": "markdown",
   "id": "8e668a47",
   "metadata": {},
   "source": [
    "## Cost function"
   ]
  },
  {
   "cell_type": "markdown",
   "id": "87323c5e",
   "metadata": {},
   "source": [
    "<video controls src=\"video/yt1s.com - 7机器学习Machine Learning 吴恩达Andrew Ng中文字幕版Cost Function 中文_480p.mp4\"/>animation</video>"
   ]
  },
  {
   "cell_type": "markdown",
   "id": "5dfce722",
   "metadata": {},
   "source": [
    "## Cost function intuition I"
   ]
  },
  {
   "cell_type": "markdown",
   "id": "c6a11639",
   "metadata": {},
   "source": [
    "<video controls src=\"video/yt1s.com - 8机器学习Machine Learning 吴恩达Andrew Ng中文字幕版Cost Function   Intuition I 中_480p.mp4\"/>animation</video>"
   ]
  },
  {
   "cell_type": "markdown",
   "id": "d2d1f450",
   "metadata": {},
   "source": [
    "## Cost function intuition II"
   ]
  },
  {
   "cell_type": "markdown",
   "id": "baa8ce94",
   "metadata": {},
   "source": [
    "<video controls src=\"video/yt1s.com - 9机器学习Machine Learning 吴恩达Andrew Ng中文字幕版 Cost Function   Intuition II_480p.mp4\"/>animation</video>"
   ]
  },
  {
   "cell_type": "markdown",
   "id": "cab59130",
   "metadata": {},
   "source": [
    "## Gradient descent"
   ]
  },
  {
   "cell_type": "markdown",
   "id": "12105823",
   "metadata": {},
   "source": [
    "### column equal"
   ]
  },
  {
   "cell_type": "markdown",
   "id": "2db0be92",
   "metadata": {},
   "source": [
    "### learning rate"
   ]
  },
  {
   "cell_type": "markdown",
   "id": "447f9b24",
   "metadata": {},
   "source": [
    "### simultaneous update"
   ]
  },
  {
   "cell_type": "markdown",
   "id": "a5085754",
   "metadata": {},
   "source": [
    "<video controls src=\"video/yt1s.com - 10机器学习Machine Learning 吴恩达Andrew Ng中文字幕版Gradient Descent 中文_480p.mp4\"/>animation</video>"
   ]
  },
  {
   "cell_type": "markdown",
   "id": "aef077e7",
   "metadata": {},
   "source": [
    "![title](pic/gd.png)"
   ]
  },
  {
   "cell_type": "markdown",
   "id": "502c2614",
   "metadata": {},
   "source": [
    "## Linear regression with one variable - Gradient descent intuition"
   ]
  },
  {
   "cell_type": "markdown",
   "id": "a364186c",
   "metadata": {},
   "source": [
    "<video controls src=\"video/yt1s.com - 11机器学习Machine Learning 吴恩达Andrew Ng中文字幕版Gradient Descent Intuition 中_480p.mp4\"/>animation</video>"
   ]
  },
  {
   "cell_type": "markdown",
   "id": "8b6ce7c1",
   "metadata": {},
   "source": [
    "## Linear regression with one variable - Gradient descent for linear regression"
   ]
  },
  {
   "cell_type": "markdown",
   "id": "5237fd43",
   "metadata": {},
   "source": [
    "<video controls src=\"video/yt1s.com - 12机器学习Machine Learning 吴恩达Andrew Ng中文字幕版 GradientDescentForLinearRegre_480p.mp4\"/>animation</video>"
   ]
  },
  {
   "cell_type": "markdown",
   "id": "3a331819",
   "metadata": {},
   "source": [
    "## Linear Algebra review - Matrices and vectors"
   ]
  },
  {
   "cell_type": "markdown",
   "id": "b9724541",
   "metadata": {},
   "source": [
    "<video controls src=\"video/yt1s.com - 13机器学习Machine Learning 吴恩达Andrew Ng中文字幕版 Matrices and Vectors中文_480p.mp4\"/>animation</video>"
   ]
  },
  {
   "cell_type": "markdown",
   "id": "a9cc2b7b",
   "metadata": {},
   "source": [
    "## Linear Algebra review - Addition and scalar multiplication"
   ]
  },
  {
   "cell_type": "markdown",
   "id": "8e2eb95b",
   "metadata": {},
   "source": [
    "<video controls src=\"video/yt1s.com - 14机器学习Machine Learning 吴恩达Andrew Ng中文字幕版 Addition and Scalar Multiplic_480p.mp4\"/>animation</video>"
   ]
  },
  {
   "cell_type": "markdown",
   "id": "bbd02b00",
   "metadata": {},
   "source": [
    "## Linear Algebra review - Matrix-vector multiplication"
   ]
  },
  {
   "cell_type": "markdown",
   "id": "bac540de",
   "metadata": {},
   "source": [
    "<video controls src=\"video/yt1s.com - 15机器学习Machine Learning 吴恩达Andrew Ng中文字幕版 Matrix Vector Multiplication_480p.mp4\"/>animation</video>"
   ]
  },
  {
   "cell_type": "markdown",
   "id": "d3ed2903",
   "metadata": {},
   "source": [
    "## Linear Algebra review - Matrix-matrix multiplication"
   ]
  },
  {
   "cell_type": "markdown",
   "id": "3f1ddab6",
   "metadata": {},
   "source": [
    "<video controls src=\"video/yt1s.com - 16机器学习Machine Learning 吴恩达Andrew Ng中文字幕版Matrix Matrix Multiplication_480p.mp4\"/>animation</video>"
   ]
  },
  {
   "cell_type": "markdown",
   "id": "a58f9f84",
   "metadata": {},
   "source": [
    "## Linear Algebra review - Matrix-matrix multiplication properties"
   ]
  },
  {
   "cell_type": "markdown",
   "id": "2a98090f",
   "metadata": {},
   "source": [
    "<video controls src=\"video/yt1s.com - 17机器学习Machine Learning 吴恩达Andrew Ng中文字幕版Matrix Multiplication Propert_480p.mp4\"/>animation</video>"
   ]
  },
  {
   "cell_type": "markdown",
   "id": "fd097b07",
   "metadata": {},
   "source": [
    "## Linear Algebra review - Inverse and transpose"
   ]
  },
  {
   "cell_type": "markdown",
   "id": "45e94622",
   "metadata": {},
   "source": [
    "<video controls src=\"video/yt1s.com - 18机器学习Machine Learning 吴恩达Andrew Ng中文字幕版Inverse and Transpose中文_480p.mp4\"/>animation</video>"
   ]
  },
  {
   "cell_type": "markdown",
   "id": "6216a4a5",
   "metadata": {},
   "source": [
    "## Linear Regression with multiple variables - Multiple features"
   ]
  },
  {
   "cell_type": "markdown",
   "id": "b748330f",
   "metadata": {},
   "source": [
    "<video controls src=\"video/yt1s.com - 19机器学习Machine Learning 吴恩达Andrew Ng中文字幕版Multiple Features 中文_480p.mp4\"/>animation</video>"
   ]
  },
  {
   "cell_type": "markdown",
   "id": "e9940ea6",
   "metadata": {},
   "source": [
    "## Linear Regression with multiple variables - Gradient descent for multiple variables"
   ]
  },
  {
   "cell_type": "markdown",
   "id": "a302fff4",
   "metadata": {},
   "source": [
    "<video controls src=\"video/yt1s.com - 20机器学习Machine Learning 吴恩达Andrew Ng中文字幕版Gradient Descent for Multiple_480p.mp4\"/>animation</video>"
   ]
  },
  {
   "cell_type": "markdown",
   "id": "08d8d9dc",
   "metadata": {},
   "source": [
    "## Linear Regression with multiple variables - Gradient descent in practice I: Feature Scaling"
   ]
  },
  {
   "cell_type": "markdown",
   "id": "21bbc46a",
   "metadata": {},
   "source": [
    "<video controls src=\"video/yt1s.com - 21机器学习Machine Learning 吴恩达Andrew Ng中文字幕版Gradient Descent in Practice_480p.mp4\"/>animation</video>"
   ]
  },
  {
   "cell_type": "markdown",
   "id": "40d4cb6d",
   "metadata": {},
   "source": [
    "## Linear Regression with multiple variables - Gradient descent in practice II: Learning rate"
   ]
  },
  {
   "cell_type": "markdown",
   "id": "891bc2a4",
   "metadata": {},
   "source": [
    "<video controls src=\"video/yt1s.com - 22机器学习Machine Learning 吴恩达Andrew Ng中文字幕版Gradient Descent in Practice_480p.mp4\"/>animation</video>"
   ]
  },
  {
   "cell_type": "markdown",
   "id": "dffa202a",
   "metadata": {},
   "source": [
    "## Linear Regression with multiple variables - Features and polynominal regression"
   ]
  },
  {
   "cell_type": "markdown",
   "id": "f4c665e8",
   "metadata": {},
   "source": [
    "<video controls src=\"video/yt1s.com - 23机器学习Machine Learning 吴恩达Andrew Ng中文字幕版 Features and Polynomial Regre_480p.mp4\"/>animation</video>"
   ]
  },
  {
   "cell_type": "markdown",
   "id": "1e283406",
   "metadata": {},
   "source": [
    "## Linear Regression with multiple variables - Normal equation"
   ]
  },
  {
   "cell_type": "markdown",
   "id": "9dcef663",
   "metadata": {},
   "source": [
    "<video controls src=\"video/yt1s.com - 24机器学习Machine Learning 吴恩达Andrew Ng中文字幕版Normal Equation 中英Av9912938P24_480p.mp4\"/>animation</video>"
   ]
  },
  {
   "cell_type": "markdown",
   "id": "2396040b",
   "metadata": {},
   "source": [
    "## Linear Regression with multiple variables - Normal equation and non-invertibility"
   ]
  },
  {
   "cell_type": "markdown",
   "id": "051c1170",
   "metadata": {},
   "source": [
    "<video controls src=\"video/yt1s.com - 25机器学习Machine Learning 吴恩达Andrew Ng中文字幕版Normal Equation Noninvertibil_480p.mp4\"/>animation</video>"
   ]
  },
  {
   "cell_type": "markdown",
   "id": "d0011292",
   "metadata": {},
   "source": [
    "## Octave Tutorial - Working on and submitting programming"
   ]
  },
  {
   "cell_type": "markdown",
   "id": "3d61aada",
   "metadata": {},
   "source": [
    "<video controls src=\"video/yt1s.com - 26机器学习Machine Learning 吴恩达Andrew Ng中文字幕版Working on and Submitting Pro_480p.mp4\"/>animation</video>"
   ]
  },
  {
   "cell_type": "markdown",
   "id": "538824aa",
   "metadata": {},
   "source": [
    "## missing"
   ]
  },
  {
   "cell_type": "markdown",
   "id": "02c855cc",
   "metadata": {},
   "source": [
    "## Octave Tutorial - Moving data around"
   ]
  },
  {
   "cell_type": "markdown",
   "id": "5ea63a8b",
   "metadata": {},
   "source": [
    "<video controls src=\"video/yt1s.com - 28机器学习Machine Learning 吴恩达Andrew Ng中文字幕版Moving Data Around 中英Av9912938P28_480p.mp4\"/>animation</video>"
   ]
  },
  {
   "cell_type": "markdown",
   "id": "e116d61d",
   "metadata": {},
   "source": [
    "## Octave Tutorial - Computing on data"
   ]
  },
  {
   "cell_type": "markdown",
   "id": "74f37846",
   "metadata": {},
   "source": [
    "<video controls src=\"video/yt1s.com - 29机器学习Machine Learning 吴恩达Andrew Ng中文字幕版Computing on Data中英Av9912938P2_480p.mp4\"/>animation</video>"
   ]
  },
  {
   "cell_type": "markdown",
   "id": "e1d3c6ea",
   "metadata": {},
   "source": [
    "## Octave Tutorial - Plotting data"
   ]
  },
  {
   "cell_type": "markdown",
   "id": "0ca7a896",
   "metadata": {},
   "source": [
    "<video controls src=\"video/yt1s.com - 30机器学习Machine Learning 吴恩达Andrew Ng中文字幕版Plotting Data 中英_480p.mp4\"/>animation</video>"
   ]
  },
  {
   "cell_type": "markdown",
   "id": "8b84026f",
   "metadata": {},
   "source": [
    "## Octave Tutorial - Vectorization"
   ]
  },
  {
   "cell_type": "markdown",
   "id": "642bdfd6",
   "metadata": {},
   "source": [
    "<video controls src=\"video/yt1s.com - 32机器学习Machine Learning 吴恩达Andrew Ng中文字幕版Vectorization 中英_480p.mp4\"/>animation</video>"
   ]
  },
  {
   "cell_type": "markdown",
   "id": "441b24c3",
   "metadata": {},
   "source": [
    "## Logistic Regression - Classification"
   ]
  },
  {
   "cell_type": "markdown",
   "id": "f93037a1",
   "metadata": {},
   "source": [
    "<video controls src=\"video/yt1s.com - 33机器学习Machine Learning 吴恩达Andrew Ng中文字幕版Classification 中英机翻_480p.mp4\"/>animation</video>"
   ]
  },
  {
   "cell_type": "markdown",
   "id": "5bbce57c",
   "metadata": {},
   "source": [
    "## Logistic Regression - Hypothesis Representation"
   ]
  },
  {
   "cell_type": "markdown",
   "id": "c904a85c",
   "metadata": {},
   "source": [
    "<video controls src=\"video/yt1s.com - 34机器学习Machine Learning 吴恩达Andrew Ng中文字幕版 Hypothesis Representation 中文_480p.mp4\"/>animation</video>"
   ]
  },
  {
   "cell_type": "markdown",
   "id": "28f77d40",
   "metadata": {},
   "source": [
    "## Logistic Regression - Decision boundary"
   ]
  },
  {
   "cell_type": "markdown",
   "id": "5d291359",
   "metadata": {},
   "source": [
    "<video controls src=\"video/yt1s.com - 35机器学习Machine Learning 吴恩达Andrew Ng中文字幕版Decision Boundary 中英_480p.mp4\"/>animation</video>"
   ]
  },
  {
   "cell_type": "markdown",
   "id": "deac1115",
   "metadata": {},
   "source": [
    "## Logistic Regression - Cost function"
   ]
  },
  {
   "cell_type": "markdown",
   "id": "363cacc4",
   "metadata": {},
   "source": [
    "<video controls src=\"video/yt1s.com - 36机器学习Machine Learning 吴恩达Andrew Ng中文字幕版Cost Function 中英_480p.mp4\"/>animation</video>"
   ]
  },
  {
   "cell_type": "markdown",
   "id": "04b84e7a",
   "metadata": {},
   "source": [
    "## Logistic Regression - Simplified cost function and gradient descent"
   ]
  },
  {
   "cell_type": "markdown",
   "id": "d9e6ef34",
   "metadata": {},
   "source": [
    "<video controls src=\"video/yt1s.com - 37机器学习Machine Learning 吴恩达Andrew Ng中文字幕版Simplified Cost Function and_480p.mp4\"/>animation</video>"
   ]
  },
  {
   "cell_type": "markdown",
   "id": "4f053028",
   "metadata": {},
   "source": [
    "## Logistic Regression - Advanced optimization"
   ]
  },
  {
   "cell_type": "markdown",
   "id": "4985ba88",
   "metadata": {},
   "source": [
    "<video controls src=\"video/yt1s.com - 38机器学习Machine Learning 吴恩达Andrew Ng中文字幕版 Advanced Optimization 中英_480p.mp4\"/>animation</video>"
   ]
  },
  {
   "cell_type": "markdown",
   "id": "2edd511b",
   "metadata": {},
   "source": [
    "## Logistic Regression - Multi-class classification: One-vs-all"
   ]
  },
  {
   "cell_type": "markdown",
   "id": "08b2c12f",
   "metadata": {},
   "source": [
    "<video controls src=\"video/yt1s.com - 39机器学习Machine Learning 吴恩达Andrew Ng中文字幕版Multiclass Classification  On_480p.mp4\"/>animation</video>"
   ]
  },
  {
   "cell_type": "markdown",
   "id": "7a1c8caa",
   "metadata": {},
   "source": [
    "## Regularization - The problem of overfitting"
   ]
  },
  {
   "cell_type": "markdown",
   "id": "59f223cf",
   "metadata": {},
   "source": [
    "<video controls src=\"video/yt1s.com - 40机器学习Machine Learning 吴恩达Andrew Ng中文字幕版The Problem of Overfitting中英_480p.mp4\"/>animation</video>"
   ]
  },
  {
   "cell_type": "markdown",
   "id": "1f7c1e9e",
   "metadata": {},
   "source": [
    "## Regularization - Cost function"
   ]
  },
  {
   "cell_type": "markdown",
   "id": "76169c27",
   "metadata": {},
   "source": [
    "<video controls src=\"video/yt1s.com -41机器学习Machine Learning 吴恩达Andrew Ng中文字幕版Cost Function 中英_480p.mp4\"/>animation</video>"
   ]
  },
  {
   "cell_type": "markdown",
   "id": "f4d2ba11",
   "metadata": {},
   "source": [
    "## Regularization - Regularized linear regression"
   ]
  },
  {
   "cell_type": "markdown",
   "id": "0de6e0f3",
   "metadata": {},
   "source": [
    "<video controls src=\"video/Lecture 7.3 — Regularization _ Regularized Linear Regression — [ Machine Learning _ Andrew Ng].mp4\"/>animation</video>"
   ]
  },
  {
   "cell_type": "markdown",
   "id": "0b088053",
   "metadata": {},
   "source": [
    "## Regularization - Regularized logistic regression"
   ]
  },
  {
   "cell_type": "markdown",
   "id": "06dcd810",
   "metadata": {},
   "source": [
    "<video controls src=\"video/Lecture 7.4 — Regularization _ Regularized Logistic Regression — [ Machine Learning _ Andrew Ng].mp4\"/>animation</video>"
   ]
  },
  {
   "cell_type": "markdown",
   "id": "d8e4d178",
   "metadata": {},
   "source": [
    "## Neural Networks: Representation - Non-linear hypotheses"
   ]
  },
  {
   "cell_type": "markdown",
   "id": "404ab2b4",
   "metadata": {},
   "source": [
    "<video controls src=\"video/Lecture 8.1 — Neural Networks Representation _ Non Linear Hypotheses — [Andrew Ng].mp4\"/>animation</video>"
   ]
  },
  {
   "cell_type": "markdown",
   "id": "b70e7dd0",
   "metadata": {},
   "source": [
    "## Neural Networks: Representation - Neurons and the brain"
   ]
  },
  {
   "cell_type": "markdown",
   "id": "0817c07b",
   "metadata": {},
   "source": [
    "<video controls src=\"video/Lecture 8.2 — Neural Networks Representation _ Neurons And The Brain — [Andrew Ng].mp4\"/>animation</video>"
   ]
  },
  {
   "cell_type": "markdown",
   "id": "3411554d",
   "metadata": {},
   "source": [
    "## Neural Networks: Representation - Model representation I"
   ]
  },
  {
   "cell_type": "markdown",
   "id": "87832505",
   "metadata": {},
   "source": [
    "<video controls src=\"video/Lecture 8.3 — Neural Networks Representation _ Model Representation-I — [ Andrew Ng ].mp4\"/>animation</video>"
   ]
  },
  {
   "cell_type": "markdown",
   "id": "c03c4e54",
   "metadata": {},
   "source": [
    "## Neural Networks: Representation - Model representation II"
   ]
  },
  {
   "cell_type": "markdown",
   "id": "71eefd26",
   "metadata": {},
   "source": [
    "<video controls src=\"video/Lecture 8.4 — Neural Networks Representation _ Model Representation-II — [Andrew Ng].mp4\"/>animation</video>"
   ]
  },
  {
   "cell_type": "markdown",
   "id": "04fbaa71",
   "metadata": {},
   "source": [
    "## Neural Networks: Representation - Examples and intuitions I"
   ]
  },
  {
   "cell_type": "markdown",
   "id": "5dff7880",
   "metadata": {},
   "source": [
    "<video controls src=\"video/Lecture 8.5 — Neural Networks Representation _ Examples And Intuitions-I — [ Andrew Ng].mp4\"/>animation</video>"
   ]
  },
  {
   "cell_type": "markdown",
   "id": "20fdf649",
   "metadata": {},
   "source": [
    "## Neural Networks: Representation - Examples and intuitions II"
   ]
  },
  {
   "cell_type": "markdown",
   "id": "439e9451",
   "metadata": {},
   "source": [
    "<video controls src=\"video/Lecture 8.6 — Neural Networks Representation _ Examples And Intuitions-II — [ Andrew Ng].mp4\"/>animation</video>"
   ]
  },
  {
   "cell_type": "markdown",
   "id": "a668c4b7",
   "metadata": {},
   "source": [
    "## Neural Networks: Representation - Multi-class classification"
   ]
  },
  {
   "cell_type": "markdown",
   "id": "08f114ea",
   "metadata": {},
   "source": [
    "<video controls src=\"video/Lecture 8.7 — Neural Networks Representation _ MultiClass Classification — [Andrew Ng].mp4\"/>animation</video>"
   ]
  },
  {
   "cell_type": "markdown",
   "id": "1d0e9f7b",
   "metadata": {},
   "source": [
    "## Neural Networks: Learning - Cost function"
   ]
  },
  {
   "cell_type": "markdown",
   "id": "b0bef1ec",
   "metadata": {},
   "source": [
    "<video controls src=\"video/Lecture 9.1 — Neural Networks Learning _ Cost Function — [ Machine Learning _ Andrew Ng].mp4\"/>animation</video>"
   ]
  },
  {
   "cell_type": "markdown",
   "id": "248412da",
   "metadata": {},
   "source": [
    "## Neural Networks: Learning - Backpropagation algorithm"
   ]
  },
  {
   "cell_type": "markdown",
   "id": "534798f2",
   "metadata": {},
   "source": [
    "<video controls src=\"video/Lecture 9.2 — Neural Networks Learning _ Backpropagation Algorithm — [ Machine Learning _ Andrew Ng].mp4\"/>animation</video>"
   ]
  },
  {
   "cell_type": "markdown",
   "id": "193887be",
   "metadata": {},
   "source": [
    "## Neural Networks: Learning - Backpropagation intuition"
   ]
  },
  {
   "cell_type": "markdown",
   "id": "0cca9813",
   "metadata": {},
   "source": [
    "<video controls src=\"video/Lecture 9.3 — Neural Networks Learning _ Backpropagation Intuition — [ Machine Learning _ Andrew Ng].mp4\"/>animation</video>"
   ]
  },
  {
   "cell_type": "markdown",
   "id": "d78986bb",
   "metadata": {},
   "source": [
    "## Neural Networks: Learning - Implementation note: Unrolling parameters"
   ]
  },
  {
   "cell_type": "markdown",
   "id": "e15dbaf7",
   "metadata": {},
   "source": [
    "<video controls src=\"video/Lecture 9.4 — Neural Networks Learning _ Implementation Note Unrolling Parameters — [ Andrew Ng].mp4\"/>animation</video>"
   ]
  },
  {
   "cell_type": "markdown",
   "id": "f1a06afa",
   "metadata": {},
   "source": [
    "## Neural Networks: Learning - Gradient checking"
   ]
  },
  {
   "cell_type": "markdown",
   "id": "c2060441",
   "metadata": {},
   "source": [
    "<video controls src=\"video/Lecture 9.5 — Neural Networks Learning _ Gradient Checking — [ Machine Learning _ Andrew Ng].mp4\"/>animation</video>"
   ]
  },
  {
   "cell_type": "markdown",
   "id": "5f051a9c",
   "metadata": {},
   "source": [
    "## Neural Networks: Learning - Random initialization"
   ]
  },
  {
   "cell_type": "markdown",
   "id": "b03d64ce",
   "metadata": {},
   "source": [
    "<video controls src=\"video/Lecture 9.6 — Neural Networks Learning _ Random Initialization — [ Machine Learning _ Andrew Ng].mp4\"/>animation</video>"
   ]
  },
  {
   "cell_type": "markdown",
   "id": "723136d6",
   "metadata": {},
   "source": [
    "## Neural Networks: Learning - Putting it together"
   ]
  },
  {
   "cell_type": "markdown",
   "id": "e255fb99",
   "metadata": {},
   "source": [
    "<video controls src=\"video/Lecture 9.7 — Neural Networks Learning _ Putting It Together — [ Machine Learning _ Andrew Ng].mp4\"/>animation</video>"
   ]
  },
  {
   "cell_type": "markdown",
   "id": "e7bd3d01",
   "metadata": {},
   "source": [
    "## Neural Networks: Learning - Autonomous driving example"
   ]
  },
  {
   "cell_type": "markdown",
   "id": "80b68df2",
   "metadata": {},
   "source": [
    "<video controls src=\"video/Lecture 9.8 — Neural Networks Learning _ Autonomous Driving Example — [Andrew Ng].mp4\"/>animation</video>"
   ]
  },
  {
   "cell_type": "markdown",
   "id": "cc9713d3",
   "metadata": {},
   "source": [
    "## Advice for applying machine learning - Deciding what to try next"
   ]
  },
  {
   "cell_type": "markdown",
   "id": "f08fac3c",
   "metadata": {},
   "source": [
    "<video controls src=\"video/Lecture 10.1 — Advice For Applying Machine Learning _ Deciding What To Try Next — [ Andrew Ng].mp4\"/>animation</video>"
   ]
  },
  {
   "cell_type": "markdown",
   "id": "57ffcc38",
   "metadata": {},
   "source": [
    "## Advice for applying machine learning - Evaluating a hypothesis"
   ]
  },
  {
   "cell_type": "markdown",
   "id": "5c5c2d36",
   "metadata": {},
   "source": [
    "<video controls src=\"video/Lecture 10.2 — Advice For Applying Machine Learning _ Evaluating A Hypothesis — [ Andrew Ng].mp4\"/>animation</video>"
   ]
  },
  {
   "cell_type": "markdown",
   "id": "38052338",
   "metadata": {},
   "source": [
    "## Advice for applying machine learning - Model selection and training/validation/test sets"
   ]
  },
  {
   "cell_type": "markdown",
   "id": "df06c999",
   "metadata": {},
   "source": [
    "<video controls src=\"video/Lecture 10.3 — Advice For Applying Machine Learning _ Model Selection And Train Validation Test Sets.mp4\"/>animation</video>"
   ]
  },
  {
   "cell_type": "markdown",
   "id": "38009d8e",
   "metadata": {},
   "source": [
    "## Advice for applying machine learning - Diagnosing bias vs. variance"
   ]
  },
  {
   "cell_type": "markdown",
   "id": "cc21cd90",
   "metadata": {},
   "source": [
    "<video controls src=\"video/Lecture 10.4 — Advice For Applying Machine Learning _ Diagnosing Bias Vs Variance — [Andrew Ng].mp4\"/>animation</video>"
   ]
  },
  {
   "cell_type": "markdown",
   "id": "1c01fd6b",
   "metadata": {},
   "source": [
    "## Advice for applying machine learning - Regularization and bias/variance"
   ]
  },
  {
   "cell_type": "markdown",
   "id": "79f6a2e8",
   "metadata": {},
   "source": [
    "<video controls src=\"video/Lecture 10.5 — Advice For Applying Machine Learning _ Regularization And Bias Variance — [Andrew Ng].mp4\"/>animation</video>"
   ]
  },
  {
   "cell_type": "markdown",
   "id": "2fecc115",
   "metadata": {},
   "source": [
    "## Advice for applying machine learning - Learning curves"
   ]
  },
  {
   "cell_type": "markdown",
   "id": "bbf8afd9",
   "metadata": {},
   "source": [
    "<video controls src=\"video/Lecture 10.6 — Advice For Applying Machine Learning _ Learning Curves — [Andrew Ng].mp4\"/>animation</video>"
   ]
  },
  {
   "cell_type": "markdown",
   "id": "8f8cf980",
   "metadata": {},
   "source": [
    "## Advice for applying machine learning - Deciding what to try next"
   ]
  },
  {
   "cell_type": "markdown",
   "id": "8091cbbf",
   "metadata": {},
   "source": [
    "<video controls src=\"video/Lecture 10.7 — Advice For Applying Machine Learning _ Deciding What To Do Next (Revisited).mp4\"/>animation</video>"
   ]
  },
  {
   "cell_type": "markdown",
   "id": "8a317ce8",
   "metadata": {},
   "source": [
    "## Machine learning system design - Prioritizing what to work on: Spam classification example"
   ]
  },
  {
   "cell_type": "markdown",
   "id": "5f254c04",
   "metadata": {},
   "source": [
    "<video controls src=\"video/Lecture 11.1 — Machine Learning System Design _ Prioritizing What To Work On — [ Andrew Ng].mp4\"/>animation</video>"
   ]
  },
  {
   "cell_type": "markdown",
   "id": "5b5e5205",
   "metadata": {},
   "source": [
    "## Machine learning system design - Error analysis"
   ]
  },
  {
   "cell_type": "markdown",
   "id": "7b7bfbfc",
   "metadata": {},
   "source": [
    "<video controls src=\"video/Lecture 11.2 — Machine Learning System Design _ Error Analysis — [ Machine Learning _ Andrew Ng ].mp4\"/>animation</video>"
   ]
  },
  {
   "cell_type": "markdown",
   "id": "2389e344",
   "metadata": {},
   "source": [
    "## Machine learning system design - Error metrics for skewed classes"
   ]
  },
  {
   "cell_type": "markdown",
   "id": "4d7015b8",
   "metadata": {},
   "source": [
    "<video controls src=\"video/Lecture 11.3 — Machine Learning System Design _ Error Metrics For Skewed Classes — [Andrew Ng].mp4\"/>animation</video>"
   ]
  },
  {
   "cell_type": "markdown",
   "id": "9d15fc70",
   "metadata": {},
   "source": [
    "## Machine learning system design - Trading off precision and recall"
   ]
  },
  {
   "cell_type": "markdown",
   "id": "3fd3eb33",
   "metadata": {},
   "source": [
    "<video controls src=\"video/Lecture 11.4 — Machine Learning System Design _ Trading Off Precision And Recall — [Andrew Ng].mp4\"/>animation</video>"
   ]
  },
  {
   "cell_type": "markdown",
   "id": "d327cac0",
   "metadata": {},
   "source": [
    "## Machine learning system design - Data for machine learning"
   ]
  },
  {
   "cell_type": "markdown",
   "id": "ec75d566",
   "metadata": {},
   "source": [
    "<video controls src=\"video/Lecture 11.5 — Machine Learning System Design _ Data For Machine Learning — [Andrew Ng].mp4\"/>animation</video>"
   ]
  },
  {
   "cell_type": "markdown",
   "id": "53e2e5bb",
   "metadata": {},
   "source": [
    "## Support Vector Machines - Optimization objective"
   ]
  },
  {
   "cell_type": "markdown",
   "id": "0f18ef62",
   "metadata": {},
   "source": [
    "<video controls src=\"video/Lecture 12.1 —  Support Vector Machines _ Optimization Objective — [ Machine Learning _ Andrew Ng].mp4\"/>animation</video>"
   ]
  },
  {
   "cell_type": "markdown",
   "id": "be013b42",
   "metadata": {},
   "source": [
    "## Support Vector Machines - Large Margin Intuition"
   ]
  },
  {
   "cell_type": "markdown",
   "id": "3c848b72",
   "metadata": {},
   "source": [
    "<video controls src=\"video/Lecture 12.2 — Support Vector Machines _ Large Margin Intuition — [Machine Learning _ Andrew Ng].mp4\"/>animation</video>"
   ]
  },
  {
   "cell_type": "markdown",
   "id": "c61c8513",
   "metadata": {},
   "source": [
    "## Support Vector Machines - The mathematics behine large Margin classification"
   ]
  },
  {
   "cell_type": "markdown",
   "id": "e6102b36",
   "metadata": {},
   "source": [
    "<video controls src=\"video/Lecture 12.3 — Support Vector Machines _ Mathematics Behind Large Margin Classification (Optional).mp4\"/>animation</video>"
   ]
  },
  {
   "cell_type": "markdown",
   "id": "9495ce31",
   "metadata": {},
   "source": [
    "## Support Vector Machines - Kernels I"
   ]
  },
  {
   "cell_type": "markdown",
   "id": "7e09e20d",
   "metadata": {},
   "source": [
    "<video controls src=\"video/Lecture 12.4 — Support Vector Machines _ (Kernels-I) — [ Machine Learning _ Andrew Ng].mp4\"/>animation</video>"
   ]
  },
  {
   "cell_type": "markdown",
   "id": "be3d0f5c",
   "metadata": {},
   "source": [
    "## Support Vector Machines - Kernels II"
   ]
  },
  {
   "cell_type": "markdown",
   "id": "0f84169e",
   "metadata": {},
   "source": [
    "<video controls src=\"video/Lecture 12.5 — Support Vector Machines _ (Kernels-II) — [Machine Learning _ Andrew Ng].mp4\"/>animation</video>"
   ]
  },
  {
   "cell_type": "markdown",
   "id": "ac869dc1",
   "metadata": {},
   "source": [
    "## Support Vector Machines - Using an SVM"
   ]
  },
  {
   "cell_type": "markdown",
   "id": "868b0697",
   "metadata": {},
   "source": [
    "<video controls src=\"video/Lecture 12.6 — Support Vector Machines _ Using An SVM — [ Machine Learning _ Andrew Ng].mp4\"/>animation</video>"
   ]
  },
  {
   "cell_type": "markdown",
   "id": "5e029b52",
   "metadata": {},
   "source": [
    "## Clustering - Unsupervised learning introduction"
   ]
  },
  {
   "cell_type": "markdown",
   "id": "42874256",
   "metadata": {},
   "source": [
    "<video controls src=\"video/Lecture 13.1 —  Clustering _ Unsupervised Learning _ Introduction — [ Andrew Ng ].mp4\"/>animation</video>"
   ]
  },
  {
   "cell_type": "markdown",
   "id": "e32a9ac9",
   "metadata": {},
   "source": [
    "## Clustering - K-means algorithm"
   ]
  },
  {
   "cell_type": "markdown",
   "id": "c90b7325",
   "metadata": {},
   "source": [
    "<video controls src=\"video/Lecture 13.2 —  Clustering _ KMeans Algorithm — [ Machine Learning _ Andrew Ng ].mp4\"/>animation</video>"
   ]
  },
  {
   "cell_type": "markdown",
   "id": "6b4c9849",
   "metadata": {},
   "source": [
    "## Clustering - Optimization objective"
   ]
  },
  {
   "cell_type": "markdown",
   "id": "10b2acf2",
   "metadata": {},
   "source": [
    "<video controls src=\"video/Lecture 13.3 —  Clustering _ Optimization Objective — [ Machine Learning _ Andrew Ng ].mp4\"/>animation</video>"
   ]
  },
  {
   "cell_type": "markdown",
   "id": "32981db9",
   "metadata": {},
   "source": [
    "## Clustering - Random initialization"
   ]
  },
  {
   "cell_type": "markdown",
   "id": "2a5aa0d1",
   "metadata": {},
   "source": [
    "<video controls src=\"video/Lecture 13.4 —  Clustering _ Random Initialization — [ Machine Learning _ Andrew Ng ].mp4\"/>animation</video>"
   ]
  },
  {
   "cell_type": "markdown",
   "id": "d3543c74",
   "metadata": {},
   "source": [
    "## Clustering - Choosing the number of clusters"
   ]
  },
  {
   "cell_type": "markdown",
   "id": "8997786e",
   "metadata": {},
   "source": [
    "<video controls src=\"video/Lecture 13.5 —  Clustering _ Choosing The Number Of Clusters — [ Machine Learning _ Andrew Ng ].mp4\"/>animation</video>"
   ]
  },
  {
   "cell_type": "markdown",
   "id": "ca194df1",
   "metadata": {},
   "source": [
    "## Dimensionality Reduction - Motivation I: Data Compression"
   ]
  },
  {
   "cell_type": "markdown",
   "id": "293ed5f0",
   "metadata": {},
   "source": [
    "<video controls src=\"video/Lecture 14.1 — Dimensionality Reduction Motivation I _ Data Compression — [ Andrew Ng ].mp4\"/>animation</video>"
   ]
  },
  {
   "cell_type": "markdown",
   "id": "d784fa2c",
   "metadata": {},
   "source": [
    "## Dimensionality Reduction - Motivation II: Data Visualization"
   ]
  },
  {
   "cell_type": "markdown",
   "id": "e5867ebe",
   "metadata": {},
   "source": [
    "<video controls src=\"video/Lecture 14.2 —Dimensionality Reduction Motivation II  _ Visualization — [ Andrew Ng ].mp4\"/>animation</video>"
   ]
  },
  {
   "cell_type": "markdown",
   "id": "5815c633",
   "metadata": {},
   "source": [
    "## Dimensionality Reduction - Principal Component Analysis problem formulation"
   ]
  },
  {
   "cell_type": "markdown",
   "id": "18b6f4b8",
   "metadata": {},
   "source": [
    "<video controls src=\"video/Lecture 14.3 — Dimensionality Reduction _ Principal Component Analysis _ Problem Formulation.mp4\"/>animation</video>"
   ]
  },
  {
   "cell_type": "markdown",
   "id": "e8ca029f",
   "metadata": {},
   "source": [
    "## Dimensionality Reduction - Principal Component Analysis algorithm"
   ]
  },
  {
   "cell_type": "markdown",
   "id": "63c0d236",
   "metadata": {},
   "source": [
    "<video controls src=\"video/Lecture 14.4 —  Dimensionality Reduction _ Principal Component Analysis Algorithm — [ Andrew Ng ].mp4\"/>animation</video>"
   ]
  },
  {
   "cell_type": "markdown",
   "id": "556397b9",
   "metadata": {},
   "source": [
    "## Dimensionality Reduction - Choosing the number of principal components"
   ]
  },
  {
   "cell_type": "markdown",
   "id": "d50d6f94",
   "metadata": {},
   "source": [
    "<video controls src=\"video/Lecture 14.5 — Dimensionality Reduction _ Choosing The Number Of Principal Components.mp4\"/>animation</video>"
   ]
  },
  {
   "cell_type": "markdown",
   "id": "1a374218",
   "metadata": {},
   "source": [
    "## Dimensionality Reduction - Reconstruction from compressed representation"
   ]
  },
  {
   "cell_type": "markdown",
   "id": "b246d0a0",
   "metadata": {},
   "source": [
    "<video controls src=\"video/Lecture 14.6 — Dimensionality Reduction _ Reconstruction From Compressed Representation.mp4\"/>animation</video>"
   ]
  },
  {
   "cell_type": "markdown",
   "id": "6cc11490",
   "metadata": {},
   "source": [
    "## Dimensionality Reduction - Advice for applying PCA"
   ]
  },
  {
   "cell_type": "markdown",
   "id": "9d12c48d",
   "metadata": {},
   "source": [
    "<video controls src=\"video/Lecture 14.7 — Dimensionality Reduction _ Advice For Applying PCA — [ Machine Learning _ Andrew Ng ].mp4\"/>animation</video>"
   ]
  },
  {
   "cell_type": "markdown",
   "id": "af2050a5",
   "metadata": {},
   "source": [
    "## Anomaly detection - Problem motivation"
   ]
  },
  {
   "cell_type": "markdown",
   "id": "b235d931",
   "metadata": {},
   "source": [
    "<video controls src=\"video/Lecture 15.1 — Anomaly Detection Problem _ Motivation  — [ Machine Learning _ Andrew Ng ].mp4\"/>animation</video>"
   ]
  },
  {
   "cell_type": "markdown",
   "id": "69fa130d",
   "metadata": {},
   "source": [
    "## Anomaly detection - Gaussian distribution"
   ]
  },
  {
   "cell_type": "markdown",
   "id": "2eefbc0d",
   "metadata": {},
   "source": [
    "<video controls src=\"video/Lecture 15.2 — Anomaly Detection _ Gaussian Distribution — [ Machine Learning _ Andrew Ng ].mp4\"/>animation</video>"
   ]
  },
  {
   "cell_type": "markdown",
   "id": "f89542ab",
   "metadata": {},
   "source": [
    "## Anomaly detection - Algorithm"
   ]
  },
  {
   "cell_type": "markdown",
   "id": "9fe810de",
   "metadata": {},
   "source": [
    "<video controls src=\"video/Lecture 15.3 — Anomaly Detection Algorithm — [ Machine Learning _ Andrew Ng _ Stanford University ].mp4\"/>animation</video>"
   ]
  },
  {
   "cell_type": "markdown",
   "id": "ff0ecb49",
   "metadata": {},
   "source": [
    "## Anomaly detection - Developing and evaluating an anomaly detection system"
   ]
  },
  {
   "cell_type": "markdown",
   "id": "55685b8a",
   "metadata": {},
   "source": [
    "<video controls src=\"video/Lecture 15.4 — Anomaly Detection _ Developing And Evaluating An Anomaly Detection System.mp4\"/>animation</video>"
   ]
  },
  {
   "cell_type": "markdown",
   "id": "56875848",
   "metadata": {},
   "source": [
    "## Anomaly detection - Anomaly detection vs. supervised learning"
   ]
  },
  {
   "cell_type": "markdown",
   "id": "1be2d018",
   "metadata": {},
   "source": [
    "<video controls src=\"video/Lecture 15.5 — Anomaly Detection _ Anomaly Detection Vs Supervised Learning — [ Andrew Ng ].mp4\"/>animation</video>"
   ]
  },
  {
   "cell_type": "markdown",
   "id": "3236637e",
   "metadata": {},
   "source": [
    "## Anomaly detection - Choosing what features to use"
   ]
  },
  {
   "cell_type": "markdown",
   "id": "5a48f6f7",
   "metadata": {},
   "source": [
    "<video controls src=\"video/Lecture 15.6 — Anomaly Detection _ Choosing What Features To Use — [ Andrew Ng ].mp4\"/>animation</video>"
   ]
  },
  {
   "cell_type": "markdown",
   "id": "7a7f7d12",
   "metadata": {},
   "source": [
    "## Anomaly detection - Multivariate Gaussion distribution"
   ]
  },
  {
   "cell_type": "markdown",
   "id": "4b29e862",
   "metadata": {},
   "source": [
    "<video controls src=\"video/Lecture 15.7 — Anomaly Detection _ Multivariate Gaussian Distribution — [ Andrew Ng ].mp4\"/>animation</video>"
   ]
  },
  {
   "cell_type": "markdown",
   "id": "e0b47c94",
   "metadata": {},
   "source": [
    "## Anomaly detection - Anomaly detection using the multivariate Gaussian distribution"
   ]
  },
  {
   "cell_type": "markdown",
   "id": "07ffcfb8",
   "metadata": {},
   "source": [
    "<video controls src=\"video/Lecture 15.8 — Anomaly Detection _ Anomaly Detection Using The Multivariate Gaussian Distribution.mp4\"/>animation</video>"
   ]
  },
  {
   "cell_type": "markdown",
   "id": "a14d1797",
   "metadata": {},
   "source": [
    "## Recommender Systems - Problem formulation"
   ]
  },
  {
   "cell_type": "markdown",
   "id": "9e616271",
   "metadata": {},
   "source": [
    "<video controls src=\"video/Lecture 16.1 —  Recommender Systems _ Problem Formulation — [ Machine Learning _ Andrew Ng ].mp4\"/>animation</video>"
   ]
  },
  {
   "cell_type": "markdown",
   "id": "a71f5331",
   "metadata": {},
   "source": [
    "## Recommender Systems - Content-based recommendations"
   ]
  },
  {
   "cell_type": "markdown",
   "id": "1d2fa4af",
   "metadata": {},
   "source": [
    "<video controls src=\"video/Lecture 16.2 —  Recommender Systems _ Content Based Recommendations — [ Andrew Ng ].mp4\"/>animation</video>"
   ]
  },
  {
   "cell_type": "markdown",
   "id": "b5d0c31c",
   "metadata": {},
   "source": [
    "## Recommender Systems - Collaborative filtering"
   ]
  },
  {
   "cell_type": "markdown",
   "id": "02419b34",
   "metadata": {},
   "source": [
    "<video controls src=\"video/Lecture 16.3 —  Recommender Systems _ Collaborative Filtering — [ Machine Learning _ Andrew Ng ].mp4\"/>animation</video>"
   ]
  },
  {
   "cell_type": "markdown",
   "id": "36e6ccb3",
   "metadata": {},
   "source": [
    "## Recommender Systems - Collaborative filtering algorithm"
   ]
  },
  {
   "cell_type": "markdown",
   "id": "7bee70f7",
   "metadata": {},
   "source": [
    "<video controls src=\"video/Lecture 16.4 —  Recommender Systems _ Collaborative Filtering Algorithm — [ Andrew Ng ].mp4\"/>animation</video>"
   ]
  },
  {
   "cell_type": "markdown",
   "id": "2f9ff173",
   "metadata": {},
   "source": [
    "## Recommender Systems - Vectorization: Low rank matrix factorization"
   ]
  },
  {
   "cell_type": "markdown",
   "id": "9cd4bebc",
   "metadata": {},
   "source": [
    "<video controls src=\"video/Lecture 16.5 —  Recommender Systems _ Vectorization Low Rank Matrix Factorization — [ Andrew Ng ].mp4\"/>animation</video>"
   ]
  },
  {
   "cell_type": "markdown",
   "id": "9e7ad9ea",
   "metadata": {},
   "source": [
    "## Recommender Systems - Implementational detail: Mean normalization"
   ]
  },
  {
   "cell_type": "markdown",
   "id": "b062a9e5",
   "metadata": {},
   "source": [
    "<video controls src=\"video/Lecture 16.6 —  Recommender Systems _ Implementational Detail Mean Normalization — [ Andrew Ng ].mp4\"/>animation</video>"
   ]
  },
  {
   "cell_type": "markdown",
   "id": "f18733a6",
   "metadata": {},
   "source": [
    "## Large scale machine learning - Learning with large detasets"
   ]
  },
  {
   "cell_type": "markdown",
   "id": "7cf58e09",
   "metadata": {},
   "source": [
    "<video controls src=\"video/Lecture 17.1 — Large Scale Machine Learning _ Learning With Large Datasets — [ Andrew Ng ].mp4\"/>animation</video>"
   ]
  },
  {
   "cell_type": "code",
   "execution_count": null,
   "id": "7948f651",
   "metadata": {},
   "outputs": [],
   "source": []
  }
 ],
 "metadata": {
  "kernelspec": {
   "display_name": "Python 3",
   "language": "python",
   "name": "python3"
  },
  "language_info": {
   "codemirror_mode": {
    "name": "ipython",
    "version": 3
   },
   "file_extension": ".py",
   "mimetype": "text/x-python",
   "name": "python",
   "nbconvert_exporter": "python",
   "pygments_lexer": "ipython3",
   "version": "3.8.0"
  },
  "toc": {
   "base_numbering": 1,
   "nav_menu": {},
   "number_sections": true,
   "sideBar": true,
   "skip_h1_title": false,
   "title_cell": "Table of Contents",
   "title_sidebar": "Contents",
   "toc_cell": false,
   "toc_position": {
    "height": "calc(100% - 180px)",
    "left": "10px",
    "top": "150px",
    "width": "763.477px"
   },
   "toc_section_display": true,
   "toc_window_display": true
  }
 },
 "nbformat": 4,
 "nbformat_minor": 5
}
