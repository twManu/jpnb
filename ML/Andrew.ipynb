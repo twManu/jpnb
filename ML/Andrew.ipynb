{
 "cells": [
  {
   "cell_type": "markdown",
   "id": "7ab6a0ac",
   "metadata": {},
   "source": [
    "# 吳恩達"
   ]
  },
  {
   "cell_type": "markdown",
   "id": "ade3fa32",
   "metadata": {},
   "source": [
    "## Anomaly detection - Problem motivation"
   ]
  },
  {
   "cell_type": "markdown",
   "id": "2ac0a303",
   "metadata": {},
   "source": [
    "<video controls src=\"video/Lecture 15.1 — Anomaly Detection Problem _ Motivation  — [ Machine Learning _ Andrew Ng ].mp4\"/>animation</video>"
   ]
  },
  {
   "cell_type": "markdown",
   "id": "99887770",
   "metadata": {},
   "source": [
    "## Anomaly detection - Gaussian distribution"
   ]
  },
  {
   "cell_type": "markdown",
   "id": "43815586",
   "metadata": {},
   "source": [
    "<video controls src=\"video/Lecture 15.2 — Anomaly Detection _ Gaussian Distribution — [ Machine Learning _ Andrew Ng ].mp4\"/>animation</video>"
   ]
  },
  {
   "cell_type": "markdown",
   "id": "1ea2b981",
   "metadata": {},
   "source": [
    "## Anomaly detection - Algorithm"
   ]
  },
  {
   "cell_type": "markdown",
   "id": "0ffe96a3",
   "metadata": {},
   "source": [
    "<video controls src=\"video/Lecture 15.3 — Anomaly Detection Algorithm — [ Machine Learning _ Andrew Ng _ Stanford University ].mp4\"/>animation</video>"
   ]
  },
  {
   "cell_type": "markdown",
   "id": "6db50bf7",
   "metadata": {},
   "source": [
    "## Anomaly detection - Developing and evaluating an anomaly detection system"
   ]
  },
  {
   "cell_type": "markdown",
   "id": "9635518f",
   "metadata": {},
   "source": [
    "<video controls src=\"video/Lecture 15.4 — Anomaly Detection _ Developing And Evaluating An Anomaly Detection System.mp4\"/>animation</video>"
   ]
  },
  {
   "cell_type": "markdown",
   "id": "9a34f32f",
   "metadata": {},
   "source": [
    "## Anomaly detection - Anomaly detection vs. supervised learning"
   ]
  },
  {
   "cell_type": "markdown",
   "id": "6f71ebfe",
   "metadata": {},
   "source": [
    "<video controls src=\"video/Lecture 15.5 — Anomaly Detection _ Anomaly Detection Vs Supervised Learning — [ Andrew Ng ].mp4\"/>animation</video>"
   ]
  },
  {
   "cell_type": "markdown",
   "id": "42e83c25",
   "metadata": {},
   "source": [
    "## Anomaly detection - Choosing what features to use"
   ]
  },
  {
   "cell_type": "markdown",
   "id": "07a61176",
   "metadata": {},
   "source": [
    "<video controls src=\"video/Lecture 15.6 — Anomaly Detection _ Choosing What Features To Use — [ Andrew Ng ].mp4\"/>animation</video>"
   ]
  },
  {
   "cell_type": "markdown",
   "id": "047fdfd2",
   "metadata": {},
   "source": [
    "## Anomaly detection - Multivariate Gaussion distribution"
   ]
  },
  {
   "cell_type": "markdown",
   "id": "78a3a99d",
   "metadata": {},
   "source": [
    "<video controls src=\"video/Lecture 15.7 — Anomaly Detection _ Multivariate Gaussian Distribution — [ Andrew Ng ].mp4\"/>animation</video>"
   ]
  },
  {
   "cell_type": "markdown",
   "id": "23a2d1db",
   "metadata": {},
   "source": [
    "## Anomaly detection - Anomaly detection using the multivariate Gaussian distribution"
   ]
  },
  {
   "cell_type": "markdown",
   "id": "6fd69fb6",
   "metadata": {},
   "source": [
    "<video controls src=\"video/Lecture 15.8 — Anomaly Detection _ Anomaly Detection Using The Multivariate Gaussian Distribution.mp4\"/>animation</video>"
   ]
  },
  {
   "cell_type": "markdown",
   "id": "7c60950d",
   "metadata": {},
   "source": [
    "## Recommender Systems - Problem formulation"
   ]
  },
  {
   "cell_type": "markdown",
   "id": "aa847c39",
   "metadata": {},
   "source": [
    "<video controls src=\"video/Lecture 16.1 —  Recommender Systems _ Problem Formulation — [ Machine Learning _ Andrew Ng ].mp4\"/>animation</video>"
   ]
  },
  {
   "cell_type": "markdown",
   "id": "fe88c16d",
   "metadata": {},
   "source": [
    "## Recommender Systems - Content-based recommendations"
   ]
  },
  {
   "cell_type": "markdown",
   "id": "838a0282",
   "metadata": {},
   "source": [
    "<video controls src=\"video/Lecture 16.2 —  Recommender Systems _ Content Based Recommendations — [ Andrew Ng ].mp4\"/>animation</video>"
   ]
  },
  {
   "cell_type": "markdown",
   "id": "0e1dcc5e",
   "metadata": {},
   "source": [
    "## Recommender Systems - Collaborative filtering"
   ]
  },
  {
   "cell_type": "markdown",
   "id": "db68a405",
   "metadata": {},
   "source": [
    "<video controls src=\"video/Lecture 16.3 —  Recommender Systems _ Collaborative Filtering — [ Machine Learning _ Andrew Ng ].mp4\"/>animation</video>"
   ]
  },
  {
   "cell_type": "markdown",
   "id": "bb8fff42",
   "metadata": {},
   "source": [
    "## Recommender Systems - Collaborative filtering algorithm"
   ]
  },
  {
   "cell_type": "markdown",
   "id": "d8a1028d",
   "metadata": {},
   "source": [
    "<video controls src=\"video/Lecture 16.4 —  Recommender Systems _ Collaborative Filtering Algorithm — [ Andrew Ng ].mp4\"/>animation</video>"
   ]
  },
  {
   "cell_type": "markdown",
   "id": "b1aafb1b",
   "metadata": {},
   "source": [
    "## Recommender Systems - Vectorization: Low rank matrix factorization"
   ]
  },
  {
   "cell_type": "markdown",
   "id": "e258186c",
   "metadata": {},
   "source": [
    "<video controls src=\"video/Lecture 16.5 —  Recommender Systems _ Vectorization Low Rank Matrix Factorization — [ Andrew Ng ].mp4\"/>animation</video>"
   ]
  },
  {
   "cell_type": "markdown",
   "id": "115a8171",
   "metadata": {},
   "source": [
    "## Recommender Systems - Implementational detail: Mean normalization"
   ]
  },
  {
   "cell_type": "markdown",
   "id": "412749df",
   "metadata": {},
   "source": [
    "<video controls src=\"video/Lecture 16.6 —  Recommender Systems _ Implementational Detail Mean Normalization — [ Andrew Ng ].mp4\"/>animation</video>"
   ]
  },
  {
   "cell_type": "markdown",
   "id": "ea530837",
   "metadata": {},
   "source": [
    "## Large scale machine learning - Learning with large detasets"
   ]
  },
  {
   "cell_type": "markdown",
   "id": "792822c1",
   "metadata": {},
   "source": [
    "<video controls src=\"video/Lecture 17.1 — Large Scale Machine Learning _ Learning With Large Datasets — [ Andrew Ng ].mp4\"/>animation</video>"
   ]
  },
  {
   "cell_type": "markdown",
   "id": "9d331af3",
   "metadata": {},
   "source": [
    "## Large scale machine learning - Stochastic gradient descent"
   ]
  },
  {
   "cell_type": "markdown",
   "id": "b15c3fc7",
   "metadata": {},
   "source": [
    "<video controls src=\"video/Lecture 17.2 — Large Scale Machine Learning _ Stochastic Gradient Descent — [ Andrew Ng ].mp4\"/>animation</video>"
   ]
  },
  {
   "cell_type": "markdown",
   "id": "23dff60e",
   "metadata": {},
   "source": [
    "## Large scale machine learning - Mini-batch gradient descent"
   ]
  },
  {
   "cell_type": "markdown",
   "id": "a1cb4311",
   "metadata": {},
   "source": [
    "<video controls src=\"video/Lecture 17.3 — Large Scale Machine Learning _ Mini Batch Gradient Descent — [ Andrew Ng ].mp4\"/>animation</video>"
   ]
  },
  {
   "cell_type": "markdown",
   "id": "22be00c5",
   "metadata": {},
   "source": [
    "## Large scale machine learning - Stochastic gradient descent convergence"
   ]
  },
  {
   "cell_type": "markdown",
   "id": "cb612ed9",
   "metadata": {},
   "source": [
    "<video controls src=\"video/Lecture 17.4 — Large Scale Machine Learning _ Stochastic Gradient Descent Convergence.mp4\"/>animation</video>"
   ]
  },
  {
   "cell_type": "markdown",
   "id": "d2cbcebd",
   "metadata": {},
   "source": [
    "## Large scale machine learning - Online learning"
   ]
  },
  {
   "cell_type": "markdown",
   "id": "0ba25ffb",
   "metadata": {},
   "source": [
    "<video controls src=\"video/Lecture 17.5 — Large Scale Machine Learning _ Online Learning — [ Machine Learning _ Andrew Ng ].mp4\"/>animation</video>"
   ]
  },
  {
   "cell_type": "markdown",
   "id": "82347d28",
   "metadata": {},
   "source": [
    "## Large scale machine learning - Map-reduce and data parallelism"
   ]
  },
  {
   "cell_type": "markdown",
   "id": "cc7220e7",
   "metadata": {},
   "source": [
    "<video controls src=\"video/Lecture 17.6 — Large Scale Machine Learning _ Map Reduce And Data Parallelism — [ Andrew Ng ].mp4\"/>animation</video>"
   ]
  },
  {
   "cell_type": "markdown",
   "id": "fb21896b",
   "metadata": {},
   "source": [
    "## Application example: Photo OCR - Problem description and pipeline"
   ]
  },
  {
   "cell_type": "markdown",
   "id": "4ccd1453",
   "metadata": {},
   "source": [
    "<video controls src=\"video/Lecture 18.1 — Application Example Photo OCR _ Problem Description And Pipeline — [ Andrew Ng ].mp4\"/>animation</video>"
   ]
  },
  {
   "cell_type": "markdown",
   "id": "85b2b86f",
   "metadata": {},
   "source": [
    "## Application example: Photo OCR - Sliding windows"
   ]
  },
  {
   "cell_type": "markdown",
   "id": "d01ca75c",
   "metadata": {},
   "source": [
    "<video controls src=\"video/Lecture 18.2 — Application Example Photo OCR _ Sliding Windows — [ Machine Learning _ Andrew Ng ].mp4\"/>animation</video>"
   ]
  },
  {
   "cell_type": "markdown",
   "id": "050ecbc4",
   "metadata": {},
   "source": [
    "## Application example: Photo OCR - Getting lots of data: Artificial data synthesis"
   ]
  },
  {
   "cell_type": "markdown",
   "id": "8943bf07",
   "metadata": {},
   "source": [
    "<video controls src=\"video/Lecture 18.3 — Application Example Photo OCR _ Getting Lots Of Data Artificial Data Synthesis.mp4\"/>animation</video>"
   ]
  },
  {
   "cell_type": "markdown",
   "id": "ad9b86c3",
   "metadata": {},
   "source": [
    "## Application example: Photo OCR - Ceiling synthesis: What part of the pipeline to work on next"
   ]
  },
  {
   "cell_type": "markdown",
   "id": "9ea937b8",
   "metadata": {},
   "source": [
    "<video controls src=\"video/Lecture 18.4 — Application Example Photo OCR _ Ceiling Analysis _ What Part to Work On Next.mp4\"/>animation</video>"
   ]
  },
  {
   "cell_type": "markdown",
   "id": "36a6fa73",
   "metadata": {},
   "source": [
    "## Conclusion - Summary and Thank you"
   ]
  },
  {
   "cell_type": "markdown",
   "id": "e3114442",
   "metadata": {},
   "source": [
    "<video controls src=\"video/Lecture 19 — Conclusion Summary And ThankYou — [ Andrew Ng _ Stanford University ].mp4\"/>animation</video>"
   ]
  }
 ],
 "metadata": {
  "kernelspec": {
   "display_name": "Python 3",
   "language": "python",
   "name": "python3"
  },
  "language_info": {
   "codemirror_mode": {
    "name": "ipython",
    "version": 3
   },
   "file_extension": ".py",
   "mimetype": "text/x-python",
   "name": "python",
   "nbconvert_exporter": "python",
   "pygments_lexer": "ipython3",
   "version": "3.8.0"
  },
  "toc": {
   "base_numbering": 1,
   "nav_menu": {},
   "number_sections": true,
   "sideBar": true,
   "skip_h1_title": false,
   "title_cell": "Table of Contents",
   "title_sidebar": "Contents",
   "toc_cell": false,
   "toc_position": {
    "height": "calc(100% - 180px)",
    "left": "10px",
    "top": "150px",
    "width": "172.475px"
   },
   "toc_section_display": true,
   "toc_window_display": true
  }
 },
 "nbformat": 4,
 "nbformat_minor": 5
}
