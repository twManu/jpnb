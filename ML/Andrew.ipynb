{
 "cells": [
  {
   "cell_type": "markdown",
   "id": "d22a387f",
   "metadata": {},
   "source": [
    "# 吳恩達"
   ]
  },
  {
   "cell_type": "markdown",
   "id": "db768934",
   "metadata": {},
   "source": [
    "## Octave Tutorial - Working on and submitting programming"
   ]
  },
  {
   "cell_type": "markdown",
   "id": "38d34dd9",
   "metadata": {},
   "source": [
    "<video controls src=\"video/yt1s.com - 26机器学习Machine Learning 吴恩达Andrew Ng中文字幕版Working on and Submitting Pro_480p.mp4\"/>animation</video>"
   ]
  },
  {
   "cell_type": "markdown",
   "id": "6a0c0605",
   "metadata": {},
   "source": [
    "## missing"
   ]
  },
  {
   "cell_type": "markdown",
   "id": "8fca9c77",
   "metadata": {},
   "source": [
    "## Octave Tutorial - Moving data around"
   ]
  },
  {
   "cell_type": "markdown",
   "id": "a8b6eafc",
   "metadata": {},
   "source": [
    "<video controls src=\"video/yt1s.com - 28机器学习Machine Learning 吴恩达Andrew Ng中文字幕版Moving Data Around 中英Av9912938P28_480p.mp4\"/>animation</video>"
   ]
  },
  {
   "cell_type": "markdown",
   "id": "9f91d031",
   "metadata": {},
   "source": [
    "## Octave Tutorial - Computing on data"
   ]
  },
  {
   "cell_type": "markdown",
   "id": "0f4d79ab",
   "metadata": {},
   "source": [
    "<video controls src=\"video/yt1s.com - 29机器学习Machine Learning 吴恩达Andrew Ng中文字幕版Computing on Data中英Av9912938P2_480p.mp4\"/>animation</video>"
   ]
  },
  {
   "cell_type": "markdown",
   "id": "c5f5cd61",
   "metadata": {},
   "source": [
    "## Octave Tutorial - Plotting data"
   ]
  },
  {
   "cell_type": "markdown",
   "id": "a369d878",
   "metadata": {},
   "source": [
    "<video controls src=\"video/yt1s.com - 30机器学习Machine Learning 吴恩达Andrew Ng中文字幕版Plotting Data 中英_480p.mp4\"/>animation</video>"
   ]
  },
  {
   "cell_type": "markdown",
   "id": "28f5095b",
   "metadata": {},
   "source": [
    "## Octave Tutorial - Vectorization"
   ]
  },
  {
   "cell_type": "markdown",
   "id": "656cba01",
   "metadata": {},
   "source": [
    "<video controls src=\"video/yt1s.com - 32机器学习Machine Learning 吴恩达Andrew Ng中文字幕版Vectorization 中英_480p.mp4\"/>animation</video>"
   ]
  },
  {
   "cell_type": "markdown",
   "id": "aaf4933e",
   "metadata": {},
   "source": [
    "## Logistic Regression - Classification"
   ]
  },
  {
   "cell_type": "markdown",
   "id": "9d79de57",
   "metadata": {},
   "source": [
    "<video controls src=\"video/yt1s.com - 33机器学习Machine Learning 吴恩达Andrew Ng中文字幕版Classification 中英机翻_480p.mp4\"/>animation</video>"
   ]
  },
  {
   "cell_type": "markdown",
   "id": "90d66ef4",
   "metadata": {},
   "source": [
    "## Logistic Regression - Hypothesis Representation"
   ]
  },
  {
   "cell_type": "markdown",
   "id": "deffac6d",
   "metadata": {},
   "source": [
    "<video controls src=\"video/yt1s.com - 34机器学习Machine Learning 吴恩达Andrew Ng中文字幕版 Hypothesis Representation 中文_480p.mp4\"/>animation</video>"
   ]
  },
  {
   "cell_type": "markdown",
   "id": "d9f72587",
   "metadata": {},
   "source": [
    "## Logistic Regression - Decision boundary"
   ]
  },
  {
   "cell_type": "markdown",
   "id": "83f4c5b8",
   "metadata": {},
   "source": [
    "<video controls src=\"video/yt1s.com - 35机器学习Machine Learning 吴恩达Andrew Ng中文字幕版Decision Boundary 中英_480p.mp4\"/>animation</video>"
   ]
  },
  {
   "cell_type": "markdown",
   "id": "0b8acd66",
   "metadata": {},
   "source": [
    "## Logistic Regression - Cost function"
   ]
  },
  {
   "cell_type": "markdown",
   "id": "98e484b2",
   "metadata": {},
   "source": [
    "<video controls src=\"video/yt1s.com - 36机器学习Machine Learning 吴恩达Andrew Ng中文字幕版Cost Function 中英_480p.mp4\"/>animation</video>"
   ]
  },
  {
   "cell_type": "markdown",
   "id": "2c106b66",
   "metadata": {},
   "source": [
    "## Logistic Regression - Simplified cost function and gradient descent"
   ]
  },
  {
   "cell_type": "markdown",
   "id": "e3ce119a",
   "metadata": {},
   "source": [
    "<video controls src=\"video/yt1s.com - 37机器学习Machine Learning 吴恩达Andrew Ng中文字幕版Simplified Cost Function and_480p.mp4\"/>animation</video>"
   ]
  },
  {
   "cell_type": "markdown",
   "id": "0d6ca698",
   "metadata": {},
   "source": [
    "## Logistic Regression - Advanced optimization"
   ]
  },
  {
   "cell_type": "markdown",
   "id": "778741f5",
   "metadata": {},
   "source": [
    "<video controls src=\"video/yt1s.com - 38机器学习Machine Learning 吴恩达Andrew Ng中文字幕版 Advanced Optimization 中英_480p.mp4\"/>animation</video>"
   ]
  },
  {
   "cell_type": "markdown",
   "id": "9ccba424",
   "metadata": {},
   "source": [
    "## Logistic Regression - Multi-class classification: One-vs-all"
   ]
  },
  {
   "cell_type": "markdown",
   "id": "27218d64",
   "metadata": {},
   "source": [
    "<video controls src=\"video/yt1s.com - 39机器学习Machine Learning 吴恩达Andrew Ng中文字幕版Multiclass Classification  On_480p.mp4\"/>animation</video>"
   ]
  },
  {
   "cell_type": "markdown",
   "id": "a7f6d616",
   "metadata": {},
   "source": [
    "## Regularization - The problem of overfitting"
   ]
  },
  {
   "cell_type": "markdown",
   "id": "8d774785",
   "metadata": {},
   "source": [
    "<video controls src=\"video/yt1s.com - 40机器学习Machine Learning 吴恩达Andrew Ng中文字幕版The Problem of Overfitting中英_480p.mp4\"/>animation</video>"
   ]
  },
  {
   "cell_type": "markdown",
   "id": "71ceeed6",
   "metadata": {},
   "source": [
    "## Regularization - Cost function"
   ]
  },
  {
   "cell_type": "markdown",
   "id": "2afd5628",
   "metadata": {},
   "source": [
    "<video controls src=\"video/yt1s.com -41机器学习Machine Learning 吴恩达Andrew Ng中文字幕版Cost Function 中英_480p.mp4\"/>animation</video>"
   ]
  },
  {
   "cell_type": "markdown",
   "id": "5a74845f",
   "metadata": {},
   "source": [
    "## Regularization - Regularized linear regression"
   ]
  },
  {
   "cell_type": "markdown",
   "id": "766930bb",
   "metadata": {},
   "source": [
    "<video controls src=\"video/Lecture 7.3 — Regularization _ Regularized Linear Regression — [ Machine Learning _ Andrew Ng].mp4\"/>animation</video>"
   ]
  },
  {
   "cell_type": "markdown",
   "id": "abe51a5a",
   "metadata": {},
   "source": [
    "## Regularization - Regularized logistic regression"
   ]
  },
  {
   "cell_type": "markdown",
   "id": "bc43fcf0",
   "metadata": {},
   "source": [
    "<video controls src=\"video/Lecture 7.4 — Regularization _ Regularized Logistic Regression — [ Machine Learning _ Andrew Ng].mp4\"/>animation</video>"
   ]
  },
  {
   "cell_type": "markdown",
   "id": "0e447432",
   "metadata": {},
   "source": [
    "## Neural Networks: Representation - Non-linear hypotheses"
   ]
  },
  {
   "cell_type": "markdown",
   "id": "3a939c3e",
   "metadata": {},
   "source": [
    "<video controls src=\"video/Lecture 8.1 — Neural Networks Representation _ Non Linear Hypotheses — [Andrew Ng].mp4\"/>animation</video>"
   ]
  },
  {
   "cell_type": "markdown",
   "id": "7915b7a3",
   "metadata": {},
   "source": [
    "## Neural Networks: Representation - Neurons and the brain"
   ]
  },
  {
   "cell_type": "markdown",
   "id": "722e1865",
   "metadata": {},
   "source": [
    "<video controls src=\"video/Lecture 8.2 — Neural Networks Representation _ Neurons And The Brain — [Andrew Ng].mp4\"/>animation</video>"
   ]
  },
  {
   "cell_type": "markdown",
   "id": "44e92be6",
   "metadata": {},
   "source": [
    "## Neural Networks: Representation - Model representation I"
   ]
  },
  {
   "cell_type": "markdown",
   "id": "49c801c0",
   "metadata": {},
   "source": [
    "<video controls src=\"video/Lecture 8.3 — Neural Networks Representation _ Model Representation-I — [ Andrew Ng ].mp4\"/>animation</video>"
   ]
  },
  {
   "cell_type": "markdown",
   "id": "6cf3533c",
   "metadata": {},
   "source": [
    "## Neural Networks: Representation - Model representation II"
   ]
  },
  {
   "cell_type": "markdown",
   "id": "0869aa86",
   "metadata": {},
   "source": [
    "<video controls src=\"video/Lecture 8.4 — Neural Networks Representation _ Model Representation-II — [Andrew Ng].mp4\"/>animation</video>"
   ]
  },
  {
   "cell_type": "markdown",
   "id": "b65e1234",
   "metadata": {},
   "source": [
    "## Neural Networks: Representation - Examples and intuitions I"
   ]
  },
  {
   "cell_type": "markdown",
   "id": "e3b96905",
   "metadata": {},
   "source": [
    "<video controls src=\"video/Lecture 8.5 — Neural Networks Representation _ Examples And Intuitions-I — [ Andrew Ng].mp4\"/>animation</video>"
   ]
  },
  {
   "cell_type": "markdown",
   "id": "6fd78f37",
   "metadata": {},
   "source": [
    "## Neural Networks: Representation - Examples and intuitions II"
   ]
  },
  {
   "cell_type": "markdown",
   "id": "6f64901f",
   "metadata": {},
   "source": [
    "<video controls src=\"video/Lecture 8.6 — Neural Networks Representation _ Examples And Intuitions-II — [ Andrew Ng].mp4\"/>animation</video>"
   ]
  },
  {
   "cell_type": "markdown",
   "id": "d9b64073",
   "metadata": {},
   "source": [
    "## Neural Networks: Representation - Multi-class classification"
   ]
  },
  {
   "cell_type": "markdown",
   "id": "ba53a239",
   "metadata": {},
   "source": [
    "<video controls src=\"video/Lecture 8.7 — Neural Networks Representation _ MultiClass Classification — [Andrew Ng].mp4\"/>animation</video>"
   ]
  },
  {
   "cell_type": "markdown",
   "id": "c9ed8c1a",
   "metadata": {},
   "source": [
    "## Neural Networks: Learning - Cost function"
   ]
  },
  {
   "cell_type": "markdown",
   "id": "a9f49f0b",
   "metadata": {},
   "source": [
    "<video controls src=\"video/Lecture 9.1 — Neural Networks Learning _ Cost Function — [ Machine Learning _ Andrew Ng].mp4\"/>animation</video>"
   ]
  },
  {
   "cell_type": "markdown",
   "id": "fb66f794",
   "metadata": {},
   "source": [
    "## Neural Networks: Learning - Backpropagation algorithm"
   ]
  },
  {
   "cell_type": "markdown",
   "id": "2b9ae03c",
   "metadata": {},
   "source": [
    "<video controls src=\"video/Lecture 9.2 — Neural Networks Learning _ Backpropagation Algorithm — [ Machine Learning _ Andrew Ng].mp4\"/>animation</video>"
   ]
  },
  {
   "cell_type": "markdown",
   "id": "1659a2fe",
   "metadata": {},
   "source": [
    "## Neural Networks: Learning - Backpropagation intuition"
   ]
  },
  {
   "cell_type": "markdown",
   "id": "0b963ad1",
   "metadata": {},
   "source": [
    "<video controls src=\"video/Lecture 9.3 — Neural Networks Learning _ Backpropagation Intuition — [ Machine Learning _ Andrew Ng].mp4\"/>animation</video>"
   ]
  },
  {
   "cell_type": "markdown",
   "id": "f1bf0b69",
   "metadata": {},
   "source": [
    "## Neural Networks: Learning - Implementation note: Unrolling parameters"
   ]
  },
  {
   "cell_type": "markdown",
   "id": "84c779a8",
   "metadata": {},
   "source": [
    "<video controls src=\"video/Lecture 9.4 — Neural Networks Learning _ Implementation Note Unrolling Parameters — [ Andrew Ng].mp4\"/>animation</video>"
   ]
  },
  {
   "cell_type": "markdown",
   "id": "e27598ca",
   "metadata": {},
   "source": [
    "## Neural Networks: Learning - Gradient checking"
   ]
  },
  {
   "cell_type": "markdown",
   "id": "65cf93f5",
   "metadata": {},
   "source": [
    "<video controls src=\"video/Lecture 9.5 — Neural Networks Learning _ Gradient Checking — [ Machine Learning _ Andrew Ng].mp4\"/>animation</video>"
   ]
  },
  {
   "cell_type": "markdown",
   "id": "53482461",
   "metadata": {},
   "source": [
    "## Neural Networks: Learning - Random initialization"
   ]
  },
  {
   "cell_type": "markdown",
   "id": "d132e731",
   "metadata": {},
   "source": [
    "<video controls src=\"video/Lecture 9.6 — Neural Networks Learning _ Random Initialization — [ Machine Learning _ Andrew Ng].mp4\"/>animation</video>"
   ]
  },
  {
   "cell_type": "markdown",
   "id": "b25b668e",
   "metadata": {},
   "source": [
    "## Neural Networks: Learning - Putting it together"
   ]
  },
  {
   "cell_type": "markdown",
   "id": "5145e5ae",
   "metadata": {},
   "source": [
    "<video controls src=\"video/Lecture 9.7 — Neural Networks Learning _ Putting It Together — [ Machine Learning _ Andrew Ng].mp4\"/>animation</video>"
   ]
  },
  {
   "cell_type": "markdown",
   "id": "46ecd4f0",
   "metadata": {},
   "source": [
    "## Neural Networks: Learning - Autonomous driving example"
   ]
  },
  {
   "cell_type": "markdown",
   "id": "e645d3a5",
   "metadata": {},
   "source": [
    "<video controls src=\"video/Lecture 9.8 — Neural Networks Learning _ Autonomous Driving Example — [Andrew Ng].mp4\"/>animation</video>"
   ]
  },
  {
   "cell_type": "markdown",
   "id": "e069f7ef",
   "metadata": {},
   "source": [
    "## Advice for applying machine learning - Deciding what to try next"
   ]
  },
  {
   "cell_type": "markdown",
   "id": "5a62ceca",
   "metadata": {},
   "source": [
    "<video controls src=\"video/Lecture 10.1 — Advice For Applying Machine Learning _ Deciding What To Try Next — [ Andrew Ng].mp4\"/>animation</video>"
   ]
  },
  {
   "cell_type": "markdown",
   "id": "222f911a",
   "metadata": {},
   "source": [
    "## Advice for applying machine learning - Evaluating a hypothesis"
   ]
  },
  {
   "cell_type": "markdown",
   "id": "80cabfbf",
   "metadata": {},
   "source": [
    "<video controls src=\"video/Lecture 10.2 — Advice For Applying Machine Learning _ Evaluating A Hypothesis — [ Andrew Ng].mp4\"/>animation</video>"
   ]
  },
  {
   "cell_type": "markdown",
   "id": "a367b92d",
   "metadata": {},
   "source": [
    "## Advice for applying machine learning - Model selection and training/validation/test sets"
   ]
  },
  {
   "cell_type": "markdown",
   "id": "94ed8872",
   "metadata": {},
   "source": [
    "<video controls src=\"video/Lecture 10.3 — Advice For Applying Machine Learning _ Model Selection And Train Validation Test Sets.mp4\"/>animation</video>"
   ]
  },
  {
   "cell_type": "markdown",
   "id": "ec42b16b",
   "metadata": {},
   "source": [
    "## Advice for applying machine learning - Diagnosing bias vs. variance"
   ]
  },
  {
   "cell_type": "markdown",
   "id": "eb727652",
   "metadata": {},
   "source": [
    "<video controls src=\"video/Lecture 10.4 — Advice For Applying Machine Learning _ Diagnosing Bias Vs Variance — [Andrew Ng].mp4\"/>animation</video>"
   ]
  },
  {
   "cell_type": "markdown",
   "id": "bf398668",
   "metadata": {},
   "source": [
    "## Advice for applying machine learning - Regularization and bias/variance"
   ]
  },
  {
   "cell_type": "markdown",
   "id": "f9103986",
   "metadata": {},
   "source": [
    "<video controls src=\"video/Lecture 10.5 — Advice For Applying Machine Learning _ Regularization And Bias Variance — [Andrew Ng].mp4\"/>animation</video>"
   ]
  },
  {
   "cell_type": "markdown",
   "id": "6e341b86",
   "metadata": {},
   "source": [
    "## Advice for applying machine learning - Learning curves"
   ]
  },
  {
   "cell_type": "markdown",
   "id": "44ecec80",
   "metadata": {},
   "source": [
    "<video controls src=\"video/Lecture 10.6 — Advice For Applying Machine Learning _ Learning Curves — [Andrew Ng].mp4\"/>animation</video>"
   ]
  },
  {
   "cell_type": "markdown",
   "id": "f11e8313",
   "metadata": {},
   "source": [
    "## Advice for applying machine learning - Deciding what to try next"
   ]
  },
  {
   "cell_type": "markdown",
   "id": "bd4067e6",
   "metadata": {},
   "source": [
    "<video controls src=\"video/Lecture 10.7 — Advice For Applying Machine Learning _ Deciding What To Do Next (Revisited).mp4\"/>animation</video>"
   ]
  },
  {
   "cell_type": "markdown",
   "id": "62d4ac0c",
   "metadata": {},
   "source": [
    "## Machine learning system design - Prioritizing what to work on: Spam classification example"
   ]
  },
  {
   "cell_type": "markdown",
   "id": "4f63331e",
   "metadata": {},
   "source": [
    "<video controls src=\"video/Lecture 11.1 — Machine Learning System Design _ Prioritizing What To Work On — [ Andrew Ng].mp4\"/>animation</video>"
   ]
  },
  {
   "cell_type": "markdown",
   "id": "8b4124bc",
   "metadata": {},
   "source": [
    "## Machine learning system design - Error analysis"
   ]
  },
  {
   "cell_type": "markdown",
   "id": "4dd92797",
   "metadata": {},
   "source": [
    "<video controls src=\"video/Lecture 11.2 — Machine Learning System Design _ Error Analysis — [ Machine Learning _ Andrew Ng ].mp4\"/>animation</video>"
   ]
  },
  {
   "cell_type": "markdown",
   "id": "4ec22d8b",
   "metadata": {},
   "source": [
    "## Machine learning system design - Error metrics for skewed classes"
   ]
  },
  {
   "cell_type": "markdown",
   "id": "34bbe574",
   "metadata": {},
   "source": [
    "<video controls src=\"video/Lecture 11.3 — Machine Learning System Design _ Error Metrics For Skewed Classes — [Andrew Ng].mp4\"/>animation</video>"
   ]
  },
  {
   "cell_type": "markdown",
   "id": "0b5f9ddd",
   "metadata": {},
   "source": [
    "## Machine learning system design - Trading off precision and recall"
   ]
  },
  {
   "cell_type": "markdown",
   "id": "b70c9db3",
   "metadata": {},
   "source": [
    "<video controls src=\"video/Lecture 11.4 — Machine Learning System Design _ Trading Off Precision And Recall — [Andrew Ng].mp4\"/>animation</video>"
   ]
  },
  {
   "cell_type": "markdown",
   "id": "247cdaf0",
   "metadata": {},
   "source": [
    "## Machine learning system design - Data for machine learning"
   ]
  },
  {
   "cell_type": "markdown",
   "id": "f08a7095",
   "metadata": {},
   "source": [
    "<video controls src=\"video/Lecture 11.5 — Machine Learning System Design _ Data For Machine Learning — [Andrew Ng].mp4\"/>animation</video>"
   ]
  },
  {
   "cell_type": "markdown",
   "id": "dc1ffca5",
   "metadata": {},
   "source": [
    "## Support Vector Machines - Optimization objective"
   ]
  },
  {
   "cell_type": "markdown",
   "id": "08c7452c",
   "metadata": {},
   "source": [
    "<video controls src=\"video/Lecture 12.1 —  Support Vector Machines _ Optimization Objective — [ Machine Learning _ Andrew Ng].mp4\"/>animation</video>"
   ]
  },
  {
   "cell_type": "markdown",
   "id": "bf22a803",
   "metadata": {},
   "source": [
    "## Support Vector Machines - Large Margin Intuition"
   ]
  },
  {
   "cell_type": "markdown",
   "id": "1a1adb8f",
   "metadata": {},
   "source": [
    "<video controls src=\"video/Lecture 12.2 — Support Vector Machines _ Large Margin Intuition — [Machine Learning _ Andrew Ng].mp4\"/>animation</video>"
   ]
  },
  {
   "cell_type": "markdown",
   "id": "493ac50f",
   "metadata": {},
   "source": [
    "## Support Vector Machines - The mathematics behine large Margin classification"
   ]
  },
  {
   "cell_type": "markdown",
   "id": "0a75c9a3",
   "metadata": {},
   "source": [
    "<video controls src=\"video/Lecture 12.3 — Support Vector Machines _ Mathematics Behind Large Margin Classification (Optional).mp4\"/>animation</video>"
   ]
  },
  {
   "cell_type": "markdown",
   "id": "fc78de5c",
   "metadata": {},
   "source": [
    "## Support Vector Machines - Kernels I"
   ]
  },
  {
   "cell_type": "markdown",
   "id": "bb620850",
   "metadata": {},
   "source": [
    "<video controls src=\"video/Lecture 12.4 — Support Vector Machines _ (Kernels-I) — [ Machine Learning _ Andrew Ng].mp4\"/>animation</video>"
   ]
  },
  {
   "cell_type": "markdown",
   "id": "e6382775",
   "metadata": {},
   "source": [
    "## Support Vector Machines - Kernels II"
   ]
  },
  {
   "cell_type": "markdown",
   "id": "51e077ae",
   "metadata": {},
   "source": [
    "<video controls src=\"video/Lecture 12.5 — Support Vector Machines _ (Kernels-II) — [Machine Learning _ Andrew Ng].mp4\"/>animation</video>"
   ]
  },
  {
   "cell_type": "markdown",
   "id": "d97a02ce",
   "metadata": {},
   "source": [
    "## Support Vector Machines - Using an SVM"
   ]
  },
  {
   "cell_type": "markdown",
   "id": "f8fccab2",
   "metadata": {},
   "source": [
    "<video controls src=\"video/Lecture 12.6 — Support Vector Machines _ Using An SVM — [ Machine Learning _ Andrew Ng].mp4\"/>animation</video>"
   ]
  },
  {
   "cell_type": "markdown",
   "id": "70b57004",
   "metadata": {},
   "source": [
    "## Clustering - Unsupervised learning introduction"
   ]
  },
  {
   "cell_type": "markdown",
   "id": "8c45b608",
   "metadata": {},
   "source": [
    "<video controls src=\"video/Lecture 13.1 —  Clustering _ Unsupervised Learning _ Introduction — [ Andrew Ng ].mp4\"/>animation</video>"
   ]
  },
  {
   "cell_type": "markdown",
   "id": "b33f3e46",
   "metadata": {},
   "source": [
    "## Clustering - K-means algorithm"
   ]
  },
  {
   "cell_type": "markdown",
   "id": "2ab8da73",
   "metadata": {},
   "source": [
    "<video controls src=\"video/Lecture 13.2 —  Clustering _ KMeans Algorithm — [ Machine Learning _ Andrew Ng ].mp4\"/>animation</video>"
   ]
  },
  {
   "cell_type": "markdown",
   "id": "452ff75c",
   "metadata": {},
   "source": [
    "## Clustering - Optimization objective"
   ]
  },
  {
   "cell_type": "markdown",
   "id": "c834ed11",
   "metadata": {},
   "source": [
    "<video controls src=\"video/Lecture 13.3 —  Clustering _ Optimization Objective — [ Machine Learning _ Andrew Ng ].mp4\"/>animation</video>"
   ]
  },
  {
   "cell_type": "markdown",
   "id": "a89b284d",
   "metadata": {},
   "source": [
    "## Clustering - Random initialization"
   ]
  },
  {
   "cell_type": "markdown",
   "id": "2e22aaca",
   "metadata": {},
   "source": [
    "<video controls src=\"video/Lecture 13.4 —  Clustering _ Random Initialization — [ Machine Learning _ Andrew Ng ].mp4\"/>animation</video>"
   ]
  },
  {
   "cell_type": "markdown",
   "id": "ef50f82d",
   "metadata": {},
   "source": [
    "## Clustering - Choosing the number of clusters"
   ]
  },
  {
   "cell_type": "markdown",
   "id": "6a9052ff",
   "metadata": {},
   "source": [
    "<video controls src=\"video/Lecture 13.5 —  Clustering _ Choosing The Number Of Clusters — [ Machine Learning _ Andrew Ng ].mp4\"/>animation</video>"
   ]
  },
  {
   "cell_type": "markdown",
   "id": "f040ba92",
   "metadata": {},
   "source": [
    "## Dimensionality Reduction - Motivation I: Data Compression"
   ]
  },
  {
   "cell_type": "markdown",
   "id": "4b7a6291",
   "metadata": {},
   "source": [
    "<video controls src=\"video/Lecture 14.1 — Dimensionality Reduction Motivation I _ Data Compression — [ Andrew Ng ].mp4\"/>animation</video>"
   ]
  },
  {
   "cell_type": "markdown",
   "id": "8dd8570f",
   "metadata": {},
   "source": [
    "## Dimensionality Reduction - Motivation II: Data Visualization"
   ]
  },
  {
   "cell_type": "markdown",
   "id": "c4aa695d",
   "metadata": {},
   "source": [
    "<video controls src=\"video/Lecture 14.2 —Dimensionality Reduction Motivation II  _ Visualization — [ Andrew Ng ].mp4\"/>animation</video>"
   ]
  },
  {
   "cell_type": "markdown",
   "id": "053b6feb",
   "metadata": {},
   "source": [
    "## Dimensionality Reduction - Principal Component Analysis problem formulation"
   ]
  },
  {
   "cell_type": "markdown",
   "id": "aa617d7e",
   "metadata": {},
   "source": [
    "<video controls src=\"video/Lecture 14.3 — Dimensionality Reduction _ Principal Component Analysis _ Problem Formulation.mp4\"/>animation</video>"
   ]
  },
  {
   "cell_type": "markdown",
   "id": "def18dc9",
   "metadata": {},
   "source": [
    "## Dimensionality Reduction - Principal Component Analysis algorithm"
   ]
  },
  {
   "cell_type": "markdown",
   "id": "27480399",
   "metadata": {},
   "source": [
    "<video controls src=\"video/Lecture 14.4 —  Dimensionality Reduction _ Principal Component Analysis Algorithm — [ Andrew Ng ].mp4\"/>animation</video>"
   ]
  },
  {
   "cell_type": "markdown",
   "id": "37593ec9",
   "metadata": {},
   "source": [
    "## Dimensionality Reduction - Choosing the number of principal components"
   ]
  },
  {
   "cell_type": "markdown",
   "id": "eaf3fdb8",
   "metadata": {},
   "source": [
    "<video controls src=\"video/Lecture 14.5 — Dimensionality Reduction _ Choosing The Number Of Principal Components.mp4\"/>animation</video>"
   ]
  },
  {
   "cell_type": "markdown",
   "id": "a2f70edf",
   "metadata": {},
   "source": [
    "## Dimensionality Reduction - Reconstruction from compressed representation"
   ]
  },
  {
   "cell_type": "markdown",
   "id": "ee6d5325",
   "metadata": {},
   "source": [
    "<video controls src=\"video/Lecture 14.6 — Dimensionality Reduction _ Reconstruction From Compressed Representation.mp4\"/>animation</video>"
   ]
  },
  {
   "cell_type": "markdown",
   "id": "9c1dd56e",
   "metadata": {},
   "source": [
    "## Dimensionality Reduction - Advice for applying PCA"
   ]
  },
  {
   "cell_type": "markdown",
   "id": "17b53494",
   "metadata": {},
   "source": [
    "<video controls src=\"video/Lecture 14.7 — Dimensionality Reduction _ Advice For Applying PCA — [ Machine Learning _ Andrew Ng ].mp4\"/>animation</video>"
   ]
  },
  {
   "cell_type": "markdown",
   "id": "1d4e917f",
   "metadata": {},
   "source": [
    "## Anomaly detection - Problem motivation"
   ]
  },
  {
   "cell_type": "markdown",
   "id": "371247aa",
   "metadata": {},
   "source": [
    "<video controls src=\"video/Lecture 15.1 — Anomaly Detection Problem _ Motivation  — [ Machine Learning _ Andrew Ng ].mp4\"/>animation</video>"
   ]
  },
  {
   "cell_type": "markdown",
   "id": "fd062747",
   "metadata": {},
   "source": [
    "## Anomaly detection - Gaussian distribution"
   ]
  },
  {
   "cell_type": "markdown",
   "id": "fce872ed",
   "metadata": {},
   "source": [
    "<video controls src=\"video/Lecture 15.2 — Anomaly Detection _ Gaussian Distribution — [ Machine Learning _ Andrew Ng ].mp4\"/>animation</video>"
   ]
  },
  {
   "cell_type": "markdown",
   "id": "b00a2b1a",
   "metadata": {},
   "source": [
    "## Anomaly detection - Algorithm"
   ]
  },
  {
   "cell_type": "markdown",
   "id": "7bd861fa",
   "metadata": {},
   "source": [
    "<video controls src=\"video/Lecture 15.3 — Anomaly Detection Algorithm — [ Machine Learning _ Andrew Ng _ Stanford University ].mp4\"/>animation</video>"
   ]
  },
  {
   "cell_type": "markdown",
   "id": "71790e68",
   "metadata": {},
   "source": [
    "## Anomaly detection - Developing and evaluating an anomaly detection system"
   ]
  },
  {
   "cell_type": "markdown",
   "id": "bc41c537",
   "metadata": {},
   "source": [
    "<video controls src=\"video/Lecture 15.4 — Anomaly Detection _ Developing And Evaluating An Anomaly Detection System.mp4\"/>animation</video>"
   ]
  },
  {
   "cell_type": "markdown",
   "id": "c72c401a",
   "metadata": {},
   "source": [
    "## Anomaly detection - Anomaly detection vs. supervised learning"
   ]
  },
  {
   "cell_type": "markdown",
   "id": "659d1891",
   "metadata": {},
   "source": [
    "<video controls src=\"video/Lecture 15.5 — Anomaly Detection _ Anomaly Detection Vs Supervised Learning — [ Andrew Ng ].mp4\"/>animation</video>"
   ]
  },
  {
   "cell_type": "markdown",
   "id": "731ea45c",
   "metadata": {},
   "source": [
    "## Anomaly detection - Choosing what features to use"
   ]
  },
  {
   "cell_type": "markdown",
   "id": "13d10860",
   "metadata": {},
   "source": [
    "<video controls src=\"video/Lecture 15.6 — Anomaly Detection _ Choosing What Features To Use — [ Andrew Ng ].mp4\"/>animation</video>"
   ]
  },
  {
   "cell_type": "markdown",
   "id": "63af4e57",
   "metadata": {},
   "source": [
    "## Anomaly detection - Multivariate Gaussion distribution"
   ]
  },
  {
   "cell_type": "markdown",
   "id": "48793a33",
   "metadata": {},
   "source": [
    "<video controls src=\"video/Lecture 15.7 — Anomaly Detection _ Multivariate Gaussian Distribution — [ Andrew Ng ].mp4\"/>animation</video>"
   ]
  },
  {
   "cell_type": "markdown",
   "id": "c3ed0520",
   "metadata": {},
   "source": [
    "## Anomaly detection - Anomaly detection using the multivariate Gaussian distribution"
   ]
  },
  {
   "cell_type": "markdown",
   "id": "b9024e9b",
   "metadata": {},
   "source": [
    "<video controls src=\"video/Lecture 15.8 — Anomaly Detection _ Anomaly Detection Using The Multivariate Gaussian Distribution.mp4\"/>animation</video>"
   ]
  },
  {
   "cell_type": "markdown",
   "id": "3c41bdf3",
   "metadata": {},
   "source": [
    "## Recommender Systems - Problem formulation"
   ]
  },
  {
   "cell_type": "markdown",
   "id": "2ba523c0",
   "metadata": {},
   "source": [
    "<video controls src=\"video/Lecture 16.1 —  Recommender Systems _ Problem Formulation — [ Machine Learning _ Andrew Ng ].mp4\"/>animation</video>"
   ]
  },
  {
   "cell_type": "markdown",
   "id": "c0f3cd87",
   "metadata": {},
   "source": [
    "## Recommender Systems - Content-based recommendations"
   ]
  },
  {
   "cell_type": "markdown",
   "id": "4a0cd134",
   "metadata": {},
   "source": [
    "<video controls src=\"video/Lecture 16.2 —  Recommender Systems _ Content Based Recommendations — [ Andrew Ng ].mp4\"/>animation</video>"
   ]
  },
  {
   "cell_type": "markdown",
   "id": "14f68717",
   "metadata": {},
   "source": [
    "## Recommender Systems - Collaborative filtering"
   ]
  },
  {
   "cell_type": "markdown",
   "id": "00541197",
   "metadata": {},
   "source": [
    "<video controls src=\"video/Lecture 16.3 —  Recommender Systems _ Collaborative Filtering — [ Machine Learning _ Andrew Ng ].mp4\"/>animation</video>"
   ]
  },
  {
   "cell_type": "markdown",
   "id": "84238f05",
   "metadata": {},
   "source": [
    "## Recommender Systems - Collaborative filtering algorithm"
   ]
  },
  {
   "cell_type": "markdown",
   "id": "b4dd3206",
   "metadata": {},
   "source": [
    "<video controls src=\"video/Lecture 16.4 —  Recommender Systems _ Collaborative Filtering Algorithm — [ Andrew Ng ].mp4\"/>animation</video>"
   ]
  },
  {
   "cell_type": "markdown",
   "id": "f0289527",
   "metadata": {},
   "source": [
    "## Recommender Systems - Vectorization: Low rank matrix factorization"
   ]
  },
  {
   "cell_type": "markdown",
   "id": "cb197cb5",
   "metadata": {},
   "source": [
    "<video controls src=\"video/Lecture 16.5 —  Recommender Systems _ Vectorization Low Rank Matrix Factorization — [ Andrew Ng ].mp4\"/>animation</video>"
   ]
  },
  {
   "cell_type": "markdown",
   "id": "de7c243a",
   "metadata": {},
   "source": [
    "## Recommender Systems - Implementational detail: Mean normalization"
   ]
  },
  {
   "cell_type": "markdown",
   "id": "3a93ec5f",
   "metadata": {},
   "source": [
    "<video controls src=\"video/Lecture 16.6 —  Recommender Systems _ Implementational Detail Mean Normalization — [ Andrew Ng ].mp4\"/>animation</video>"
   ]
  },
  {
   "cell_type": "markdown",
   "id": "32e44466",
   "metadata": {},
   "source": [
    "## Large scale machine learning - Learning with large detasets"
   ]
  },
  {
   "cell_type": "markdown",
   "id": "0ea88f03",
   "metadata": {},
   "source": [
    "<video controls src=\"video/Lecture 17.1 — Large Scale Machine Learning _ Learning With Large Datasets — [ Andrew Ng ].mp4\"/>animation</video>"
   ]
  },
  {
   "cell_type": "markdown",
   "id": "c1f9b62f",
   "metadata": {},
   "source": [
    "## Large scale machine learning - Stochastic gradient descent"
   ]
  },
  {
   "cell_type": "markdown",
   "id": "d6805341",
   "metadata": {},
   "source": [
    "<video controls src=\"video/Lecture 17.2 — Large Scale Machine Learning _ Stochastic Gradient Descent — [ Andrew Ng ].mp4\"/>animation</video>"
   ]
  },
  {
   "cell_type": "markdown",
   "id": "b0e9f3fa",
   "metadata": {},
   "source": [
    "## Large scale machine learning - Mini-batch gradient descent"
   ]
  },
  {
   "cell_type": "markdown",
   "id": "a5d58c60",
   "metadata": {},
   "source": [
    "<video controls src=\"video/Lecture 17.3 — Large Scale Machine Learning _ Mini Batch Gradient Descent — [ Andrew Ng ].mp4\"/>animation</video>"
   ]
  },
  {
   "cell_type": "markdown",
   "id": "36e7da1b",
   "metadata": {},
   "source": [
    "## Large scale machine learning - Stochastic gradient descent convergence"
   ]
  },
  {
   "cell_type": "markdown",
   "id": "f812a08e",
   "metadata": {},
   "source": [
    "<video controls src=\"video/Lecture 17.4 — Large Scale Machine Learning _ Stochastic Gradient Descent Convergence.mp4\"/>animation</video>"
   ]
  },
  {
   "cell_type": "markdown",
   "id": "2ef3ae71",
   "metadata": {},
   "source": [
    "## Large scale machine learning - Online learning"
   ]
  },
  {
   "cell_type": "markdown",
   "id": "a1d67032",
   "metadata": {},
   "source": [
    "<video controls src=\"video/Lecture 17.5 — Large Scale Machine Learning _ Online Learning — [ Machine Learning _ Andrew Ng ].mp4\"/>animation</video>"
   ]
  },
  {
   "cell_type": "markdown",
   "id": "83ac52a4",
   "metadata": {},
   "source": [
    "## Large scale machine learning - Map-reduce and data parallelism"
   ]
  },
  {
   "cell_type": "markdown",
   "id": "98b4b6b4",
   "metadata": {},
   "source": [
    "<video controls src=\"video/Lecture 17.6 — Large Scale Machine Learning _ Map Reduce And Data Parallelism — [ Andrew Ng ].mp4\"/>animation</video>"
   ]
  },
  {
   "cell_type": "markdown",
   "id": "0d62c87a",
   "metadata": {},
   "source": [
    "## Application example: Photo OCR - Problem description and pipeline"
   ]
  },
  {
   "cell_type": "markdown",
   "id": "18d20701",
   "metadata": {},
   "source": [
    "<video controls src=\"video/Lecture 18.1 — Application Example Photo OCR _ Problem Description And Pipeline — [ Andrew Ng ].mp4\"/>animation</video>"
   ]
  },
  {
   "cell_type": "markdown",
   "id": "f303893b",
   "metadata": {},
   "source": [
    "## Application example: Photo OCR - Sliding windows"
   ]
  },
  {
   "cell_type": "markdown",
   "id": "74ed11b4",
   "metadata": {},
   "source": [
    "<video controls src=\"video/Lecture 18.2 — Application Example Photo OCR _ Sliding Windows — [ Machine Learning _ Andrew Ng ].mp4\"/>animation</video>"
   ]
  },
  {
   "cell_type": "markdown",
   "id": "74772b69",
   "metadata": {},
   "source": [
    "## Application example: Photo OCR - Getting lots of data: Artificial data synthesis"
   ]
  },
  {
   "cell_type": "markdown",
   "id": "4c984038",
   "metadata": {},
   "source": [
    "<video controls src=\"video/Lecture 18.3 — Application Example Photo OCR _ Getting Lots Of Data Artificial Data Synthesis.mp4\"/>animation</video>"
   ]
  },
  {
   "cell_type": "markdown",
   "id": "4db8e012",
   "metadata": {},
   "source": [
    "## Application example: Photo OCR - Ceiling synthesis: What part of the pipeline to work on next"
   ]
  },
  {
   "cell_type": "markdown",
   "id": "3c2c76f2",
   "metadata": {},
   "source": [
    "<video controls src=\"video/Lecture 18.4 — Application Example Photo OCR _ Ceiling Analysis _ What Part to Work On Next.mp4\"/>animation</video>"
   ]
  },
  {
   "cell_type": "markdown",
   "id": "6e656111",
   "metadata": {},
   "source": [
    "## Conclusion - Summary and Thank you"
   ]
  },
  {
   "cell_type": "markdown",
   "id": "d22270c3",
   "metadata": {},
   "source": [
    "<video controls src=\"video/Lecture 19 — Conclusion Summary And ThankYou — [ Andrew Ng _ Stanford University ].mp4\"/>animation</video>"
   ]
  }
 ],
 "metadata": {
  "kernelspec": {
   "display_name": "Python 3",
   "language": "python",
   "name": "python3"
  },
  "language_info": {
   "codemirror_mode": {
    "name": "ipython",
    "version": 3
   },
   "file_extension": ".py",
   "mimetype": "text/x-python",
   "name": "python",
   "nbconvert_exporter": "python",
   "pygments_lexer": "ipython3",
   "version": "3.8.0"
  },
  "toc": {
   "base_numbering": 1,
   "nav_menu": {},
   "number_sections": true,
   "sideBar": true,
   "skip_h1_title": false,
   "title_cell": "Table of Contents",
   "title_sidebar": "Contents",
   "toc_cell": false,
   "toc_position": {
    "height": "calc(100% - 180px)",
    "left": "10px",
    "top": "150px",
    "width": "763.477px"
   },
   "toc_section_display": true,
   "toc_window_display": true
  }
 },
 "nbformat": 4,
 "nbformat_minor": 5
}
