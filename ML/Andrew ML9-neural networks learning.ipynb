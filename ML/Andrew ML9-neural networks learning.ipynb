{
 "cells": [
  {
   "cell_type": "markdown",
   "metadata": {
    "toc": true
   },
   "source": [
    "<h1>Table of Contents<span class=\"tocSkip\"></span></h1>\n",
    "<div class=\"toc\"><ul class=\"toc-item\"><li><span><a href=\"#Cost-function\" data-toc-modified-id=\"Cost-function-1\"><span class=\"toc-item-num\">1&nbsp;&nbsp;</span>Cost function</a></span></li><li><span><a href=\"#Backpropagation-algorithm\" data-toc-modified-id=\"Backpropagation-algorithm-2\"><span class=\"toc-item-num\">2&nbsp;&nbsp;</span>Backpropagation algorithm</a></span></li><li><span><a href=\"#Backpropagation-intuition\" data-toc-modified-id=\"Backpropagation-intuition-3\"><span class=\"toc-item-num\">3&nbsp;&nbsp;</span>Backpropagation intuition</a></span></li><li><span><a href=\"#Implementation-note:-Unrolling-parameters\" data-toc-modified-id=\"Implementation-note:-Unrolling-parameters-4\"><span class=\"toc-item-num\">4&nbsp;&nbsp;</span>Implementation note: Unrolling parameters</a></span></li><li><span><a href=\"#Gradient-checking\" data-toc-modified-id=\"Gradient-checking-5\"><span class=\"toc-item-num\">5&nbsp;&nbsp;</span>Gradient checking</a></span></li><li><span><a href=\"#Random-initialization\" data-toc-modified-id=\"Random-initialization-6\"><span class=\"toc-item-num\">6&nbsp;&nbsp;</span>Random initialization</a></span></li><li><span><a href=\"#Putting-it-together\" data-toc-modified-id=\"Putting-it-together-7\"><span class=\"toc-item-num\">7&nbsp;&nbsp;</span>Putting it together</a></span></li><li><span><a href=\"#Autonomous-driving-example\" data-toc-modified-id=\"Autonomous-driving-example-8\"><span class=\"toc-item-num\">8&nbsp;&nbsp;</span>Autonomous driving example</a></span></li></ul></div>"
   ]
  },
  {
   "cell_type": "markdown",
   "metadata": {},
   "source": [
    "# Cost function"
   ]
  },
  {
   "cell_type": "markdown",
   "metadata": {},
   "source": [
    "<video controls src=\"video/Lecture 9.1 — Neural Networks Learning _ Cost Function — [ Machine Learning _ Andrew Ng].mp4\"/>animation</video>"
   ]
  },
  {
   "cell_type": "markdown",
   "metadata": {},
   "source": [
    "# Backpropagation algorithm"
   ]
  },
  {
   "cell_type": "markdown",
   "metadata": {},
   "source": [
    "<video controls src=\"video/Lecture 9.2 — Neural Networks Learning _ Backpropagation Algorithm — [ Machine Learning _ Andrew Ng].mp4\"/>animation</video>"
   ]
  },
  {
   "cell_type": "markdown",
   "metadata": {},
   "source": [
    "# Backpropagation intuition"
   ]
  },
  {
   "cell_type": "markdown",
   "metadata": {},
   "source": [
    "<video controls src=\"video/Lecture 9.3 — Neural Networks Learning _ Backpropagation Intuition — [ Machine Learning _ Andrew Ng].mp4\"/>animation</video>"
   ]
  },
  {
   "cell_type": "markdown",
   "metadata": {},
   "source": [
    "# Implementation note: Unrolling parameters"
   ]
  },
  {
   "cell_type": "markdown",
   "metadata": {},
   "source": [
    "<video controls src=\"video/Lecture 9.4 — Neural Networks Learning _ Implementation Note Unrolling Parameters — [ Andrew Ng].mp4\"/>animation</video>"
   ]
  },
  {
   "cell_type": "markdown",
   "metadata": {},
   "source": [
    "# Gradient checking"
   ]
  },
  {
   "cell_type": "markdown",
   "metadata": {},
   "source": [
    "<video controls src=\"video/Lecture 9.5 — Neural Networks Learning _ Gradient Checking — [ Machine Learning _ Andrew Ng].mp4\"/>animation</video>"
   ]
  },
  {
   "cell_type": "markdown",
   "metadata": {},
   "source": [
    "# Random initialization"
   ]
  },
  {
   "cell_type": "markdown",
   "metadata": {},
   "source": [
    "<video controls src=\"video/Lecture 9.6 — Neural Networks Learning _ Random Initialization — [ Machine Learning _ Andrew Ng].mp4\"/>animation</video>"
   ]
  },
  {
   "cell_type": "markdown",
   "metadata": {},
   "source": [
    "# Putting it together"
   ]
  },
  {
   "cell_type": "markdown",
   "metadata": {},
   "source": [
    "<video controls src=\"video/Lecture 9.7 — Neural Networks Learning _ Putting It Together — [ Machine Learning _ Andrew Ng].mp4\"/>animation</video>"
   ]
  },
  {
   "cell_type": "markdown",
   "metadata": {},
   "source": [
    "# Autonomous driving example"
   ]
  },
  {
   "cell_type": "markdown",
   "metadata": {},
   "source": [
    "<video controls src=\"video/Lecture 9.8 — Neural Networks Learning _ Autonomous Driving Example — [Andrew Ng].mp4\"/>animation</video>"
   ]
  },
  {
   "cell_type": "code",
   "execution_count": null,
   "metadata": {},
   "outputs": [],
   "source": []
  }
 ],
 "metadata": {
  "kernelspec": {
   "display_name": "Python 3",
   "language": "python",
   "name": "python3"
  },
  "language_info": {
   "codemirror_mode": {
    "name": "ipython",
    "version": 3
   },
   "file_extension": ".py",
   "mimetype": "text/x-python",
   "name": "python",
   "nbconvert_exporter": "python",
   "pygments_lexer": "ipython3",
   "version": "3.8.5"
  },
  "toc": {
   "base_numbering": 1,
   "nav_menu": {},
   "number_sections": true,
   "sideBar": true,
   "skip_h1_title": false,
   "title_cell": "Table of Contents",
   "title_sidebar": "Contents",
   "toc_cell": true,
   "toc_position": {},
   "toc_section_display": true,
   "toc_window_display": true
  }
 },
 "nbformat": 4,
 "nbformat_minor": 4
}
