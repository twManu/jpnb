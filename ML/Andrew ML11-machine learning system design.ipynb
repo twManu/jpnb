{
 "cells": [
  {
   "cell_type": "markdown",
   "id": "3e426024",
   "metadata": {},
   "source": [
    "# Prioritizing what to work on: Spam classification example"
   ]
  },
  {
   "cell_type": "markdown",
   "id": "e173a3a4",
   "metadata": {},
   "source": [
    "<video controls src=\"video/Lecture 11.1 — Machine Learning System Design _ Prioritizing What To Work On — [ Andrew Ng].mp4\"/>animation</video>"
   ]
  },
  {
   "cell_type": "markdown",
   "id": "35a24e36",
   "metadata": {},
   "source": [
    "# Error analysis"
   ]
  },
  {
   "cell_type": "markdown",
   "id": "9fb4db8f",
   "metadata": {},
   "source": [
    "<video controls src=\"video/Lecture 11.2 — Machine Learning System Design _ Error Analysis — [ Machine Learning _ Andrew Ng ].mp4\"/>animation</video>"
   ]
  },
  {
   "cell_type": "markdown",
   "id": "9115ae4b",
   "metadata": {},
   "source": [
    "# Error metrics for skewed classes"
   ]
  },
  {
   "cell_type": "markdown",
   "id": "1315dbd4",
   "metadata": {},
   "source": [
    "<video controls src=\"video/Lecture 11.3 — Machine Learning System Design _ Error Metrics For Skewed Classes — [Andrew Ng].mp4\"/>animation</video>"
   ]
  },
  {
   "cell_type": "markdown",
   "id": "b7a9ded6",
   "metadata": {},
   "source": [
    "# Trading off precision and recall"
   ]
  },
  {
   "cell_type": "markdown",
   "id": "11da6236",
   "metadata": {},
   "source": [
    "<video controls src=\"video/Lecture 11.4 — Machine Learning System Design _ Trading Off Precision And Recall — [Andrew Ng].mp4\"/>animation</video>"
   ]
  },
  {
   "cell_type": "markdown",
   "id": "1df69339",
   "metadata": {},
   "source": [
    "# Data for machine learning"
   ]
  },
  {
   "cell_type": "markdown",
   "id": "b50bd544",
   "metadata": {},
   "source": [
    "<video controls src=\"video/Lecture 11.5 — Machine Learning System Design _ Data For Machine Learning — [Andrew Ng].mp4\"/>animation</video>"
   ]
  }
 ],
 "metadata": {
  "kernelspec": {
   "display_name": "Python 3",
   "language": "python",
   "name": "python3"
  },
  "language_info": {
   "codemirror_mode": {
    "name": "ipython",
    "version": 3
   },
   "file_extension": ".py",
   "mimetype": "text/x-python",
   "name": "python",
   "nbconvert_exporter": "python",
   "pygments_lexer": "ipython3",
   "version": "3.8.0"
  },
  "toc": {
   "base_numbering": 1,
   "nav_menu": {},
   "number_sections": true,
   "sideBar": true,
   "skip_h1_title": false,
   "title_cell": "Table of Contents",
   "title_sidebar": "Contents",
   "toc_cell": false,
   "toc_position": {},
   "toc_section_display": true,
   "toc_window_display": true
  }
 },
 "nbformat": 4,
 "nbformat_minor": 5
}
