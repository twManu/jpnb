{
 "cells": [
  {
   "cell_type": "markdown",
   "id": "8350df5e",
   "metadata": {},
   "source": [
    "# Deciding what to try next"
   ]
  },
  {
   "cell_type": "markdown",
   "id": "db269c52",
   "metadata": {},
   "source": [
    "<video controls src=\"video/Lecture 10.1 — Advice For Applying Machine Learning _ Deciding What To Try Next — [ Andrew Ng].mp4\"/>animation</video>"
   ]
  },
  {
   "cell_type": "markdown",
   "id": "af128e6d",
   "metadata": {},
   "source": [
    "# Evaluating a hypothesis"
   ]
  },
  {
   "cell_type": "markdown",
   "id": "7d89d875",
   "metadata": {},
   "source": [
    "<video controls src=\"video/Lecture 10.2 — Advice For Applying Machine Learning _ Evaluating A Hypothesis — [ Andrew Ng].mp4\"/>animation</video>"
   ]
  },
  {
   "cell_type": "markdown",
   "id": "0ff40a73",
   "metadata": {},
   "source": [
    "# Model selection and training/validation/test sets"
   ]
  },
  {
   "cell_type": "markdown",
   "id": "c620c673",
   "metadata": {},
   "source": [
    "<video controls src=\"video/Lecture 10.3 — Advice For Applying Machine Learning _ Model Selection And Train Validation Test Sets.mp4\"/>animation</video>"
   ]
  },
  {
   "cell_type": "markdown",
   "id": "fec292c2",
   "metadata": {},
   "source": [
    "# Diagnosing bias vs. variance"
   ]
  },
  {
   "cell_type": "markdown",
   "id": "e937584c",
   "metadata": {},
   "source": [
    "<video controls src=\"video/Lecture 10.4 — Advice For Applying Machine Learning _ Diagnosing Bias Vs Variance — [Andrew Ng].mp4\"/>animation</video>"
   ]
  },
  {
   "cell_type": "markdown",
   "id": "05711556",
   "metadata": {},
   "source": [
    "# Regularization and bias/variance"
   ]
  },
  {
   "cell_type": "markdown",
   "id": "2d6f43ff",
   "metadata": {},
   "source": [
    "<video controls src=\"video/Lecture 10.5 — Advice For Applying Machine Learning _ Regularization And Bias Variance — [Andrew Ng].mp4\"/>animation</video>"
   ]
  },
  {
   "cell_type": "markdown",
   "id": "1eb58a6c",
   "metadata": {},
   "source": [
    "# Learning curves"
   ]
  },
  {
   "cell_type": "markdown",
   "id": "4fb4b0cc",
   "metadata": {},
   "source": [
    "<video controls src=\"video/Lecture 10.6 — Advice For Applying Machine Learning _ Learning Curves — [Andrew Ng].mp4\"/>animation</video>"
   ]
  },
  {
   "cell_type": "markdown",
   "id": "84bdf756",
   "metadata": {},
   "source": [
    "# Deciding what to try next (revisited)"
   ]
  },
  {
   "cell_type": "markdown",
   "id": "3a42e67e",
   "metadata": {},
   "source": [
    "<video controls src=\"video/Lecture 10.7 — Advice For Applying Machine Learning _ Deciding What To Do Next (Revisited).mp4\"/>animation</video>"
   ]
  }
 ],
 "metadata": {
  "kernelspec": {
   "display_name": "Python 3",
   "language": "python",
   "name": "python3"
  },
  "language_info": {
   "codemirror_mode": {
    "name": "ipython",
    "version": 3
   },
   "file_extension": ".py",
   "mimetype": "text/x-python",
   "name": "python",
   "nbconvert_exporter": "python",
   "pygments_lexer": "ipython3",
   "version": "3.8.0"
  },
  "toc": {
   "base_numbering": 1,
   "nav_menu": {},
   "number_sections": true,
   "sideBar": true,
   "skip_h1_title": false,
   "title_cell": "Table of Contents",
   "title_sidebar": "Contents",
   "toc_cell": false,
   "toc_position": {},
   "toc_section_display": true,
   "toc_window_display": true
  }
 },
 "nbformat": 4,
 "nbformat_minor": 5
}
