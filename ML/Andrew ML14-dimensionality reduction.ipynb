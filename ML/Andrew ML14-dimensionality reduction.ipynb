{
 "cells": [
  {
   "cell_type": "markdown",
   "id": "5228d23a",
   "metadata": {},
   "source": [
    "# Motivation I: Data Compression"
   ]
  },
  {
   "cell_type": "markdown",
   "id": "9a2af468",
   "metadata": {},
   "source": [
    "<video controls src=\"video/Lecture 14.1 — Dimensionality Reduction Motivation I _ Data Compression — [ Andrew Ng ].mp4\"/>animation</video>"
   ]
  },
  {
   "cell_type": "markdown",
   "id": "6db80a53",
   "metadata": {},
   "source": [
    "# Motivation II: Data Visualization"
   ]
  },
  {
   "cell_type": "markdown",
   "id": "51cd5882",
   "metadata": {},
   "source": [
    "<video controls src=\"video/Lecture 14.2 —Dimensionality Reduction Motivation II  _ Visualization — [ Andrew Ng ].mp4\"/>animation</video>"
   ]
  },
  {
   "cell_type": "markdown",
   "id": "11c31b92",
   "metadata": {},
   "source": [
    "# Principal Component Analysis problem formulation"
   ]
  },
  {
   "cell_type": "markdown",
   "id": "cf488157",
   "metadata": {},
   "source": [
    "<video controls src=\"video/Lecture 14.3 — Dimensionality Reduction _ Principal Component Analysis _ Problem Formulation.mp4\"/>animation</video>"
   ]
  },
  {
   "cell_type": "markdown",
   "id": "f3b68c83",
   "metadata": {},
   "source": [
    "# Principal Component Analysis algorithm"
   ]
  },
  {
   "cell_type": "markdown",
   "id": "9571efa4",
   "metadata": {},
   "source": [
    "<video controls src=\"video/Lecture 14.4 —  Dimensionality Reduction _ Principal Component Analysis Algorithm — [ Andrew Ng ].mp4\"/>animation</video>"
   ]
  },
  {
   "cell_type": "markdown",
   "id": "75e321fe",
   "metadata": {},
   "source": [
    "# Choosing the number of principal components"
   ]
  },
  {
   "cell_type": "markdown",
   "id": "dadb8744",
   "metadata": {},
   "source": [
    "<video controls src=\"video/Lecture 14.5 — Dimensionality Reduction _ Choosing The Number Of Principal Components.mp4\"/>animation</video>"
   ]
  },
  {
   "cell_type": "markdown",
   "id": "1d34a16e",
   "metadata": {},
   "source": [
    "# Reconstruction from compressed representation"
   ]
  },
  {
   "cell_type": "markdown",
   "id": "9eb916d1",
   "metadata": {},
   "source": [
    "<video controls src=\"video/Lecture 14.6 — Dimensionality Reduction _ Reconstruction From Compressed Representation.mp4\"/>animation</video>"
   ]
  },
  {
   "cell_type": "markdown",
   "id": "eb22657c",
   "metadata": {},
   "source": [
    "# Advice for applying PCA"
   ]
  },
  {
   "cell_type": "markdown",
   "id": "07a0352f",
   "metadata": {},
   "source": [
    "<video controls src=\"video/Lecture 14.7 — Dimensionality Reduction _ Advice For Applying PCA — [ Machine Learning _ Andrew Ng ].mp4\"/>animation</video>"
   ]
  }
 ],
 "metadata": {
  "kernelspec": {
   "display_name": "Python 3",
   "language": "python",
   "name": "python3"
  },
  "language_info": {
   "codemirror_mode": {
    "name": "ipython",
    "version": 3
   },
   "file_extension": ".py",
   "mimetype": "text/x-python",
   "name": "python",
   "nbconvert_exporter": "python",
   "pygments_lexer": "ipython3",
   "version": "3.8.0"
  },
  "toc": {
   "base_numbering": 1,
   "nav_menu": {},
   "number_sections": true,
   "sideBar": true,
   "skip_h1_title": false,
   "title_cell": "Table of Contents",
   "title_sidebar": "Contents",
   "toc_cell": false,
   "toc_position": {},
   "toc_section_display": true,
   "toc_window_display": true
  }
 },
 "nbformat": 4,
 "nbformat_minor": 5
}
