{
 "cells": [
  {
   "cell_type": "markdown",
   "metadata": {
    "toc": true
   },
   "source": [
    "<h1>Table of Contents<span class=\"tocSkip\"></span></h1>\n",
    "<div class=\"toc\"><ul class=\"toc-item\"><li><span><a href=\"#Non-linear-hypotheses\" data-toc-modified-id=\"Non-linear-hypotheses-1\"><span class=\"toc-item-num\">1&nbsp;&nbsp;</span>Non-linear hypotheses</a></span></li><li><span><a href=\"#Neurons-and-the-brain\" data-toc-modified-id=\"Neurons-and-the-brain-2\"><span class=\"toc-item-num\">2&nbsp;&nbsp;</span>Neurons and the brain</a></span></li><li><span><a href=\"#Model-representation-I\" data-toc-modified-id=\"Model-representation-I-3\"><span class=\"toc-item-num\">3&nbsp;&nbsp;</span>Model representation I</a></span><ul class=\"toc-item\"><li><span><a href=\"#Logistic-Unit\" data-toc-modified-id=\"Logistic-Unit-3.1\"><span class=\"toc-item-num\">3.1&nbsp;&nbsp;</span>Logistic Unit</a></span></li><li><span><a href=\"#Neural-Network\" data-toc-modified-id=\"Neural-Network-3.2\"><span class=\"toc-item-num\">3.2&nbsp;&nbsp;</span>Neural Network</a></span></li></ul></li><li><span><a href=\"#Model-representation-II\" data-toc-modified-id=\"Model-representation-II-4\"><span class=\"toc-item-num\">4&nbsp;&nbsp;</span>Model representation II</a></span><ul class=\"toc-item\"><li><span><a href=\"#forward-propagation\" data-toc-modified-id=\"forward-propagation-4.1\"><span class=\"toc-item-num\">4.1&nbsp;&nbsp;</span>forward propagation</a></span></li><li><span><a href=\"#Logistic-Model\" data-toc-modified-id=\"Logistic-Model-4.2\"><span class=\"toc-item-num\">4.2&nbsp;&nbsp;</span>Logistic Model</a></span></li></ul></li><li><span><a href=\"#Examples-and-intuitions-I\" data-toc-modified-id=\"Examples-and-intuitions-I-5\"><span class=\"toc-item-num\">5&nbsp;&nbsp;</span>Examples and intuitions I</a></span><ul class=\"toc-item\"><li><span><a href=\"#example-AND\" data-toc-modified-id=\"example-AND-5.1\"><span class=\"toc-item-num\">5.1&nbsp;&nbsp;</span>example AND</a></span></li><li><span><a href=\"#example-OR\" data-toc-modified-id=\"example-OR-5.2\"><span class=\"toc-item-num\">5.2&nbsp;&nbsp;</span>example OR</a></span></li></ul></li><li><span><a href=\"#Examples-and-intuitions-II\" data-toc-modified-id=\"Examples-and-intuitions-II-6\"><span class=\"toc-item-num\">6&nbsp;&nbsp;</span>Examples and intuitions II</a></span><ul class=\"toc-item\"><li><span><a href=\"#example-Negate\" data-toc-modified-id=\"example-Negate-6.1\"><span class=\"toc-item-num\">6.1&nbsp;&nbsp;</span>example Negate</a></span></li><li><span><a href=\"#example-XNOR\" data-toc-modified-id=\"example-XNOR-6.2\"><span class=\"toc-item-num\">6.2&nbsp;&nbsp;</span>example XNOR</a></span></li></ul></li><li><span><a href=\"#Multi-class-classification\" data-toc-modified-id=\"Multi-class-classification-7\"><span class=\"toc-item-num\">7&nbsp;&nbsp;</span>Multi-class classification</a></span><ul class=\"toc-item\"><li><span><a href=\"#example-one-vs-all\" data-toc-modified-id=\"example-one-vs-all-7.1\"><span class=\"toc-item-num\">7.1&nbsp;&nbsp;</span>example one vs all</a></span></li><li><span><a href=\"#example-one-vs-all-reform\" data-toc-modified-id=\"example-one-vs-all-reform-7.2\"><span class=\"toc-item-num\">7.2&nbsp;&nbsp;</span>example one vs all reform</a></span></li></ul></li></ul></div>"
   ]
  },
  {
   "cell_type": "markdown",
   "metadata": {},
   "source": [
    "# Non-linear hypotheses"
   ]
  },
  {
   "cell_type": "markdown",
   "metadata": {},
   "source": [
    "<video controls src=\"video/Lecture 8.1 — Neural Networks Representation _ Non Linear Hypotheses — [Andrew Ng].mp4\"/>animation</video>"
   ]
  },
  {
   "cell_type": "markdown",
   "metadata": {},
   "source": [
    "# Neurons and the brain"
   ]
  },
  {
   "cell_type": "markdown",
   "metadata": {},
   "source": [
    "<video controls src=\"video/Lecture 8.2 — Neural Networks Representation _ Neurons And The Brain — [Andrew Ng].mp4\"/>animation</video>"
   ]
  },
  {
   "cell_type": "markdown",
   "metadata": {},
   "source": [
    "# Model representation I"
   ]
  },
  {
   "cell_type": "markdown",
   "metadata": {},
   "source": [
    "<video controls src=\"video/Lecture 8.3 — Neural Networks Representation _ Model Representation-I — [ Andrew Ng ].mp4\"/>animation</video>"
   ]
  },
  {
   "cell_type": "markdown",
   "metadata": {},
   "source": [
    "## Logistic Unit\n",
    "![title](pic/LogisticUnit.png)"
   ]
  },
  {
   "cell_type": "markdown",
   "metadata": {},
   "source": [
    "## Neural Network\n",
    "- 如果第 j 層有 S_j 個點, matrix_j 為 S_(j+1) x (Sj+1)\n",
    "![title](pic/NeuralNetwork.png)"
   ]
  },
  {
   "cell_type": "markdown",
   "metadata": {},
   "source": [
    "# Model representation II"
   ]
  },
  {
   "cell_type": "markdown",
   "metadata": {},
   "source": [
    "<video controls src=\"video/Lecture 8.4 — Neural Networks Representation _ Model Representation-II — [Andrew Ng].mp4\"/>animation</video>"
   ]
  },
  {
   "cell_type": "markdown",
   "metadata": {},
   "source": [
    "## forward propagation\n",
    "- 令 a(1) 為 input\n",
    "- 補各層 bias a[:, 0] = 1\n",
    "![title](pic/ForwardPropagation.png)"
   ]
  },
  {
   "cell_type": "markdown",
   "metadata": {},
   "source": [
    "## Logistic Model\n",
    "![title](pic/NNisLogRinLayers.png)"
   ]
  },
  {
   "cell_type": "markdown",
   "metadata": {},
   "source": [
    "# Examples and intuitions I"
   ]
  },
  {
   "cell_type": "markdown",
   "metadata": {},
   "source": [
    "<video controls src=\"video/Lecture 8.5 — Neural Networks Representation _ Examples And Intuitions-I — [ Andrew Ng].mp4\"/>animation</video>"
   ]
  },
  {
   "cell_type": "markdown",
   "metadata": {},
   "source": [
    "## example AND\n",
    "![title](pic/exampleAND.png)"
   ]
  },
  {
   "cell_type": "markdown",
   "metadata": {},
   "source": [
    "## example OR\n",
    "![title](pic/exampleOR.png)"
   ]
  },
  {
   "cell_type": "markdown",
   "metadata": {},
   "source": [
    "# Examples and intuitions II"
   ]
  },
  {
   "cell_type": "markdown",
   "metadata": {},
   "source": [
    "<video controls src=\"video/Lecture 8.6 — Neural Networks Representation _ Examples And Intuitions-II — [ Andrew Ng].mp4\"/>animation</video>"
   ]
  },
  {
   "cell_type": "markdown",
   "metadata": {},
   "source": [
    "## example Negate\n",
    "![title](pic/exampleNegate.png)"
   ]
  },
  {
   "cell_type": "markdown",
   "metadata": {},
   "source": [
    "## example XNOR\n",
    "![title](pic/exampleXNOR.png)"
   ]
  },
  {
   "cell_type": "markdown",
   "metadata": {},
   "source": [
    "# Multi-class classification"
   ]
  },
  {
   "cell_type": "markdown",
   "metadata": {},
   "source": [
    "<video controls src=\"video/Lecture 8.7 — Neural Networks Representation _ MultiClass Classification — [Andrew Ng].mp4\"/>animation</video>"
   ]
  },
  {
   "cell_type": "markdown",
   "metadata": {},
   "source": [
    "## example one vs all\n",
    "![title](pic/NNmultiClass.png)"
   ]
  },
  {
   "cell_type": "markdown",
   "metadata": {},
   "source": [
    "## example one vs all reform\n",
    "![title](pic/NNmultiClassReform.png)"
   ]
  },
  {
   "cell_type": "code",
   "execution_count": null,
   "metadata": {},
   "outputs": [],
   "source": []
  }
 ],
 "metadata": {
  "kernelspec": {
   "display_name": "Python 3",
   "language": "python",
   "name": "python3"
  },
  "language_info": {
   "codemirror_mode": {
    "name": "ipython",
    "version": 3
   },
   "file_extension": ".py",
   "mimetype": "text/x-python",
   "name": "python",
   "nbconvert_exporter": "python",
   "pygments_lexer": "ipython3",
   "version": "3.8.0"
  },
  "toc": {
   "base_numbering": 1,
   "nav_menu": {},
   "number_sections": true,
   "sideBar": true,
   "skip_h1_title": false,
   "title_cell": "Table of Contents",
   "title_sidebar": "Contents",
   "toc_cell": true,
   "toc_position": {},
   "toc_section_display": true,
   "toc_window_display": true
  }
 },
 "nbformat": 4,
 "nbformat_minor": 4
}
