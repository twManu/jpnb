{
 "cells": [
  {
   "cell_type": "markdown",
   "id": "ea530837",
   "metadata": {},
   "source": [
    "# Learning with large detasets"
   ]
  },
  {
   "cell_type": "markdown",
   "id": "792822c1",
   "metadata": {},
   "source": [
    "<video controls src=\"video/Lecture 17.1 — Large Scale Machine Learning _ Learning With Large Datasets — [ Andrew Ng ].mp4\"/>animation</video>"
   ]
  },
  {
   "cell_type": "markdown",
   "id": "9d331af3",
   "metadata": {},
   "source": [
    "# Stochastic gradient descent"
   ]
  },
  {
   "cell_type": "markdown",
   "id": "b15c3fc7",
   "metadata": {},
   "source": [
    "<video controls src=\"video/Lecture 17.2 — Large Scale Machine Learning _ Stochastic Gradient Descent — [ Andrew Ng ].mp4\"/>animation</video>"
   ]
  },
  {
   "cell_type": "markdown",
   "id": "23dff60e",
   "metadata": {},
   "source": [
    "# Mini-batch gradient descent"
   ]
  },
  {
   "cell_type": "markdown",
   "id": "a1cb4311",
   "metadata": {},
   "source": [
    "<video controls src=\"video/Lecture 17.3 — Large Scale Machine Learning _ Mini Batch Gradient Descent — [ Andrew Ng ].mp4\"/>animation</video>"
   ]
  },
  {
   "cell_type": "markdown",
   "id": "22be00c5",
   "metadata": {},
   "source": [
    "# Stochastic gradient descent convergence"
   ]
  },
  {
   "cell_type": "markdown",
   "id": "cb612ed9",
   "metadata": {},
   "source": [
    "<video controls src=\"video/Lecture 17.4 — Large Scale Machine Learning _ Stochastic Gradient Descent Convergence.mp4\"/>animation</video>"
   ]
  },
  {
   "cell_type": "markdown",
   "id": "d2cbcebd",
   "metadata": {},
   "source": [
    "# Online learning"
   ]
  },
  {
   "cell_type": "markdown",
   "id": "0ba25ffb",
   "metadata": {},
   "source": [
    "<video controls src=\"video/Lecture 17.5 — Large Scale Machine Learning _ Online Learning — [ Machine Learning _ Andrew Ng ].mp4\"/>animation</video>"
   ]
  },
  {
   "cell_type": "markdown",
   "id": "82347d28",
   "metadata": {},
   "source": [
    "# Map-reduce and data parallelism"
   ]
  },
  {
   "cell_type": "markdown",
   "id": "cc7220e7",
   "metadata": {},
   "source": [
    "<video controls src=\"video/Lecture 17.6 — Large Scale Machine Learning _ Map Reduce And Data Parallelism — [ Andrew Ng ].mp4\"/>animation</video>"
   ]
  },
  {
   "cell_type": "code",
   "execution_count": null,
   "id": "31ba478c",
   "metadata": {},
   "outputs": [],
   "source": []
  }
 ],
 "metadata": {
  "kernelspec": {
   "display_name": "Python 3",
   "language": "python",
   "name": "python3"
  },
  "language_info": {
   "codemirror_mode": {
    "name": "ipython",
    "version": 3
   },
   "file_extension": ".py",
   "mimetype": "text/x-python",
   "name": "python",
   "nbconvert_exporter": "python",
   "pygments_lexer": "ipython3",
   "version": "3.8.0"
  },
  "toc": {
   "base_numbering": 1,
   "nav_menu": {},
   "number_sections": true,
   "sideBar": true,
   "skip_h1_title": false,
   "title_cell": "Table of Contents",
   "title_sidebar": "Contents",
   "toc_cell": false,
   "toc_position": {},
   "toc_section_display": true,
   "toc_window_display": true
  }
 },
 "nbformat": 4,
 "nbformat_minor": 5
}
