{
 "cells": [
  {
   "cell_type": "markdown",
   "id": "fb21896b",
   "metadata": {},
   "source": [
    "# Photo OCR - Problem description and pipeline"
   ]
  },
  {
   "cell_type": "markdown",
   "id": "4ccd1453",
   "metadata": {},
   "source": [
    "<video controls src=\"video/Lecture 18.1 — Application Example Photo OCR _ Problem Description And Pipeline — [ Andrew Ng ].mp4\"/>animation</video>"
   ]
  },
  {
   "cell_type": "markdown",
   "id": "85b2b86f",
   "metadata": {},
   "source": [
    "# Photo OCR - Sliding windows"
   ]
  },
  {
   "cell_type": "markdown",
   "id": "d01ca75c",
   "metadata": {},
   "source": [
    "<video controls src=\"video/Lecture 18.2 — Application Example Photo OCR _ Sliding Windows — [ Machine Learning _ Andrew Ng ].mp4\"/>animation</video>"
   ]
  },
  {
   "cell_type": "markdown",
   "id": "050ecbc4",
   "metadata": {},
   "source": [
    "# Photo OCR - Getting lots of data: Artificial data synthesis"
   ]
  },
  {
   "cell_type": "markdown",
   "id": "8943bf07",
   "metadata": {},
   "source": [
    "<video controls src=\"video/Lecture 18.3 — Application Example Photo OCR _ Getting Lots Of Data Artificial Data Synthesis.mp4\"/>animation</video>"
   ]
  },
  {
   "cell_type": "markdown",
   "id": "ad9b86c3",
   "metadata": {},
   "source": [
    "# Photo OCR - Ceiling synthesis: What part of the pipeline to work on next"
   ]
  },
  {
   "cell_type": "markdown",
   "id": "9ea937b8",
   "metadata": {},
   "source": [
    "<video controls src=\"video/Lecture 18.4 — Application Example Photo OCR _ Ceiling Analysis _ What Part to Work On Next.mp4\"/>animation</video>"
   ]
  },
  {
   "cell_type": "markdown",
   "id": "36a6fa73",
   "metadata": {},
   "source": [
    "# Conclusion - Summary and Thank you"
   ]
  },
  {
   "cell_type": "markdown",
   "id": "e3114442",
   "metadata": {},
   "source": [
    "<video controls src=\"video/Lecture 19 — Conclusion Summary And ThankYou — [ Andrew Ng _ Stanford University ].mp4\"/>animation</video>"
   ]
  }
 ],
 "metadata": {
  "kernelspec": {
   "display_name": "Python 3",
   "language": "python",
   "name": "python3"
  },
  "language_info": {
   "codemirror_mode": {
    "name": "ipython",
    "version": 3
   },
   "file_extension": ".py",
   "mimetype": "text/x-python",
   "name": "python",
   "nbconvert_exporter": "python",
   "pygments_lexer": "ipython3",
   "version": "3.8.0"
  },
  "toc": {
   "base_numbering": 1,
   "nav_menu": {},
   "number_sections": true,
   "sideBar": true,
   "skip_h1_title": false,
   "title_cell": "Table of Contents",
   "title_sidebar": "Contents",
   "toc_cell": false,
   "toc_position": {},
   "toc_section_display": true,
   "toc_window_display": true
  }
 },
 "nbformat": 4,
 "nbformat_minor": 5
}
