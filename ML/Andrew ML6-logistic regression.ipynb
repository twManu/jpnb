{
 "cells": [
  {
   "cell_type": "markdown",
   "metadata": {
    "toc": true
   },
   "source": [
    "<h1>Table of Contents<span class=\"tocSkip\"></span></h1>\n",
    "<div class=\"toc\"><ul class=\"toc-item\"><li><span><a href=\"#Classification\" data-toc-modified-id=\"Classification-1\"><span class=\"toc-item-num\">1&nbsp;&nbsp;</span>Classification</a></span></li><li><span><a href=\"#Hypothesis-Representation\" data-toc-modified-id=\"Hypothesis-Representation-2\"><span class=\"toc-item-num\">2&nbsp;&nbsp;</span>Hypothesis Representation</a></span><ul class=\"toc-item\"><li><span><a href=\"#formula\" data-toc-modified-id=\"formula-2.1\"><span class=\"toc-item-num\">2.1&nbsp;&nbsp;</span>formula</a></span></li></ul></li><li><span><a href=\"#Decision-boundary\" data-toc-modified-id=\"Decision-boundary-3\"><span class=\"toc-item-num\">3&nbsp;&nbsp;</span>Decision boundary</a></span><ul class=\"toc-item\"><li><span><a href=\"#positive-predict\" data-toc-modified-id=\"positive-predict-3.1\"><span class=\"toc-item-num\">3.1&nbsp;&nbsp;</span>positive predict</a></span></li><li><span><a href=\"#boundary-for-parameter-not-data-set\" data-toc-modified-id=\"boundary-for-parameter-not-data-set-3.2\"><span class=\"toc-item-num\">3.2&nbsp;&nbsp;</span>boundary for parameter not data set</a></span></li></ul></li><li><span><a href=\"#Cost-function\" data-toc-modified-id=\"Cost-function-4\"><span class=\"toc-item-num\">4&nbsp;&nbsp;</span>Cost function</a></span><ul class=\"toc-item\"><li><span><a href=\"#M-samples,-N-features,-logistic-hypothesis\" data-toc-modified-id=\"M-samples,-N-features,-logistic-hypothesis-4.1\"><span class=\"toc-item-num\">4.1&nbsp;&nbsp;</span>M samples, N features, logistic hypothesis</a></span></li><li><span><a href=\"#Avoid-using-cost-function-of-linear-regression-which-is-non-convex\" data-toc-modified-id=\"Avoid-using-cost-function-of-linear-regression-which-is-non-convex-4.2\"><span class=\"toc-item-num\">4.2&nbsp;&nbsp;</span>Avoid using cost function of linear regression which is non-convex</a></span></li><li><span><a href=\"#Cost-function-for-logistic-y=1\" data-toc-modified-id=\"Cost-function-for-logistic-y=1-4.3\"><span class=\"toc-item-num\">4.3&nbsp;&nbsp;</span>Cost function for logistic y=1</a></span></li><li><span><a href=\"#Cost-function-for-logistic-y=0\" data-toc-modified-id=\"Cost-function-for-logistic-y=0-4.4\"><span class=\"toc-item-num\">4.4&nbsp;&nbsp;</span>Cost function for logistic y=0</a></span></li></ul></li><li><span><a href=\"#Simplified-cost-function-and-gradient-descent\" data-toc-modified-id=\"Simplified-cost-function-and-gradient-descent-5\"><span class=\"toc-item-num\">5&nbsp;&nbsp;</span>Simplified cost function and gradient descent</a></span><ul class=\"toc-item\"><li><span><a href=\"#Simplified-Cost-function\" data-toc-modified-id=\"Simplified-Cost-function-5.1\"><span class=\"toc-item-num\">5.1&nbsp;&nbsp;</span>Simplified Cost function</a></span></li><li><span><a href=\"#對-cost-function-偏微分\" data-toc-modified-id=\"對-cost-function-偏微分-5.2\"><span class=\"toc-item-num\">5.2&nbsp;&nbsp;</span>對 cost function 偏微分</a></span></li><li><span><a href=\"#選了-Hypothesis-後,-Gradient-Descent-相同\" data-toc-modified-id=\"選了-Hypothesis-後,-Gradient-Descent-相同-5.3\"><span class=\"toc-item-num\">5.3&nbsp;&nbsp;</span>選了 Hypothesis 後, Gradient Descent 相同</a></span></li></ul></li><li><span><a href=\"#Advanced-optimization\" data-toc-modified-id=\"Advanced-optimization-6\"><span class=\"toc-item-num\">6&nbsp;&nbsp;</span>Advanced optimization</a></span><ul class=\"toc-item\"><li><span><a href=\"#Pros-and-Cons\" data-toc-modified-id=\"Pros-and-Cons-6.1\"><span class=\"toc-item-num\">6.1&nbsp;&nbsp;</span>Pros and Cons</a></span></li><li><span><a href=\"#Octave-way\" data-toc-modified-id=\"Octave-way-6.2\"><span class=\"toc-item-num\">6.2&nbsp;&nbsp;</span>Octave way</a></span></li><li><span><a href=\"#Octave-需寫-code-for-cost-and-gradient(i)\" data-toc-modified-id=\"Octave-需寫-code-for-cost-and-gradient(i)-6.3\"><span class=\"toc-item-num\">6.3&nbsp;&nbsp;</span>Octave 需寫 code for cost and gradient(i)</a></span></li></ul></li><li><span><a href=\"#Multi-class-classification:-One-vs-all\" data-toc-modified-id=\"Multi-class-classification:-One-vs-all-7\"><span class=\"toc-item-num\">7&nbsp;&nbsp;</span>Multi-class classification: One-vs-all</a></span><ul class=\"toc-item\"><li><span><a href=\"#Definition\" data-toc-modified-id=\"Definition-7.1\"><span class=\"toc-item-num\">7.1&nbsp;&nbsp;</span>Definition</a></span></li><li><span><a href=\"#The-idea\" data-toc-modified-id=\"The-idea-7.2\"><span class=\"toc-item-num\">7.2&nbsp;&nbsp;</span>The idea</a></span></li><li><span><a href=\"#Pick-the-Max\" data-toc-modified-id=\"Pick-the-Max-7.3\"><span class=\"toc-item-num\">7.3&nbsp;&nbsp;</span>Pick the Max</a></span></li></ul></li></ul></div>"
   ]
  },
  {
   "cell_type": "markdown",
   "metadata": {},
   "source": [
    "# Classification"
   ]
  },
  {
   "cell_type": "markdown",
   "metadata": {},
   "source": [
    "<video controls src=\"video/yt1s.com - 33机器学习Machine Learning 吴恩达Andrew Ng中文字幕版Classification 中英机翻_480p.mp4\"/>animation</video>"
   ]
  },
  {
   "cell_type": "markdown",
   "metadata": {},
   "source": [
    "# Hypothesis Representation"
   ]
  },
  {
   "cell_type": "markdown",
   "metadata": {},
   "source": [
    "<video controls src=\"video/yt1s.com - 34机器学习Machine Learning 吴恩达Andrew Ng中文字幕版 Hypothesis Representation 中文_480p.mp4\"/>animation</video>"
   ]
  },
  {
   "cell_type": "markdown",
   "metadata": {},
   "source": [
    "## formula\n",
    "![title](pic/classificationFormula.png)"
   ]
  },
  {
   "cell_type": "markdown",
   "metadata": {},
   "source": [
    "# Decision boundary"
   ]
  },
  {
   "cell_type": "markdown",
   "metadata": {},
   "source": [
    "<video controls src=\"video/yt1s.com - 35机器学习Machine Learning 吴恩达Andrew Ng中文字幕版Decision Boundary 中英_480p.mp4\"/>animation</video>"
   ]
  },
  {
   "cell_type": "markdown",
   "metadata": {},
   "source": [
    "## positive predict\n",
    "![title](pic/decisionBoundayZero.png)"
   ]
  },
  {
   "cell_type": "markdown",
   "metadata": {},
   "source": [
    "## boundary for parameter not data set\n",
    "![title](pic/decisionBoundaryOfParameter.png)"
   ]
  },
  {
   "cell_type": "markdown",
   "metadata": {},
   "source": [
    "# Cost function"
   ]
  },
  {
   "cell_type": "markdown",
   "metadata": {},
   "source": [
    "<video controls src=\"video/yt1s.com - 36机器学习Machine Learning 吴恩达Andrew Ng中文字幕版Cost Function 中英_480p.mp4\"/>animation</video>"
   ]
  },
  {
   "cell_type": "markdown",
   "metadata": {},
   "source": [
    "## M samples, N features, logistic hypothesis\n",
    "![title](pic/logisticMsamplesNfeatures.png)"
   ]
  },
  {
   "cell_type": "markdown",
   "metadata": {},
   "source": [
    "## Avoid using cost function of linear regression which is non-convex\n",
    "![title](pic/logisticNonConvexIfUsingLinearRegressionCost.png)"
   ]
  },
  {
   "cell_type": "markdown",
   "metadata": {},
   "source": [
    "## Cost function for logistic y=1\n",
    "![title](pic/logisticCostFunction.png)"
   ]
  },
  {
   "cell_type": "markdown",
   "metadata": {},
   "source": [
    "## Cost function for logistic y=0\n",
    "![title](pic/logisticCostFunction0.png)"
   ]
  },
  {
   "cell_type": "markdown",
   "metadata": {},
   "source": [
    "# Simplified cost function and gradient descent"
   ]
  },
  {
   "cell_type": "markdown",
   "metadata": {},
   "source": [
    "<video controls src=\"video/yt1s.com - 37机器学习Machine Learning 吴恩达Andrew Ng中文字幕版Simplified Cost Function and_480p.mp4\"/>animation</video>"
   ]
  },
  {
   "cell_type": "markdown",
   "metadata": {},
   "source": [
    "## Simplified Cost function\n",
    "![title](pic/logisticCostFunctionSimplified.png)"
   ]
  },
  {
   "cell_type": "markdown",
   "metadata": {},
   "source": [
    "## 對 cost function 偏微分\n",
    "![title](pic/logisticGradientDescent.png)"
   ]
  },
  {
   "cell_type": "markdown",
   "metadata": {},
   "source": [
    "## 選了 Hypothesis 後, Gradient Descent 相同\n",
    "![title](pic/GradientDescentSameOwningToHypothesis.png)"
   ]
  },
  {
   "cell_type": "markdown",
   "metadata": {},
   "source": [
    "# Advanced optimization"
   ]
  },
  {
   "cell_type": "markdown",
   "metadata": {},
   "source": [
    "<video controls src=\"video/yt1s.com - 38机器学习Machine Learning 吴恩达Andrew Ng中文字幕版 Advanced Optimization 中英_480p.mp4\"/>animation</video>"
   ]
  },
  {
   "cell_type": "markdown",
   "metadata": {},
   "source": [
    "## Pros and Cons\n",
    "- Pros:\n",
    "    - No need to manually pick alpha\n",
    "    - Often faster than gradient descent\n",
    "- Cons:\n",
    "    - more complex\n",
    "![title](pic/AdvancedOptimizationProsCons.png)"
   ]
  },
  {
   "cell_type": "markdown",
   "metadata": {},
   "source": [
    "## Octave way\n",
    "- function return 3 values (optTheta, functionVal, exitFlag)\n",
    "![title](pic/AdvancedOptimizationOctave.png)"
   ]
  },
  {
   "cell_type": "markdown",
   "metadata": {},
   "source": [
    "## Octave 需寫 code for cost and gradient(i)\n",
    "![title](pic/AdvancedOptimizationOctaveFunctions.png)"
   ]
  },
  {
   "cell_type": "markdown",
   "metadata": {},
   "source": [
    "# Multi-class classification: One-vs-all"
   ]
  },
  {
   "cell_type": "markdown",
   "metadata": {},
   "source": [
    "<video controls src=\"video/yt1s.com - 39机器学习Machine Learning 吴恩达Andrew Ng中文字幕版Multiclass Classification  On_480p.mp4\"/>animation</video>"
   ]
  },
  {
   "cell_type": "markdown",
   "metadata": {},
   "source": [
    "## Definition\n",
    "![title](pic/MulticlassClassificationDef.png)"
   ]
  },
  {
   "cell_type": "markdown",
   "metadata": {},
   "source": [
    "## The idea\n",
    "![title](pic/MulticlassClassificationTheIdea.png)"
   ]
  },
  {
   "cell_type": "markdown",
   "metadata": {},
   "source": [
    "## Pick the Max\n",
    "![title](pic/MulticlassclassificationPickMax.png)"
   ]
  }
 ],
 "metadata": {
  "kernelspec": {
   "display_name": "Python 3",
   "language": "python",
   "name": "python3"
  },
  "language_info": {
   "codemirror_mode": {
    "name": "ipython",
    "version": 3
   },
   "file_extension": ".py",
   "mimetype": "text/x-python",
   "name": "python",
   "nbconvert_exporter": "python",
   "pygments_lexer": "ipython3",
   "version": "3.8.0"
  },
  "toc": {
   "base_numbering": 1,
   "nav_menu": {},
   "number_sections": true,
   "sideBar": true,
   "skip_h1_title": false,
   "title_cell": "Table of Contents",
   "title_sidebar": "Contents",
   "toc_cell": true,
   "toc_position": {},
   "toc_section_display": true,
   "toc_window_display": true
  }
 },
 "nbformat": 4,
 "nbformat_minor": 4
}
