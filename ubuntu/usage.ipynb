{
 "cells": [
  {
   "cell_type": "markdown",
   "id": "ffed9992",
   "metadata": {},
   "source": [
    "# Barrier"
   ]
  },
  {
   "cell_type": "markdown",
   "id": "c7704dfd",
   "metadata": {},
   "source": [
    "## $ sudo apt install snapd"
   ]
  },
  {
   "cell_type": "markdown",
   "id": "3cef6656",
   "metadata": {},
   "source": [
    "## $ sudo snap install barrier"
   ]
  },
  {
   "cell_type": "markdown",
   "id": "cd2a5cb9",
   "metadata": {},
   "source": [
    "![title](pic/barrierNanoServer.png)"
   ]
  },
  {
   "cell_type": "markdown",
   "id": "3e6e2323",
   "metadata": {},
   "source": [
    "![title](pic/barrierClient.png)"
   ]
  },
  {
   "cell_type": "markdown",
   "id": "8ab82213",
   "metadata": {},
   "source": [
    "# 大易輸入"
   ]
  },
  {
   "cell_type": "markdown",
   "id": "ef47078e",
   "metadata": {},
   "source": [
    "[dayi-ibus](https://uzch.blogspot.com/2019/03/ubuntu-18041-ibus-dayi.html)"
   ]
  },
  {
   "cell_type": "markdown",
   "id": "dde31d6a",
   "metadata": {},
   "source": [
    "# Virtual Env"
   ]
  },
  {
   "cell_type": "markdown",
   "id": "35e64975",
   "metadata": {},
   "source": [
    "![title](pic/createVirtual.png)"
   ]
  },
  {
   "cell_type": "markdown",
   "id": "f52231da",
   "metadata": {},
   "source": [
    "## source tutorial-env/bin/activate 可進入虛擬機"
   ]
  },
  {
   "cell_type": "markdown",
   "id": "401c719c",
   "metadata": {},
   "source": [
    "## deactivate 可離開虛擬機"
   ]
  },
  {
   "cell_type": "code",
   "execution_count": null,
   "id": "6d549d28",
   "metadata": {},
   "outputs": [],
   "source": []
  }
 ],
 "metadata": {
  "kernelspec": {
   "display_name": "Python 3",
   "language": "python",
   "name": "python3"
  },
  "language_info": {
   "codemirror_mode": {
    "name": "ipython",
    "version": 3
   },
   "file_extension": ".py",
   "mimetype": "text/x-python",
   "name": "python",
   "nbconvert_exporter": "python",
   "pygments_lexer": "ipython3",
   "version": "3.8.0"
  },
  "toc": {
   "base_numbering": 1,
   "nav_menu": {},
   "number_sections": true,
   "sideBar": true,
   "skip_h1_title": false,
   "title_cell": "Table of Contents",
   "title_sidebar": "Contents",
   "toc_cell": false,
   "toc_position": {
    "height": "calc(100% - 180px)",
    "left": "10px",
    "top": "150px",
    "width": "360px"
   },
   "toc_section_display": true,
   "toc_window_display": true
  }
 },
 "nbformat": 4,
 "nbformat_minor": 5
}
